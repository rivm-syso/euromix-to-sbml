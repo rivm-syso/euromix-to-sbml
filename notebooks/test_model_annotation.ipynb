{
 "cells": [
  {
   "cell_type": "markdown",
   "metadata": {},
   "source": [
    "# Model annotation"
   ]
  },
  {
   "cell_type": "markdown",
   "metadata": {},
   "source": [
    "## Read annotations file"
   ]
  },
  {
   "cell_type": "code",
   "execution_count": 4,
   "metadata": {},
   "outputs": [
    {
     "data": {
      "text/html": [
       "<pre style=\"white-space:pre;overflow-x:auto;line-height:normal;font-family:Menlo,'DejaVu Sans Mono',consolas,'Courier New',monospace\"></pre>\n"
      ],
      "text/plain": []
     },
     "metadata": {},
     "output_type": "display_data"
    },
    {
     "data": {
      "text/html": [
       "<div>\n",
       "<style scoped>\n",
       "    .dataframe tbody tr th:only-of-type {\n",
       "        vertical-align: middle;\n",
       "    }\n",
       "\n",
       "    .dataframe tbody tr th {\n",
       "        vertical-align: top;\n",
       "    }\n",
       "\n",
       "    .dataframe thead th {\n",
       "        text-align: right;\n",
       "    }\n",
       "</style>\n",
       "<table border=\"1\" class=\"dataframe\">\n",
       "  <thead>\n",
       "    <tr style=\"text-align: right;\">\n",
       "      <th></th>\n",
       "      <th>pattern</th>\n",
       "      <th>sbml_type</th>\n",
       "      <th>element_id</th>\n",
       "      <th>element_description</th>\n",
       "      <th>annotation_type</th>\n",
       "      <th>qualifier</th>\n",
       "      <th>resource</th>\n",
       "      <th>name</th>\n",
       "      <th>remark</th>\n",
       "    </tr>\n",
       "  </thead>\n",
       "  <tbody>\n",
       "    <tr>\n",
       "      <th>0</th>\n",
       "      <td>NaN</td>\n",
       "      <td>document</td>\n",
       "      <td>NaN</td>\n",
       "      <td>NaN</td>\n",
       "      <td>rdf</td>\n",
       "      <td>BQM_IS</td>\n",
       "      <td>mamo/MAMO_0000203</td>\n",
       "      <td>physiologically based pharmacokinetic model</td>\n",
       "      <td>NaN</td>\n",
       "    </tr>\n",
       "    <tr>\n",
       "      <th>1</th>\n",
       "      <td>NaN</td>\n",
       "      <td>document</td>\n",
       "      <td>NaN</td>\n",
       "      <td>NaN</td>\n",
       "      <td>rdf</td>\n",
       "      <td>BQM_IS</td>\n",
       "      <td>mamo/MAMO_0000046</td>\n",
       "      <td>ordinary differential equation model</td>\n",
       "      <td>NaN</td>\n",
       "    </tr>\n",
       "    <tr>\n",
       "      <th>2</th>\n",
       "      <td>NaN</td>\n",
       "      <td>document</td>\n",
       "      <td>NaN</td>\n",
       "      <td>NaN</td>\n",
       "      <td>rdf</td>\n",
       "      <td>BQB_HAS_TAXON</td>\n",
       "      <td>taxonomy/40674</td>\n",
       "      <td>mammalia</td>\n",
       "      <td>NaN</td>\n",
       "    </tr>\n",
       "    <tr>\n",
       "      <th>3</th>\n",
       "      <td>default_compartment</td>\n",
       "      <td>compartment</td>\n",
       "      <td>default_compartment</td>\n",
       "      <td>NaN</td>\n",
       "      <td>rdf</td>\n",
       "      <td>BQB_IS</td>\n",
       "      <td>sbo/SBO:0000290</td>\n",
       "      <td>physical compartment</td>\n",
       "      <td>Seems to be used for QAir and QExcrete. Better...</td>\n",
       "    </tr>\n",
       "    <tr>\n",
       "      <th>4</th>\n",
       "      <td>Fat</td>\n",
       "      <td>compartment</td>\n",
       "      <td>Fat</td>\n",
       "      <td>adipose tissue</td>\n",
       "      <td>rdf</td>\n",
       "      <td>BQB_IS</td>\n",
       "      <td>uberon/UBERON:0001013</td>\n",
       "      <td>adipose tissue</td>\n",
       "      <td>NaN</td>\n",
       "    </tr>\n",
       "    <tr>\n",
       "      <th>...</th>\n",
       "      <td>...</td>\n",
       "      <td>...</td>\n",
       "      <td>...</td>\n",
       "      <td>...</td>\n",
       "      <td>...</td>\n",
       "      <td>...</td>\n",
       "      <td>...</td>\n",
       "      <td>...</td>\n",
       "      <td>...</td>\n",
       "    </tr>\n",
       "    <tr>\n",
       "      <th>77</th>\n",
       "      <td>kGut</td>\n",
       "      <td>parameter</td>\n",
       "      <td>kGut</td>\n",
       "      <td>oral 1st order absorption rate constant</td>\n",
       "      <td>rdf</td>\n",
       "      <td>BQB_IS</td>\n",
       "      <td>pbpko/PKPBO:00126</td>\n",
       "      <td>absorption rate constant gut</td>\n",
       "      <td>Both kGut and Frac refer to absorption. What t...</td>\n",
       "    </tr>\n",
       "    <tr>\n",
       "      <th>78</th>\n",
       "      <td>CLH</td>\n",
       "      <td>parameter</td>\n",
       "      <td>CLH</td>\n",
       "      <td>hepatic metabolic clearance</td>\n",
       "      <td>rdf</td>\n",
       "      <td>BQB_IS</td>\n",
       "      <td>pbpko/PKPBO:00215</td>\n",
       "      <td>heaptic clearance</td>\n",
       "      <td>Using PKPBO term heaptic clearance (typo?)</td>\n",
       "    </tr>\n",
       "    <tr>\n",
       "      <th>79</th>\n",
       "      <td>Ke</td>\n",
       "      <td>parameter</td>\n",
       "      <td>Ke</td>\n",
       "      <td>renal excretion rate</td>\n",
       "      <td>rdf</td>\n",
       "      <td>BQB_IS</td>\n",
       "      <td>pbpko/PKPBO:00218</td>\n",
       "      <td>renal elimination rate constant</td>\n",
       "      <td>NaN</td>\n",
       "    </tr>\n",
       "    <tr>\n",
       "      <th>80</th>\n",
       "      <td>f_su</td>\n",
       "      <td>parameter</td>\n",
       "      <td>f_su</td>\n",
       "      <td>???</td>\n",
       "      <td>rdf</td>\n",
       "      <td>BQB_IS</td>\n",
       "      <td>pbpko/PKPBO:00003</td>\n",
       "      <td>physiological parameters</td>\n",
       "      <td>Using generic term for physiological parameter...</td>\n",
       "    </tr>\n",
       "    <tr>\n",
       "      <th>81</th>\n",
       "      <td>f_se</td>\n",
       "      <td>parameter</td>\n",
       "      <td>f_se</td>\n",
       "      <td>???</td>\n",
       "      <td>rdf</td>\n",
       "      <td>BQB_IS</td>\n",
       "      <td>pbpko/PKPBO:00003</td>\n",
       "      <td>physiological parameters</td>\n",
       "      <td>Using generic term for physiological parameter...</td>\n",
       "    </tr>\n",
       "  </tbody>\n",
       "</table>\n",
       "<p>82 rows × 9 columns</p>\n",
       "</div>"
      ],
      "text/plain": [
       "\n",
       "                pattern    sbml_type           element_id  \\\n",
       "\u001b[1;36m0\u001b[0m                   NaN     document                  NaN   \n",
       "\u001b[1;36m1\u001b[0m                   NaN     document                  NaN   \n",
       "\u001b[1;36m2\u001b[0m                   NaN     document                  NaN   \n",
       "\u001b[1;36m3\u001b[0m   default_compartment  compartment  default_compartment   \n",
       "\u001b[1;36m4\u001b[0m                   Fat  compartment                  Fat   \n",
       "..                  \u001b[33m...\u001b[0m          \u001b[33m...\u001b[0m                  \u001b[33m...\u001b[0m   \n",
       "\u001b[1;36m77\u001b[0m                 kGut    parameter                 kGut   \n",
       "\u001b[1;36m78\u001b[0m                  CLH    parameter                  CLH   \n",
       "\u001b[1;36m79\u001b[0m                   Ke    parameter                   Ke   \n",
       "\u001b[1;36m80\u001b[0m                 f_su    parameter                 f_su   \n",
       "\u001b[1;36m81\u001b[0m                 f_se    parameter                 f_se   \n",
       "\n",
       "                        element_description annotation_type      qualifier  \\\n",
       "\u001b[1;36m0\u001b[0m                                       NaN             rdf         BQM_IS   \n",
       "\u001b[1;36m1\u001b[0m                                       NaN             rdf         BQM_IS   \n",
       "\u001b[1;36m2\u001b[0m                                       NaN             rdf  BQB_HAS_TAXON   \n",
       "\u001b[1;36m3\u001b[0m                                       NaN             rdf         BQB_IS   \n",
       "\u001b[1;36m4\u001b[0m                            adipose tissue             rdf         BQB_IS   \n",
       "..                                      \u001b[33m...\u001b[0m             \u001b[33m...\u001b[0m            \u001b[33m...\u001b[0m   \n",
       "\u001b[1;36m77\u001b[0m  oral 1st order absorption rate constant             rdf         BQB_IS   \n",
       "\u001b[1;36m78\u001b[0m              hepatic metabolic clearance             rdf         BQB_IS   \n",
       "\u001b[1;36m79\u001b[0m                     renal excretion rate             rdf         BQB_IS   \n",
       "\u001b[1;36m80\u001b[0m                                      ???             rdf         BQB_IS   \n",
       "\u001b[1;36m81\u001b[0m                                      ???             rdf         BQB_IS   \n",
       "\n",
       "                 resource                                         name  \\\n",
       "\u001b[1;36m0\u001b[0m       mamo/MAMO_0000203  physiologically based pharmacokinetic model   \n",
       "\u001b[1;36m1\u001b[0m       mamo/MAMO_0000046         ordinary differential equation model   \n",
       "\u001b[1;36m2\u001b[0m          taxonomy/\u001b[1;36m40674\u001b[0m                                     mammalia   \n",
       "\u001b[1;36m3\u001b[0m         sbo/SBO:\u001b[1;36m0000290\u001b[0m                         physical compartment   \n",
       "\u001b[1;36m4\u001b[0m   uberon/UBERON:\u001b[1;36m0001013\u001b[0m                               adipose tissue   \n",
       "..                    \u001b[33m...\u001b[0m                                          \u001b[33m...\u001b[0m   \n",
       "\u001b[1;36m77\u001b[0m      pbpko/PKPBO:\u001b[1;36m00126\u001b[0m                 absorption rate constant gut   \n",
       "\u001b[1;36m78\u001b[0m      pbpko/PKPBO:\u001b[1;36m00215\u001b[0m                            heaptic clearance   \n",
       "\u001b[1;36m79\u001b[0m      pbpko/PKPBO:\u001b[1;36m00218\u001b[0m              renal elimination rate constant   \n",
       "\u001b[1;36m80\u001b[0m      pbpko/PKPBO:\u001b[1;36m00003\u001b[0m                     physiological parameters   \n",
       "\u001b[1;36m81\u001b[0m      pbpko/PKPBO:\u001b[1;36m00003\u001b[0m                     physiological parameters   \n",
       "\n",
       "                                               remark  \n",
       "\u001b[1;36m0\u001b[0m                                                 NaN  \n",
       "\u001b[1;36m1\u001b[0m                                                 NaN  \n",
       "\u001b[1;36m2\u001b[0m                                                 NaN  \n",
       "\u001b[1;36m3\u001b[0m   Seems to be used for QAir and QExcrete. Better\u001b[33m...\u001b[0m  \n",
       "\u001b[1;36m4\u001b[0m                                                 NaN  \n",
       "..                                                \u001b[33m...\u001b[0m  \n",
       "\u001b[1;36m77\u001b[0m  Both kGut and Frac refer to absorption. What t\u001b[33m...\u001b[0m  \n",
       "\u001b[1;36m78\u001b[0m         Using PKPBO term heaptic clearance \u001b[1m(\u001b[0mtypo?\u001b[1m)\u001b[0m  \n",
       "\u001b[1;36m79\u001b[0m                                                NaN  \n",
       "\u001b[1;36m80\u001b[0m  Using generic term for physiological parameter\u001b[33m...\u001b[0m  \n",
       "\u001b[1;36m81\u001b[0m  Using generic term for physiological parameter\u001b[33m...\u001b[0m  \n",
       "\n",
       "\u001b[1m[\u001b[0m\u001b[1;36m82\u001b[0m rows x \u001b[1;36m9\u001b[0m columns\u001b[1m]\u001b[0m"
      ]
     },
     "execution_count": 4,
     "metadata": {},
     "output_type": "execute_result"
    }
   ],
   "source": [
    "from sbmlutils.metadata.annotator import ModelAnnotator\n",
    "df = ModelAnnotator.read_annotations_df('../model/euromix.terms.csv', file_format=\"csv\")\n",
    "df"
   ]
  },
  {
   "cell_type": "markdown",
   "metadata": {},
   "source": [
    "## Annotate the model"
   ]
  },
  {
   "cell_type": "code",
   "execution_count": 5,
   "metadata": {},
   "outputs": [
    {
     "data": {
      "text/html": [
       "<pre style=\"white-space:pre;overflow-x:auto;line-height:normal;font-family:Menlo,'DejaVu Sans Mono',consolas,'Courier New',monospace\"><span style=\"color: #800000; text-decoration-color: #800000; font-weight: bold\">ERROR   </span> All SBML paths should be of type <span style=\"color: #008000; text-decoration-color: #008000\">'Path'</span>, but <span style=\"color: #008000; text-decoration-color: #008000\">'&lt;class '</span><span style=\"color: #000000; text-decoration-color: #000000\">str'</span><span style=\"font-weight: bold\">&gt;</span>' found for: ..<span style=\"color: #800080; text-decoration-color: #800080\">/model/</span><span style=\"color: #ff00ff; text-decoration-color: #ff00ff\">euromix.sbml</span>   <a href=\"file://c:\\Programs\\python\\Lib\\site-packages\\sbmlutils\\io\\sbml.py\" target=\"_blank\"><span style=\"color: #7f7f7f; text-decoration-color: #7f7f7f\">sbml.py</span></a><span style=\"color: #7f7f7f; text-decoration-color: #7f7f7f\">:</span><a href=\"file://c:\\Programs\\python\\Lib\\site-packages\\sbmlutils\\io\\sbml.py#44\" target=\"_blank\"><span style=\"color: #7f7f7f; text-decoration-color: #7f7f7f\">44</span></a>\n",
       "</pre>\n"
      ],
      "text/plain": [
       "\u001b[1;31mERROR   \u001b[0m All SBML paths should be of type \u001b[32m'Path'\u001b[0m, but \u001b[32m'\u001b[0m\u001b[32m<\u001b[0m\u001b[32mclass\u001b[0m\u001b[32m '\u001b[0m\u001b[39mstr'\u001b[0m\u001b[1m>\u001b[0m' found for: ..\u001b[35m/model/\u001b[0m\u001b[95meuromix.sbml\u001b[0m   \u001b]8;id=215247;file://c:\\Programs\\python\\Lib\\site-packages\\sbmlutils\\io\\sbml.py\u001b\\\u001b[2msbml.py\u001b[0m\u001b]8;;\u001b\\\u001b[2m:\u001b[0m\u001b]8;id=76796;file://c:\\Programs\\python\\Lib\\site-packages\\sbmlutils\\io\\sbml.py#44\u001b\\\u001b[2m44\u001b[0m\u001b]8;;\u001b\\\n"
      ]
     },
     "metadata": {},
     "output_type": "display_data"
    },
    {
     "data": {
      "text/html": [
       "<pre style=\"white-space:pre;overflow-x:auto;line-height:normal;font-family:Menlo,'DejaVu Sans Mono',consolas,'Courier New',monospace\"><span style=\"color: #800000; text-decoration-color: #800000; font-weight: bold\">ERROR   </span> MIRIAM collection `obo` does not exist for term `NCIT:C81328`                            <a href=\"file://c:\\Programs\\python\\Lib\\site-packages\\pymetadata\\core\\annotation.py\" target=\"_blank\"><span style=\"color: #7f7f7f; text-decoration-color: #7f7f7f\">annotation.py</span></a><span style=\"color: #7f7f7f; text-decoration-color: #7f7f7f\">:</span><a href=\"file://c:\\Programs\\python\\Lib\\site-packages\\pymetadata\\core\\annotation.py#181\" target=\"_blank\"><span style=\"color: #7f7f7f; text-decoration-color: #7f7f7f\">181</span></a>\n",
       "</pre>\n"
      ],
      "text/plain": [
       "\u001b[1;31mERROR   \u001b[0m MIRIAM collection `obo` does not exist for term `NCIT:C81328`                            \u001b]8;id=502756;file://c:\\Programs\\python\\Lib\\site-packages\\pymetadata\\core\\annotation.py\u001b\\\u001b[2mannotation.py\u001b[0m\u001b]8;;\u001b\\\u001b[2m:\u001b[0m\u001b]8;id=415201;file://c:\\Programs\\python\\Lib\\site-packages\\pymetadata\\core\\annotation.py#181\u001b\\\u001b[2m181\u001b[0m\u001b]8;;\u001b\\\n"
      ]
     },
     "metadata": {},
     "output_type": "display_data"
    },
    {
     "data": {
      "text/html": [
       "<pre style=\"white-space:pre;overflow-x:auto;line-height:normal;font-family:Menlo,'DejaVu Sans Mono',consolas,'Courier New',monospace\"><span style=\"color: #800000; text-decoration-color: #800000; font-weight: bold\">ERROR   </span> MIRIAM collection `obo` does not exist for term `NCIT:C25157`                            <a href=\"file://c:\\Programs\\python\\Lib\\site-packages\\pymetadata\\core\\annotation.py\" target=\"_blank\"><span style=\"color: #7f7f7f; text-decoration-color: #7f7f7f\">annotation.py</span></a><span style=\"color: #7f7f7f; text-decoration-color: #7f7f7f\">:</span><a href=\"file://c:\\Programs\\python\\Lib\\site-packages\\pymetadata\\core\\annotation.py#181\" target=\"_blank\"><span style=\"color: #7f7f7f; text-decoration-color: #7f7f7f\">181</span></a>\n",
       "</pre>\n"
      ],
      "text/plain": [
       "\u001b[1;31mERROR   \u001b[0m MIRIAM collection `obo` does not exist for term `NCIT:C25157`                            \u001b]8;id=288228;file://c:\\Programs\\python\\Lib\\site-packages\\pymetadata\\core\\annotation.py\u001b\\\u001b[2mannotation.py\u001b[0m\u001b]8;;\u001b\\\u001b[2m:\u001b[0m\u001b]8;id=160627;file://c:\\Programs\\python\\Lib\\site-packages\\pymetadata\\core\\annotation.py#181\u001b\\\u001b[2m181\u001b[0m\u001b]8;;\u001b\\\n"
      ]
     },
     "metadata": {},
     "output_type": "display_data"
    },
    {
     "data": {
      "text/html": [
       "<pre style=\"white-space:pre;overflow-x:auto;line-height:normal;font-family:Menlo,'DejaVu Sans Mono',consolas,'Courier New',monospace\"><span style=\"color: #800000; text-decoration-color: #800000; font-weight: bold\">ERROR   </span> Term `OBA:VT0001200` did not match pattern `^OBA:\\d+$` for collection `oba`.             <a href=\"file://c:\\Programs\\python\\Lib\\site-packages\\pymetadata\\core\\annotation.py\" target=\"_blank\"><span style=\"color: #7f7f7f; text-decoration-color: #7f7f7f\">annotation.py</span></a><span style=\"color: #7f7f7f; text-decoration-color: #7f7f7f\">:</span><a href=\"file://c:\\Programs\\python\\Lib\\site-packages\\pymetadata\\core\\annotation.py#189\" target=\"_blank\"><span style=\"color: #7f7f7f; text-decoration-color: #7f7f7f\">189</span></a>\n",
       "</pre>\n"
      ],
      "text/plain": [
       "\u001b[1;31mERROR   \u001b[0m Term `OBA:VT0001200` did not match pattern `^OBA:\\d+$` for collection `oba`.             \u001b]8;id=31368;file://c:\\Programs\\python\\Lib\\site-packages\\pymetadata\\core\\annotation.py\u001b\\\u001b[2mannotation.py\u001b[0m\u001b]8;;\u001b\\\u001b[2m:\u001b[0m\u001b]8;id=517324;file://c:\\Programs\\python\\Lib\\site-packages\\pymetadata\\core\\annotation.py#189\u001b\\\u001b[2m189\u001b[0m\u001b]8;;\u001b\\\n"
      ]
     },
     "metadata": {},
     "output_type": "display_data"
    },
    {
     "data": {
      "text/html": [
       "<pre style=\"white-space:pre;overflow-x:auto;line-height:normal;font-family:Menlo,'DejaVu Sans Mono',consolas,'Courier New',monospace\"><span style=\"color: #800000; text-decoration-color: #800000; font-weight: bold\">ERROR   </span> Term `OBA:VT0001200` did not match pattern `^OBA:\\d+$` for collection `oba`.             <a href=\"file://c:\\Programs\\python\\Lib\\site-packages\\pymetadata\\core\\annotation.py\" target=\"_blank\"><span style=\"color: #7f7f7f; text-decoration-color: #7f7f7f\">annotation.py</span></a><span style=\"color: #7f7f7f; text-decoration-color: #7f7f7f\">:</span><a href=\"file://c:\\Programs\\python\\Lib\\site-packages\\pymetadata\\core\\annotation.py#189\" target=\"_blank\"><span style=\"color: #7f7f7f; text-decoration-color: #7f7f7f\">189</span></a>\n",
       "</pre>\n"
      ],
      "text/plain": [
       "\u001b[1;31mERROR   \u001b[0m Term `OBA:VT0001200` did not match pattern `^OBA:\\d+$` for collection `oba`.             \u001b]8;id=848651;file://c:\\Programs\\python\\Lib\\site-packages\\pymetadata\\core\\annotation.py\u001b\\\u001b[2mannotation.py\u001b[0m\u001b]8;;\u001b\\\u001b[2m:\u001b[0m\u001b]8;id=962583;file://c:\\Programs\\python\\Lib\\site-packages\\pymetadata\\core\\annotation.py#189\u001b\\\u001b[2m189\u001b[0m\u001b]8;;\u001b\\\n"
      ]
     },
     "metadata": {},
     "output_type": "display_data"
    },
    {
     "data": {
      "text/html": [
       "<pre style=\"white-space:pre;overflow-x:auto;line-height:normal;font-family:Menlo,'DejaVu Sans Mono',consolas,'Courier New',monospace\"><span style=\"color: #800000; text-decoration-color: #800000; font-weight: bold\">ERROR   </span> MIRIAM collection `pkpbo` does not exist for term `PKPBO:<span style=\"color: #008080; text-decoration-color: #008080; font-weight: bold\">00077</span>`                          <a href=\"file://c:\\Programs\\python\\Lib\\site-packages\\pymetadata\\core\\annotation.py\" target=\"_blank\"><span style=\"color: #7f7f7f; text-decoration-color: #7f7f7f\">annotation.py</span></a><span style=\"color: #7f7f7f; text-decoration-color: #7f7f7f\">:</span><a href=\"file://c:\\Programs\\python\\Lib\\site-packages\\pymetadata\\core\\annotation.py#181\" target=\"_blank\"><span style=\"color: #7f7f7f; text-decoration-color: #7f7f7f\">181</span></a>\n",
       "</pre>\n"
      ],
      "text/plain": [
       "\u001b[1;31mERROR   \u001b[0m MIRIAM collection `pkpbo` does not exist for term `PKPBO:\u001b[1;36m00077\u001b[0m`                          \u001b]8;id=872419;file://c:\\Programs\\python\\Lib\\site-packages\\pymetadata\\core\\annotation.py\u001b\\\u001b[2mannotation.py\u001b[0m\u001b]8;;\u001b\\\u001b[2m:\u001b[0m\u001b]8;id=748989;file://c:\\Programs\\python\\Lib\\site-packages\\pymetadata\\core\\annotation.py#181\u001b\\\u001b[2m181\u001b[0m\u001b]8;;\u001b\\\n"
      ]
     },
     "metadata": {},
     "output_type": "display_data"
    },
    {
     "data": {
      "text/html": [
       "<pre style=\"white-space:pre;overflow-x:auto;line-height:normal;font-family:Menlo,'DejaVu Sans Mono',consolas,'Courier New',monospace\"><span style=\"color: #800000; text-decoration-color: #800000; font-weight: bold\">ERROR   </span> MIRIAM collection `pkpbo` does not exist for term `PKPBO:<span style=\"color: #008080; text-decoration-color: #008080; font-weight: bold\">00093</span>`                          <a href=\"file://c:\\Programs\\python\\Lib\\site-packages\\pymetadata\\core\\annotation.py\" target=\"_blank\"><span style=\"color: #7f7f7f; text-decoration-color: #7f7f7f\">annotation.py</span></a><span style=\"color: #7f7f7f; text-decoration-color: #7f7f7f\">:</span><a href=\"file://c:\\Programs\\python\\Lib\\site-packages\\pymetadata\\core\\annotation.py#181\" target=\"_blank\"><span style=\"color: #7f7f7f; text-decoration-color: #7f7f7f\">181</span></a>\n",
       "</pre>\n"
      ],
      "text/plain": [
       "\u001b[1;31mERROR   \u001b[0m MIRIAM collection `pkpbo` does not exist for term `PKPBO:\u001b[1;36m00093\u001b[0m`                          \u001b]8;id=314257;file://c:\\Programs\\python\\Lib\\site-packages\\pymetadata\\core\\annotation.py\u001b\\\u001b[2mannotation.py\u001b[0m\u001b]8;;\u001b\\\u001b[2m:\u001b[0m\u001b]8;id=817273;file://c:\\Programs\\python\\Lib\\site-packages\\pymetadata\\core\\annotation.py#181\u001b\\\u001b[2m181\u001b[0m\u001b]8;;\u001b\\\n"
      ]
     },
     "metadata": {},
     "output_type": "display_data"
    },
    {
     "data": {
      "text/html": [
       "<pre style=\"white-space:pre;overflow-x:auto;line-height:normal;font-family:Menlo,'DejaVu Sans Mono',consolas,'Courier New',monospace\"><span style=\"color: #800000; text-decoration-color: #800000; font-weight: bold\">ERROR   </span> MIRIAM collection `pkpbo` does not exist for term `PKPBO:<span style=\"color: #008080; text-decoration-color: #008080; font-weight: bold\">00069</span>`                          <a href=\"file://c:\\Programs\\python\\Lib\\site-packages\\pymetadata\\core\\annotation.py\" target=\"_blank\"><span style=\"color: #7f7f7f; text-decoration-color: #7f7f7f\">annotation.py</span></a><span style=\"color: #7f7f7f; text-decoration-color: #7f7f7f\">:</span><a href=\"file://c:\\Programs\\python\\Lib\\site-packages\\pymetadata\\core\\annotation.py#181\" target=\"_blank\"><span style=\"color: #7f7f7f; text-decoration-color: #7f7f7f\">181</span></a>\n",
       "</pre>\n"
      ],
      "text/plain": [
       "\u001b[1;31mERROR   \u001b[0m MIRIAM collection `pkpbo` does not exist for term `PKPBO:\u001b[1;36m00069\u001b[0m`                          \u001b]8;id=911371;file://c:\\Programs\\python\\Lib\\site-packages\\pymetadata\\core\\annotation.py\u001b\\\u001b[2mannotation.py\u001b[0m\u001b]8;;\u001b\\\u001b[2m:\u001b[0m\u001b]8;id=993449;file://c:\\Programs\\python\\Lib\\site-packages\\pymetadata\\core\\annotation.py#181\u001b\\\u001b[2m181\u001b[0m\u001b]8;;\u001b\\\n"
      ]
     },
     "metadata": {},
     "output_type": "display_data"
    },
    {
     "data": {
      "text/html": [
       "<pre style=\"white-space:pre;overflow-x:auto;line-height:normal;font-family:Menlo,'DejaVu Sans Mono',consolas,'Courier New',monospace\"><span style=\"color: #800000; text-decoration-color: #800000; font-weight: bold\">ERROR   </span> MIRIAM collection `pkpbo` does not exist for term `PKPBO:<span style=\"color: #008080; text-decoration-color: #008080; font-weight: bold\">00091</span>`                          <a href=\"file://c:\\Programs\\python\\Lib\\site-packages\\pymetadata\\core\\annotation.py\" target=\"_blank\"><span style=\"color: #7f7f7f; text-decoration-color: #7f7f7f\">annotation.py</span></a><span style=\"color: #7f7f7f; text-decoration-color: #7f7f7f\">:</span><a href=\"file://c:\\Programs\\python\\Lib\\site-packages\\pymetadata\\core\\annotation.py#181\" target=\"_blank\"><span style=\"color: #7f7f7f; text-decoration-color: #7f7f7f\">181</span></a>\n",
       "</pre>\n"
      ],
      "text/plain": [
       "\u001b[1;31mERROR   \u001b[0m MIRIAM collection `pkpbo` does not exist for term `PKPBO:\u001b[1;36m00091\u001b[0m`                          \u001b]8;id=728056;file://c:\\Programs\\python\\Lib\\site-packages\\pymetadata\\core\\annotation.py\u001b\\\u001b[2mannotation.py\u001b[0m\u001b]8;;\u001b\\\u001b[2m:\u001b[0m\u001b]8;id=531869;file://c:\\Programs\\python\\Lib\\site-packages\\pymetadata\\core\\annotation.py#181\u001b\\\u001b[2m181\u001b[0m\u001b]8;;\u001b\\\n"
      ]
     },
     "metadata": {},
     "output_type": "display_data"
    },
    {
     "data": {
      "text/html": [
       "<pre style=\"white-space:pre;overflow-x:auto;line-height:normal;font-family:Menlo,'DejaVu Sans Mono',consolas,'Courier New',monospace\"><span style=\"color: #800000; text-decoration-color: #800000; font-weight: bold\">ERROR   </span> Term `OBA:VT0000182` did not match pattern `^OBA:\\d+$` for collection `oba`.             <a href=\"file://c:\\Programs\\python\\Lib\\site-packages\\pymetadata\\core\\annotation.py\" target=\"_blank\"><span style=\"color: #7f7f7f; text-decoration-color: #7f7f7f\">annotation.py</span></a><span style=\"color: #7f7f7f; text-decoration-color: #7f7f7f\">:</span><a href=\"file://c:\\Programs\\python\\Lib\\site-packages\\pymetadata\\core\\annotation.py#189\" target=\"_blank\"><span style=\"color: #7f7f7f; text-decoration-color: #7f7f7f\">189</span></a>\n",
       "</pre>\n"
      ],
      "text/plain": [
       "\u001b[1;31mERROR   \u001b[0m Term `OBA:VT0000182` did not match pattern `^OBA:\\d+$` for collection `oba`.             \u001b]8;id=454675;file://c:\\Programs\\python\\Lib\\site-packages\\pymetadata\\core\\annotation.py\u001b\\\u001b[2mannotation.py\u001b[0m\u001b]8;;\u001b\\\u001b[2m:\u001b[0m\u001b]8;id=985761;file://c:\\Programs\\python\\Lib\\site-packages\\pymetadata\\core\\annotation.py#189\u001b\\\u001b[2m189\u001b[0m\u001b]8;;\u001b\\\n"
      ]
     },
     "metadata": {},
     "output_type": "display_data"
    },
    {
     "data": {
      "text/html": [
       "<pre style=\"white-space:pre;overflow-x:auto;line-height:normal;font-family:Menlo,'DejaVu Sans Mono',consolas,'Courier New',monospace\"><span style=\"color: #800000; text-decoration-color: #800000; font-weight: bold\">ERROR   </span> MIRIAM collection `obo` does not exist for term `NCIT:C94866`                            <a href=\"file://c:\\Programs\\python\\Lib\\site-packages\\pymetadata\\core\\annotation.py\" target=\"_blank\"><span style=\"color: #7f7f7f; text-decoration-color: #7f7f7f\">annotation.py</span></a><span style=\"color: #7f7f7f; text-decoration-color: #7f7f7f\">:</span><a href=\"file://c:\\Programs\\python\\Lib\\site-packages\\pymetadata\\core\\annotation.py#181\" target=\"_blank\"><span style=\"color: #7f7f7f; text-decoration-color: #7f7f7f\">181</span></a>\n",
       "</pre>\n"
      ],
      "text/plain": [
       "\u001b[1;31mERROR   \u001b[0m MIRIAM collection `obo` does not exist for term `NCIT:C94866`                            \u001b]8;id=325288;file://c:\\Programs\\python\\Lib\\site-packages\\pymetadata\\core\\annotation.py\u001b\\\u001b[2mannotation.py\u001b[0m\u001b]8;;\u001b\\\u001b[2m:\u001b[0m\u001b]8;id=526651;file://c:\\Programs\\python\\Lib\\site-packages\\pymetadata\\core\\annotation.py#181\u001b\\\u001b[2m181\u001b[0m\u001b]8;;\u001b\\\n"
      ]
     },
     "metadata": {},
     "output_type": "display_data"
    },
    {
     "data": {
      "text/html": [
       "<pre style=\"white-space:pre;overflow-x:auto;line-height:normal;font-family:Menlo,'DejaVu Sans Mono',consolas,'Courier New',monospace\"><span style=\"color: #800000; text-decoration-color: #800000; font-weight: bold\">ERROR   </span> MIRIAM collection `obo` does not exist for term `NCIT:C94866`                            <a href=\"file://c:\\Programs\\python\\Lib\\site-packages\\pymetadata\\core\\annotation.py\" target=\"_blank\"><span style=\"color: #7f7f7f; text-decoration-color: #7f7f7f\">annotation.py</span></a><span style=\"color: #7f7f7f; text-decoration-color: #7f7f7f\">:</span><a href=\"file://c:\\Programs\\python\\Lib\\site-packages\\pymetadata\\core\\annotation.py#181\" target=\"_blank\"><span style=\"color: #7f7f7f; text-decoration-color: #7f7f7f\">181</span></a>\n",
       "</pre>\n"
      ],
      "text/plain": [
       "\u001b[1;31mERROR   \u001b[0m MIRIAM collection `obo` does not exist for term `NCIT:C94866`                            \u001b]8;id=926595;file://c:\\Programs\\python\\Lib\\site-packages\\pymetadata\\core\\annotation.py\u001b\\\u001b[2mannotation.py\u001b[0m\u001b]8;;\u001b\\\u001b[2m:\u001b[0m\u001b]8;id=227029;file://c:\\Programs\\python\\Lib\\site-packages\\pymetadata\\core\\annotation.py#181\u001b\\\u001b[2m181\u001b[0m\u001b]8;;\u001b\\\n"
      ]
     },
     "metadata": {},
     "output_type": "display_data"
    },
    {
     "data": {
      "text/html": [
       "<pre style=\"white-space:pre;overflow-x:auto;line-height:normal;font-family:Menlo,'DejaVu Sans Mono',consolas,'Courier New',monospace\"><span style=\"color: #800000; text-decoration-color: #800000; font-weight: bold\">ERROR   </span> MIRIAM collection `obo` does not exist for term `NCIT:C94866`                            <a href=\"file://c:\\Programs\\python\\Lib\\site-packages\\pymetadata\\core\\annotation.py\" target=\"_blank\"><span style=\"color: #7f7f7f; text-decoration-color: #7f7f7f\">annotation.py</span></a><span style=\"color: #7f7f7f; text-decoration-color: #7f7f7f\">:</span><a href=\"file://c:\\Programs\\python\\Lib\\site-packages\\pymetadata\\core\\annotation.py#181\" target=\"_blank\"><span style=\"color: #7f7f7f; text-decoration-color: #7f7f7f\">181</span></a>\n",
       "</pre>\n"
      ],
      "text/plain": [
       "\u001b[1;31mERROR   \u001b[0m MIRIAM collection `obo` does not exist for term `NCIT:C94866`                            \u001b]8;id=65517;file://c:\\Programs\\python\\Lib\\site-packages\\pymetadata\\core\\annotation.py\u001b\\\u001b[2mannotation.py\u001b[0m\u001b]8;;\u001b\\\u001b[2m:\u001b[0m\u001b]8;id=457626;file://c:\\Programs\\python\\Lib\\site-packages\\pymetadata\\core\\annotation.py#181\u001b\\\u001b[2m181\u001b[0m\u001b]8;;\u001b\\\n"
      ]
     },
     "metadata": {},
     "output_type": "display_data"
    },
    {
     "data": {
      "text/html": [
       "<pre style=\"white-space:pre;overflow-x:auto;line-height:normal;font-family:Menlo,'DejaVu Sans Mono',consolas,'Courier New',monospace\"><span style=\"color: #800000; text-decoration-color: #800000; font-weight: bold\">ERROR   </span> MIRIAM collection `obo` does not exist for term `NCIT:C94866`                            <a href=\"file://c:\\Programs\\python\\Lib\\site-packages\\pymetadata\\core\\annotation.py\" target=\"_blank\"><span style=\"color: #7f7f7f; text-decoration-color: #7f7f7f\">annotation.py</span></a><span style=\"color: #7f7f7f; text-decoration-color: #7f7f7f\">:</span><a href=\"file://c:\\Programs\\python\\Lib\\site-packages\\pymetadata\\core\\annotation.py#181\" target=\"_blank\"><span style=\"color: #7f7f7f; text-decoration-color: #7f7f7f\">181</span></a>\n",
       "</pre>\n"
      ],
      "text/plain": [
       "\u001b[1;31mERROR   \u001b[0m MIRIAM collection `obo` does not exist for term `NCIT:C94866`                            \u001b]8;id=933238;file://c:\\Programs\\python\\Lib\\site-packages\\pymetadata\\core\\annotation.py\u001b\\\u001b[2mannotation.py\u001b[0m\u001b]8;;\u001b\\\u001b[2m:\u001b[0m\u001b]8;id=731068;file://c:\\Programs\\python\\Lib\\site-packages\\pymetadata\\core\\annotation.py#181\u001b\\\u001b[2m181\u001b[0m\u001b]8;;\u001b\\\n"
      ]
     },
     "metadata": {},
     "output_type": "display_data"
    },
    {
     "data": {
      "text/html": [
       "<pre style=\"white-space:pre;overflow-x:auto;line-height:normal;font-family:Menlo,'DejaVu Sans Mono',consolas,'Courier New',monospace\"><span style=\"color: #800000; text-decoration-color: #800000; font-weight: bold\">ERROR   </span> MIRIAM collection `obo` does not exist for term `NCIT:C94866`                            <a href=\"file://c:\\Programs\\python\\Lib\\site-packages\\pymetadata\\core\\annotation.py\" target=\"_blank\"><span style=\"color: #7f7f7f; text-decoration-color: #7f7f7f\">annotation.py</span></a><span style=\"color: #7f7f7f; text-decoration-color: #7f7f7f\">:</span><a href=\"file://c:\\Programs\\python\\Lib\\site-packages\\pymetadata\\core\\annotation.py#181\" target=\"_blank\"><span style=\"color: #7f7f7f; text-decoration-color: #7f7f7f\">181</span></a>\n",
       "</pre>\n"
      ],
      "text/plain": [
       "\u001b[1;31mERROR   \u001b[0m MIRIAM collection `obo` does not exist for term `NCIT:C94866`                            \u001b]8;id=356303;file://c:\\Programs\\python\\Lib\\site-packages\\pymetadata\\core\\annotation.py\u001b\\\u001b[2mannotation.py\u001b[0m\u001b]8;;\u001b\\\u001b[2m:\u001b[0m\u001b]8;id=102958;file://c:\\Programs\\python\\Lib\\site-packages\\pymetadata\\core\\annotation.py#181\u001b\\\u001b[2m181\u001b[0m\u001b]8;;\u001b\\\n"
      ]
     },
     "metadata": {},
     "output_type": "display_data"
    },
    {
     "data": {
      "text/html": [
       "<pre style=\"white-space:pre;overflow-x:auto;line-height:normal;font-family:Menlo,'DejaVu Sans Mono',consolas,'Courier New',monospace\"><span style=\"color: #800000; text-decoration-color: #800000; font-weight: bold\">ERROR   </span> MIRIAM collection `obo` does not exist for term `NCIT:C94866`                            <a href=\"file://c:\\Programs\\python\\Lib\\site-packages\\pymetadata\\core\\annotation.py\" target=\"_blank\"><span style=\"color: #7f7f7f; text-decoration-color: #7f7f7f\">annotation.py</span></a><span style=\"color: #7f7f7f; text-decoration-color: #7f7f7f\">:</span><a href=\"file://c:\\Programs\\python\\Lib\\site-packages\\pymetadata\\core\\annotation.py#181\" target=\"_blank\"><span style=\"color: #7f7f7f; text-decoration-color: #7f7f7f\">181</span></a>\n",
       "</pre>\n"
      ],
      "text/plain": [
       "\u001b[1;31mERROR   \u001b[0m MIRIAM collection `obo` does not exist for term `NCIT:C94866`                            \u001b]8;id=129150;file://c:\\Programs\\python\\Lib\\site-packages\\pymetadata\\core\\annotation.py\u001b\\\u001b[2mannotation.py\u001b[0m\u001b]8;;\u001b\\\u001b[2m:\u001b[0m\u001b]8;id=933474;file://c:\\Programs\\python\\Lib\\site-packages\\pymetadata\\core\\annotation.py#181\u001b\\\u001b[2m181\u001b[0m\u001b]8;;\u001b\\\n"
      ]
     },
     "metadata": {},
     "output_type": "display_data"
    },
    {
     "data": {
      "text/html": [
       "<pre style=\"white-space:pre;overflow-x:auto;line-height:normal;font-family:Menlo,'DejaVu Sans Mono',consolas,'Courier New',monospace\"><span style=\"color: #800000; text-decoration-color: #800000; font-weight: bold\">ERROR   </span> MIRIAM collection `obo` does not exist for term `NCIT:C94866`                            <a href=\"file://c:\\Programs\\python\\Lib\\site-packages\\pymetadata\\core\\annotation.py\" target=\"_blank\"><span style=\"color: #7f7f7f; text-decoration-color: #7f7f7f\">annotation.py</span></a><span style=\"color: #7f7f7f; text-decoration-color: #7f7f7f\">:</span><a href=\"file://c:\\Programs\\python\\Lib\\site-packages\\pymetadata\\core\\annotation.py#181\" target=\"_blank\"><span style=\"color: #7f7f7f; text-decoration-color: #7f7f7f\">181</span></a>\n",
       "</pre>\n"
      ],
      "text/plain": [
       "\u001b[1;31mERROR   \u001b[0m MIRIAM collection `obo` does not exist for term `NCIT:C94866`                            \u001b]8;id=955367;file://c:\\Programs\\python\\Lib\\site-packages\\pymetadata\\core\\annotation.py\u001b\\\u001b[2mannotation.py\u001b[0m\u001b]8;;\u001b\\\u001b[2m:\u001b[0m\u001b]8;id=796568;file://c:\\Programs\\python\\Lib\\site-packages\\pymetadata\\core\\annotation.py#181\u001b\\\u001b[2m181\u001b[0m\u001b]8;;\u001b\\\n"
      ]
     },
     "metadata": {},
     "output_type": "display_data"
    },
    {
     "data": {
      "text/html": [
       "<pre style=\"white-space:pre;overflow-x:auto;line-height:normal;font-family:Menlo,'DejaVu Sans Mono',consolas,'Courier New',monospace\"><span style=\"color: #800000; text-decoration-color: #800000; font-weight: bold\">ERROR   </span> MIRIAM collection `obo` does not exist for term `NCIT:C94866`                            <a href=\"file://c:\\Programs\\python\\Lib\\site-packages\\pymetadata\\core\\annotation.py\" target=\"_blank\"><span style=\"color: #7f7f7f; text-decoration-color: #7f7f7f\">annotation.py</span></a><span style=\"color: #7f7f7f; text-decoration-color: #7f7f7f\">:</span><a href=\"file://c:\\Programs\\python\\Lib\\site-packages\\pymetadata\\core\\annotation.py#181\" target=\"_blank\"><span style=\"color: #7f7f7f; text-decoration-color: #7f7f7f\">181</span></a>\n",
       "</pre>\n"
      ],
      "text/plain": [
       "\u001b[1;31mERROR   \u001b[0m MIRIAM collection `obo` does not exist for term `NCIT:C94866`                            \u001b]8;id=912131;file://c:\\Programs\\python\\Lib\\site-packages\\pymetadata\\core\\annotation.py\u001b\\\u001b[2mannotation.py\u001b[0m\u001b]8;;\u001b\\\u001b[2m:\u001b[0m\u001b]8;id=741277;file://c:\\Programs\\python\\Lib\\site-packages\\pymetadata\\core\\annotation.py#181\u001b\\\u001b[2m181\u001b[0m\u001b]8;;\u001b\\\n"
      ]
     },
     "metadata": {},
     "output_type": "display_data"
    },
    {
     "data": {
      "text/html": [
       "<pre style=\"white-space:pre;overflow-x:auto;line-height:normal;font-family:Menlo,'DejaVu Sans Mono',consolas,'Courier New',monospace\"><span style=\"color: #800000; text-decoration-color: #800000; font-weight: bold\">ERROR   </span> MIRIAM collection `obo` does not exist for term `NCIT:C94866`                            <a href=\"file://c:\\Programs\\python\\Lib\\site-packages\\pymetadata\\core\\annotation.py\" target=\"_blank\"><span style=\"color: #7f7f7f; text-decoration-color: #7f7f7f\">annotation.py</span></a><span style=\"color: #7f7f7f; text-decoration-color: #7f7f7f\">:</span><a href=\"file://c:\\Programs\\python\\Lib\\site-packages\\pymetadata\\core\\annotation.py#181\" target=\"_blank\"><span style=\"color: #7f7f7f; text-decoration-color: #7f7f7f\">181</span></a>\n",
       "</pre>\n"
      ],
      "text/plain": [
       "\u001b[1;31mERROR   \u001b[0m MIRIAM collection `obo` does not exist for term `NCIT:C94866`                            \u001b]8;id=354186;file://c:\\Programs\\python\\Lib\\site-packages\\pymetadata\\core\\annotation.py\u001b\\\u001b[2mannotation.py\u001b[0m\u001b]8;;\u001b\\\u001b[2m:\u001b[0m\u001b]8;id=333410;file://c:\\Programs\\python\\Lib\\site-packages\\pymetadata\\core\\annotation.py#181\u001b\\\u001b[2m181\u001b[0m\u001b]8;;\u001b\\\n"
      ]
     },
     "metadata": {},
     "output_type": "display_data"
    },
    {
     "data": {
      "text/html": [
       "<pre style=\"white-space:pre;overflow-x:auto;line-height:normal;font-family:Menlo,'DejaVu Sans Mono',consolas,'Courier New',monospace\"><span style=\"color: #800000; text-decoration-color: #800000; font-weight: bold\">ERROR   </span> MIRIAM collection `obo` does not exist for term `NCIT:C94866`                            <a href=\"file://c:\\Programs\\python\\Lib\\site-packages\\pymetadata\\core\\annotation.py\" target=\"_blank\"><span style=\"color: #7f7f7f; text-decoration-color: #7f7f7f\">annotation.py</span></a><span style=\"color: #7f7f7f; text-decoration-color: #7f7f7f\">:</span><a href=\"file://c:\\Programs\\python\\Lib\\site-packages\\pymetadata\\core\\annotation.py#181\" target=\"_blank\"><span style=\"color: #7f7f7f; text-decoration-color: #7f7f7f\">181</span></a>\n",
       "</pre>\n"
      ],
      "text/plain": [
       "\u001b[1;31mERROR   \u001b[0m MIRIAM collection `obo` does not exist for term `NCIT:C94866`                            \u001b]8;id=39121;file://c:\\Programs\\python\\Lib\\site-packages\\pymetadata\\core\\annotation.py\u001b\\\u001b[2mannotation.py\u001b[0m\u001b]8;;\u001b\\\u001b[2m:\u001b[0m\u001b]8;id=376570;file://c:\\Programs\\python\\Lib\\site-packages\\pymetadata\\core\\annotation.py#181\u001b\\\u001b[2m181\u001b[0m\u001b]8;;\u001b\\\n"
      ]
     },
     "metadata": {},
     "output_type": "display_data"
    },
    {
     "data": {
      "text/html": [
       "<pre style=\"white-space:pre;overflow-x:auto;line-height:normal;font-family:Menlo,'DejaVu Sans Mono',consolas,'Courier New',monospace\"><span style=\"color: #800000; text-decoration-color: #800000; font-weight: bold\">ERROR   </span> MIRIAM collection `obo` does not exist for term `NCIT:C94967`                            <a href=\"file://c:\\Programs\\python\\Lib\\site-packages\\pymetadata\\core\\annotation.py\" target=\"_blank\"><span style=\"color: #7f7f7f; text-decoration-color: #7f7f7f\">annotation.py</span></a><span style=\"color: #7f7f7f; text-decoration-color: #7f7f7f\">:</span><a href=\"file://c:\\Programs\\python\\Lib\\site-packages\\pymetadata\\core\\annotation.py#181\" target=\"_blank\"><span style=\"color: #7f7f7f; text-decoration-color: #7f7f7f\">181</span></a>\n",
       "</pre>\n"
      ],
      "text/plain": [
       "\u001b[1;31mERROR   \u001b[0m MIRIAM collection `obo` does not exist for term `NCIT:C94967`                            \u001b]8;id=36493;file://c:\\Programs\\python\\Lib\\site-packages\\pymetadata\\core\\annotation.py\u001b\\\u001b[2mannotation.py\u001b[0m\u001b]8;;\u001b\\\u001b[2m:\u001b[0m\u001b]8;id=167083;file://c:\\Programs\\python\\Lib\\site-packages\\pymetadata\\core\\annotation.py#181\u001b\\\u001b[2m181\u001b[0m\u001b]8;;\u001b\\\n"
      ]
     },
     "metadata": {},
     "output_type": "display_data"
    },
    {
     "data": {
      "text/html": [
       "<pre style=\"white-space:pre;overflow-x:auto;line-height:normal;font-family:Menlo,'DejaVu Sans Mono',consolas,'Courier New',monospace\"><span style=\"color: #800000; text-decoration-color: #800000; font-weight: bold\">ERROR   </span> MIRIAM collection `obo` does not exist for term `NCIT:C20610`                            <a href=\"file://c:\\Programs\\python\\Lib\\site-packages\\pymetadata\\core\\annotation.py\" target=\"_blank\"><span style=\"color: #7f7f7f; text-decoration-color: #7f7f7f\">annotation.py</span></a><span style=\"color: #7f7f7f; text-decoration-color: #7f7f7f\">:</span><a href=\"file://c:\\Programs\\python\\Lib\\site-packages\\pymetadata\\core\\annotation.py#181\" target=\"_blank\"><span style=\"color: #7f7f7f; text-decoration-color: #7f7f7f\">181</span></a>\n",
       "</pre>\n"
      ],
      "text/plain": [
       "\u001b[1;31mERROR   \u001b[0m MIRIAM collection `obo` does not exist for term `NCIT:C20610`                            \u001b]8;id=2916;file://c:\\Programs\\python\\Lib\\site-packages\\pymetadata\\core\\annotation.py\u001b\\\u001b[2mannotation.py\u001b[0m\u001b]8;;\u001b\\\u001b[2m:\u001b[0m\u001b]8;id=12717;file://c:\\Programs\\python\\Lib\\site-packages\\pymetadata\\core\\annotation.py#181\u001b\\\u001b[2m181\u001b[0m\u001b]8;;\u001b\\\n"
      ]
     },
     "metadata": {},
     "output_type": "display_data"
    },
    {
     "data": {
      "text/html": [
       "<pre style=\"white-space:pre;overflow-x:auto;line-height:normal;font-family:Menlo,'DejaVu Sans Mono',consolas,'Courier New',monospace\"><span style=\"color: #800000; text-decoration-color: #800000; font-weight: bold\">ERROR   </span> MIRIAM collection `obo` does not exist for term `NCIT:C20610`                            <a href=\"file://c:\\Programs\\python\\Lib\\site-packages\\pymetadata\\core\\annotation.py\" target=\"_blank\"><span style=\"color: #7f7f7f; text-decoration-color: #7f7f7f\">annotation.py</span></a><span style=\"color: #7f7f7f; text-decoration-color: #7f7f7f\">:</span><a href=\"file://c:\\Programs\\python\\Lib\\site-packages\\pymetadata\\core\\annotation.py#181\" target=\"_blank\"><span style=\"color: #7f7f7f; text-decoration-color: #7f7f7f\">181</span></a>\n",
       "</pre>\n"
      ],
      "text/plain": [
       "\u001b[1;31mERROR   \u001b[0m MIRIAM collection `obo` does not exist for term `NCIT:C20610`                            \u001b]8;id=320100;file://c:\\Programs\\python\\Lib\\site-packages\\pymetadata\\core\\annotation.py\u001b\\\u001b[2mannotation.py\u001b[0m\u001b]8;;\u001b\\\u001b[2m:\u001b[0m\u001b]8;id=551978;file://c:\\Programs\\python\\Lib\\site-packages\\pymetadata\\core\\annotation.py#181\u001b\\\u001b[2m181\u001b[0m\u001b]8;;\u001b\\\n"
      ]
     },
     "metadata": {},
     "output_type": "display_data"
    },
    {
     "data": {
      "text/html": [
       "<pre style=\"white-space:pre;overflow-x:auto;line-height:normal;font-family:Menlo,'DejaVu Sans Mono',consolas,'Courier New',monospace\"><span style=\"color: #800000; text-decoration-color: #800000; font-weight: bold\">ERROR   </span> MIRIAM collection `obo` does not exist for term `NCIT:C20610`                            <a href=\"file://c:\\Programs\\python\\Lib\\site-packages\\pymetadata\\core\\annotation.py\" target=\"_blank\"><span style=\"color: #7f7f7f; text-decoration-color: #7f7f7f\">annotation.py</span></a><span style=\"color: #7f7f7f; text-decoration-color: #7f7f7f\">:</span><a href=\"file://c:\\Programs\\python\\Lib\\site-packages\\pymetadata\\core\\annotation.py#181\" target=\"_blank\"><span style=\"color: #7f7f7f; text-decoration-color: #7f7f7f\">181</span></a>\n",
       "</pre>\n"
      ],
      "text/plain": [
       "\u001b[1;31mERROR   \u001b[0m MIRIAM collection `obo` does not exist for term `NCIT:C20610`                            \u001b]8;id=269983;file://c:\\Programs\\python\\Lib\\site-packages\\pymetadata\\core\\annotation.py\u001b\\\u001b[2mannotation.py\u001b[0m\u001b]8;;\u001b\\\u001b[2m:\u001b[0m\u001b]8;id=161511;file://c:\\Programs\\python\\Lib\\site-packages\\pymetadata\\core\\annotation.py#181\u001b\\\u001b[2m181\u001b[0m\u001b]8;;\u001b\\\n"
      ]
     },
     "metadata": {},
     "output_type": "display_data"
    },
    {
     "data": {
      "text/html": [
       "<pre style=\"white-space:pre;overflow-x:auto;line-height:normal;font-family:Menlo,'DejaVu Sans Mono',consolas,'Courier New',monospace\"><span style=\"color: #800000; text-decoration-color: #800000; font-weight: bold\">ERROR   </span> MIRIAM collection `obo` does not exist for term `NCIT:C20610`                            <a href=\"file://c:\\Programs\\python\\Lib\\site-packages\\pymetadata\\core\\annotation.py\" target=\"_blank\"><span style=\"color: #7f7f7f; text-decoration-color: #7f7f7f\">annotation.py</span></a><span style=\"color: #7f7f7f; text-decoration-color: #7f7f7f\">:</span><a href=\"file://c:\\Programs\\python\\Lib\\site-packages\\pymetadata\\core\\annotation.py#181\" target=\"_blank\"><span style=\"color: #7f7f7f; text-decoration-color: #7f7f7f\">181</span></a>\n",
       "</pre>\n"
      ],
      "text/plain": [
       "\u001b[1;31mERROR   \u001b[0m MIRIAM collection `obo` does not exist for term `NCIT:C20610`                            \u001b]8;id=458784;file://c:\\Programs\\python\\Lib\\site-packages\\pymetadata\\core\\annotation.py\u001b\\\u001b[2mannotation.py\u001b[0m\u001b]8;;\u001b\\\u001b[2m:\u001b[0m\u001b]8;id=919941;file://c:\\Programs\\python\\Lib\\site-packages\\pymetadata\\core\\annotation.py#181\u001b\\\u001b[2m181\u001b[0m\u001b]8;;\u001b\\\n"
      ]
     },
     "metadata": {},
     "output_type": "display_data"
    },
    {
     "data": {
      "text/html": [
       "<pre style=\"white-space:pre;overflow-x:auto;line-height:normal;font-family:Menlo,'DejaVu Sans Mono',consolas,'Courier New',monospace\"><span style=\"color: #800000; text-decoration-color: #800000; font-weight: bold\">ERROR   </span> MIRIAM collection `obo` does not exist for term `NCIT:C20610`                            <a href=\"file://c:\\Programs\\python\\Lib\\site-packages\\pymetadata\\core\\annotation.py\" target=\"_blank\"><span style=\"color: #7f7f7f; text-decoration-color: #7f7f7f\">annotation.py</span></a><span style=\"color: #7f7f7f; text-decoration-color: #7f7f7f\">:</span><a href=\"file://c:\\Programs\\python\\Lib\\site-packages\\pymetadata\\core\\annotation.py#181\" target=\"_blank\"><span style=\"color: #7f7f7f; text-decoration-color: #7f7f7f\">181</span></a>\n",
       "</pre>\n"
      ],
      "text/plain": [
       "\u001b[1;31mERROR   \u001b[0m MIRIAM collection `obo` does not exist for term `NCIT:C20610`                            \u001b]8;id=509857;file://c:\\Programs\\python\\Lib\\site-packages\\pymetadata\\core\\annotation.py\u001b\\\u001b[2mannotation.py\u001b[0m\u001b]8;;\u001b\\\u001b[2m:\u001b[0m\u001b]8;id=970746;file://c:\\Programs\\python\\Lib\\site-packages\\pymetadata\\core\\annotation.py#181\u001b\\\u001b[2m181\u001b[0m\u001b]8;;\u001b\\\n"
      ]
     },
     "metadata": {},
     "output_type": "display_data"
    },
    {
     "data": {
      "text/html": [
       "<pre style=\"white-space:pre;overflow-x:auto;line-height:normal;font-family:Menlo,'DejaVu Sans Mono',consolas,'Courier New',monospace\"><span style=\"color: #800000; text-decoration-color: #800000; font-weight: bold\">ERROR   </span> MIRIAM collection `obo` does not exist for term `NCIT:C20610`                            <a href=\"file://c:\\Programs\\python\\Lib\\site-packages\\pymetadata\\core\\annotation.py\" target=\"_blank\"><span style=\"color: #7f7f7f; text-decoration-color: #7f7f7f\">annotation.py</span></a><span style=\"color: #7f7f7f; text-decoration-color: #7f7f7f\">:</span><a href=\"file://c:\\Programs\\python\\Lib\\site-packages\\pymetadata\\core\\annotation.py#181\" target=\"_blank\"><span style=\"color: #7f7f7f; text-decoration-color: #7f7f7f\">181</span></a>\n",
       "</pre>\n"
      ],
      "text/plain": [
       "\u001b[1;31mERROR   \u001b[0m MIRIAM collection `obo` does not exist for term `NCIT:C20610`                            \u001b]8;id=598802;file://c:\\Programs\\python\\Lib\\site-packages\\pymetadata\\core\\annotation.py\u001b\\\u001b[2mannotation.py\u001b[0m\u001b]8;;\u001b\\\u001b[2m:\u001b[0m\u001b]8;id=733110;file://c:\\Programs\\python\\Lib\\site-packages\\pymetadata\\core\\annotation.py#181\u001b\\\u001b[2m181\u001b[0m\u001b]8;;\u001b\\\n"
      ]
     },
     "metadata": {},
     "output_type": "display_data"
    },
    {
     "data": {
      "text/html": [
       "<pre style=\"white-space:pre;overflow-x:auto;line-height:normal;font-family:Menlo,'DejaVu Sans Mono',consolas,'Courier New',monospace\"><span style=\"color: #800000; text-decoration-color: #800000; font-weight: bold\">ERROR   </span> MIRIAM collection `obo` does not exist for term `NCIT:C20610`                            <a href=\"file://c:\\Programs\\python\\Lib\\site-packages\\pymetadata\\core\\annotation.py\" target=\"_blank\"><span style=\"color: #7f7f7f; text-decoration-color: #7f7f7f\">annotation.py</span></a><span style=\"color: #7f7f7f; text-decoration-color: #7f7f7f\">:</span><a href=\"file://c:\\Programs\\python\\Lib\\site-packages\\pymetadata\\core\\annotation.py#181\" target=\"_blank\"><span style=\"color: #7f7f7f; text-decoration-color: #7f7f7f\">181</span></a>\n",
       "</pre>\n"
      ],
      "text/plain": [
       "\u001b[1;31mERROR   \u001b[0m MIRIAM collection `obo` does not exist for term `NCIT:C20610`                            \u001b]8;id=574030;file://c:\\Programs\\python\\Lib\\site-packages\\pymetadata\\core\\annotation.py\u001b\\\u001b[2mannotation.py\u001b[0m\u001b]8;;\u001b\\\u001b[2m:\u001b[0m\u001b]8;id=107060;file://c:\\Programs\\python\\Lib\\site-packages\\pymetadata\\core\\annotation.py#181\u001b\\\u001b[2m181\u001b[0m\u001b]8;;\u001b\\\n"
      ]
     },
     "metadata": {},
     "output_type": "display_data"
    },
    {
     "data": {
      "text/html": [
       "<pre style=\"white-space:pre;overflow-x:auto;line-height:normal;font-family:Menlo,'DejaVu Sans Mono',consolas,'Courier New',monospace\"><span style=\"color: #800000; text-decoration-color: #800000; font-weight: bold\">ERROR   </span> MIRIAM collection `obo` does not exist for term `NCIT:C20610`                            <a href=\"file://c:\\Programs\\python\\Lib\\site-packages\\pymetadata\\core\\annotation.py\" target=\"_blank\"><span style=\"color: #7f7f7f; text-decoration-color: #7f7f7f\">annotation.py</span></a><span style=\"color: #7f7f7f; text-decoration-color: #7f7f7f\">:</span><a href=\"file://c:\\Programs\\python\\Lib\\site-packages\\pymetadata\\core\\annotation.py#181\" target=\"_blank\"><span style=\"color: #7f7f7f; text-decoration-color: #7f7f7f\">181</span></a>\n",
       "</pre>\n"
      ],
      "text/plain": [
       "\u001b[1;31mERROR   \u001b[0m MIRIAM collection `obo` does not exist for term `NCIT:C20610`                            \u001b]8;id=122310;file://c:\\Programs\\python\\Lib\\site-packages\\pymetadata\\core\\annotation.py\u001b\\\u001b[2mannotation.py\u001b[0m\u001b]8;;\u001b\\\u001b[2m:\u001b[0m\u001b]8;id=284583;file://c:\\Programs\\python\\Lib\\site-packages\\pymetadata\\core\\annotation.py#181\u001b\\\u001b[2m181\u001b[0m\u001b]8;;\u001b\\\n"
      ]
     },
     "metadata": {},
     "output_type": "display_data"
    },
    {
     "data": {
      "text/html": [
       "<pre style=\"white-space:pre;overflow-x:auto;line-height:normal;font-family:Menlo,'DejaVu Sans Mono',consolas,'Courier New',monospace\"><span style=\"color: #800000; text-decoration-color: #800000; font-weight: bold\">ERROR   </span> MIRIAM collection `pkpbo` does not exist for term `PKPBO:<span style=\"color: #008080; text-decoration-color: #008080; font-weight: bold\">00134</span>`                          <a href=\"file://c:\\Programs\\python\\Lib\\site-packages\\pymetadata\\core\\annotation.py\" target=\"_blank\"><span style=\"color: #7f7f7f; text-decoration-color: #7f7f7f\">annotation.py</span></a><span style=\"color: #7f7f7f; text-decoration-color: #7f7f7f\">:</span><a href=\"file://c:\\Programs\\python\\Lib\\site-packages\\pymetadata\\core\\annotation.py#181\" target=\"_blank\"><span style=\"color: #7f7f7f; text-decoration-color: #7f7f7f\">181</span></a>\n",
       "</pre>\n"
      ],
      "text/plain": [
       "\u001b[1;31mERROR   \u001b[0m MIRIAM collection `pkpbo` does not exist for term `PKPBO:\u001b[1;36m00134\u001b[0m`                          \u001b]8;id=615550;file://c:\\Programs\\python\\Lib\\site-packages\\pymetadata\\core\\annotation.py\u001b\\\u001b[2mannotation.py\u001b[0m\u001b]8;;\u001b\\\u001b[2m:\u001b[0m\u001b]8;id=823076;file://c:\\Programs\\python\\Lib\\site-packages\\pymetadata\\core\\annotation.py#181\u001b\\\u001b[2m181\u001b[0m\u001b]8;;\u001b\\\n"
      ]
     },
     "metadata": {},
     "output_type": "display_data"
    },
    {
     "data": {
      "text/html": [
       "<pre style=\"white-space:pre;overflow-x:auto;line-height:normal;font-family:Menlo,'DejaVu Sans Mono',consolas,'Courier New',monospace\"><span style=\"color: #800000; text-decoration-color: #800000; font-weight: bold\">ERROR   </span> MIRIAM collection `pbpko` does not exist for term `PKPBO:<span style=\"color: #008080; text-decoration-color: #008080; font-weight: bold\">00126</span>`                          <a href=\"file://c:\\Programs\\python\\Lib\\site-packages\\pymetadata\\core\\annotation.py\" target=\"_blank\"><span style=\"color: #7f7f7f; text-decoration-color: #7f7f7f\">annotation.py</span></a><span style=\"color: #7f7f7f; text-decoration-color: #7f7f7f\">:</span><a href=\"file://c:\\Programs\\python\\Lib\\site-packages\\pymetadata\\core\\annotation.py#181\" target=\"_blank\"><span style=\"color: #7f7f7f; text-decoration-color: #7f7f7f\">181</span></a>\n",
       "</pre>\n"
      ],
      "text/plain": [
       "\u001b[1;31mERROR   \u001b[0m MIRIAM collection `pbpko` does not exist for term `PKPBO:\u001b[1;36m00126\u001b[0m`                          \u001b]8;id=311167;file://c:\\Programs\\python\\Lib\\site-packages\\pymetadata\\core\\annotation.py\u001b\\\u001b[2mannotation.py\u001b[0m\u001b]8;;\u001b\\\u001b[2m:\u001b[0m\u001b]8;id=122364;file://c:\\Programs\\python\\Lib\\site-packages\\pymetadata\\core\\annotation.py#181\u001b\\\u001b[2m181\u001b[0m\u001b]8;;\u001b\\\n"
      ]
     },
     "metadata": {},
     "output_type": "display_data"
    },
    {
     "data": {
      "text/html": [
       "<pre style=\"white-space:pre;overflow-x:auto;line-height:normal;font-family:Menlo,'DejaVu Sans Mono',consolas,'Courier New',monospace\"><span style=\"color: #800000; text-decoration-color: #800000; font-weight: bold\">ERROR   </span> MIRIAM collection `pbpko` does not exist for term `PKPBO:<span style=\"color: #008080; text-decoration-color: #008080; font-weight: bold\">00215</span>`                          <a href=\"file://c:\\Programs\\python\\Lib\\site-packages\\pymetadata\\core\\annotation.py\" target=\"_blank\"><span style=\"color: #7f7f7f; text-decoration-color: #7f7f7f\">annotation.py</span></a><span style=\"color: #7f7f7f; text-decoration-color: #7f7f7f\">:</span><a href=\"file://c:\\Programs\\python\\Lib\\site-packages\\pymetadata\\core\\annotation.py#181\" target=\"_blank\"><span style=\"color: #7f7f7f; text-decoration-color: #7f7f7f\">181</span></a>\n",
       "</pre>\n"
      ],
      "text/plain": [
       "\u001b[1;31mERROR   \u001b[0m MIRIAM collection `pbpko` does not exist for term `PKPBO:\u001b[1;36m00215\u001b[0m`                          \u001b]8;id=532362;file://c:\\Programs\\python\\Lib\\site-packages\\pymetadata\\core\\annotation.py\u001b\\\u001b[2mannotation.py\u001b[0m\u001b]8;;\u001b\\\u001b[2m:\u001b[0m\u001b]8;id=831987;file://c:\\Programs\\python\\Lib\\site-packages\\pymetadata\\core\\annotation.py#181\u001b\\\u001b[2m181\u001b[0m\u001b]8;;\u001b\\\n"
      ]
     },
     "metadata": {},
     "output_type": "display_data"
    },
    {
     "data": {
      "text/html": [
       "<pre style=\"white-space:pre;overflow-x:auto;line-height:normal;font-family:Menlo,'DejaVu Sans Mono',consolas,'Courier New',monospace\"><span style=\"color: #800000; text-decoration-color: #800000; font-weight: bold\">ERROR   </span> MIRIAM collection `pbpko` does not exist for term `PKPBO:<span style=\"color: #008080; text-decoration-color: #008080; font-weight: bold\">00218</span>`                          <a href=\"file://c:\\Programs\\python\\Lib\\site-packages\\pymetadata\\core\\annotation.py\" target=\"_blank\"><span style=\"color: #7f7f7f; text-decoration-color: #7f7f7f\">annotation.py</span></a><span style=\"color: #7f7f7f; text-decoration-color: #7f7f7f\">:</span><a href=\"file://c:\\Programs\\python\\Lib\\site-packages\\pymetadata\\core\\annotation.py#181\" target=\"_blank\"><span style=\"color: #7f7f7f; text-decoration-color: #7f7f7f\">181</span></a>\n",
       "</pre>\n"
      ],
      "text/plain": [
       "\u001b[1;31mERROR   \u001b[0m MIRIAM collection `pbpko` does not exist for term `PKPBO:\u001b[1;36m00218\u001b[0m`                          \u001b]8;id=531315;file://c:\\Programs\\python\\Lib\\site-packages\\pymetadata\\core\\annotation.py\u001b\\\u001b[2mannotation.py\u001b[0m\u001b]8;;\u001b\\\u001b[2m:\u001b[0m\u001b]8;id=236441;file://c:\\Programs\\python\\Lib\\site-packages\\pymetadata\\core\\annotation.py#181\u001b\\\u001b[2m181\u001b[0m\u001b]8;;\u001b\\\n"
      ]
     },
     "metadata": {},
     "output_type": "display_data"
    },
    {
     "data": {
      "text/html": [
       "<pre style=\"white-space:pre;overflow-x:auto;line-height:normal;font-family:Menlo,'DejaVu Sans Mono',consolas,'Courier New',monospace\"><span style=\"color: #800000; text-decoration-color: #800000; font-weight: bold\">ERROR   </span> MIRIAM collection `pbpko` does not exist for term `PKPBO:<span style=\"color: #008080; text-decoration-color: #008080; font-weight: bold\">00003</span>`                          <a href=\"file://c:\\Programs\\python\\Lib\\site-packages\\pymetadata\\core\\annotation.py\" target=\"_blank\"><span style=\"color: #7f7f7f; text-decoration-color: #7f7f7f\">annotation.py</span></a><span style=\"color: #7f7f7f; text-decoration-color: #7f7f7f\">:</span><a href=\"file://c:\\Programs\\python\\Lib\\site-packages\\pymetadata\\core\\annotation.py#181\" target=\"_blank\"><span style=\"color: #7f7f7f; text-decoration-color: #7f7f7f\">181</span></a>\n",
       "</pre>\n"
      ],
      "text/plain": [
       "\u001b[1;31mERROR   \u001b[0m MIRIAM collection `pbpko` does not exist for term `PKPBO:\u001b[1;36m00003\u001b[0m`                          \u001b]8;id=184409;file://c:\\Programs\\python\\Lib\\site-packages\\pymetadata\\core\\annotation.py\u001b\\\u001b[2mannotation.py\u001b[0m\u001b]8;;\u001b\\\u001b[2m:\u001b[0m\u001b]8;id=246050;file://c:\\Programs\\python\\Lib\\site-packages\\pymetadata\\core\\annotation.py#181\u001b\\\u001b[2m181\u001b[0m\u001b]8;;\u001b\\\n"
      ]
     },
     "metadata": {},
     "output_type": "display_data"
    },
    {
     "data": {
      "text/html": [
       "<pre style=\"white-space:pre;overflow-x:auto;line-height:normal;font-family:Menlo,'DejaVu Sans Mono',consolas,'Courier New',monospace\"><span style=\"color: #800000; text-decoration-color: #800000; font-weight: bold\">ERROR   </span> MIRIAM collection `pbpko` does not exist for term `PKPBO:<span style=\"color: #008080; text-decoration-color: #008080; font-weight: bold\">00003</span>`                          <a href=\"file://c:\\Programs\\python\\Lib\\site-packages\\pymetadata\\core\\annotation.py\" target=\"_blank\"><span style=\"color: #7f7f7f; text-decoration-color: #7f7f7f\">annotation.py</span></a><span style=\"color: #7f7f7f; text-decoration-color: #7f7f7f\">:</span><a href=\"file://c:\\Programs\\python\\Lib\\site-packages\\pymetadata\\core\\annotation.py#181\" target=\"_blank\"><span style=\"color: #7f7f7f; text-decoration-color: #7f7f7f\">181</span></a>\n",
       "</pre>\n"
      ],
      "text/plain": [
       "\u001b[1;31mERROR   \u001b[0m MIRIAM collection `pbpko` does not exist for term `PKPBO:\u001b[1;36m00003\u001b[0m`                          \u001b]8;id=68122;file://c:\\Programs\\python\\Lib\\site-packages\\pymetadata\\core\\annotation.py\u001b\\\u001b[2mannotation.py\u001b[0m\u001b]8;;\u001b\\\u001b[2m:\u001b[0m\u001b]8;id=104177;file://c:\\Programs\\python\\Lib\\site-packages\\pymetadata\\core\\annotation.py#181\u001b\\\u001b[2m181\u001b[0m\u001b]8;;\u001b\\\n"
      ]
     },
     "metadata": {},
     "output_type": "display_data"
    },
    {
     "data": {
      "text/html": [
       "<pre style=\"white-space:pre;overflow-x:auto;line-height:normal;font-family:Menlo,'DejaVu Sans Mono',consolas,'Courier New',monospace\"><span style=\"color: #008000; text-decoration-color: #008000\">Model annotated: </span><span style=\"color: #0000ff; text-decoration-color: #0000ff; text-decoration: underline\">file://../model/euromix.annotated.sbml</span>\n",
       "</pre>\n"
      ],
      "text/plain": [
       "\u001b[32mModel annotated: \u001b[0m\u001b[4;94mfile://../model/euromix.annotated.sbml\u001b[0m\n"
      ]
     },
     "metadata": {},
     "output_type": "display_data"
    },
    {
     "ename": "AttributeError",
     "evalue": "'NoneType' object has no attribute 'getModel'",
     "output_type": "error",
     "traceback": [
      "\u001b[1;31m---------------------------------------------------------------------------\u001b[0m",
      "\u001b[1;31mAttributeError\u001b[0m                            Traceback (most recent call last)",
      "Cell \u001b[1;32mIn[5], line 9\u001b[0m\n\u001b[0;32m      3\u001b[0m \u001b[38;5;66;03m# create SBML report without performing units checks\u001b[39;00m\n\u001b[0;32m      4\u001b[0m doc \u001b[38;5;241m=\u001b[39m annotate_sbml(\n\u001b[0;32m      5\u001b[0m     source\u001b[38;5;241m=\u001b[39m \u001b[38;5;124m'\u001b[39m\u001b[38;5;124m../model/euromix.sbml\u001b[39m\u001b[38;5;124m'\u001b[39m, \n\u001b[0;32m      6\u001b[0m     annotations_path\u001b[38;5;241m=\u001b[39m \u001b[38;5;124m'\u001b[39m\u001b[38;5;124m../model/euromix.terms.csv\u001b[39m\u001b[38;5;124m'\u001b[39m, \n\u001b[0;32m      7\u001b[0m     filepath\u001b[38;5;241m=\u001b[39m\u001b[38;5;124m'\u001b[39m\u001b[38;5;124m../model/euromix.annotated.sbml\u001b[39m\u001b[38;5;124m'\u001b[39m\n\u001b[0;32m      8\u001b[0m )\n\u001b[1;32m----> 9\u001b[0m \u001b[38;5;28mprint\u001b[39m(\u001b[43mdoc\u001b[49m\u001b[38;5;241;43m.\u001b[39;49m\u001b[43mgetModel\u001b[49m())\n",
      "\u001b[1;31mAttributeError\u001b[0m: 'NoneType' object has no attribute 'getModel'"
     ]
    }
   ],
   "source": [
    "from sbmlutils.metadata.annotator import annotate_sbml\n",
    "\n",
    "# create SBML report without performing units checks\n",
    "annotate_sbml(\n",
    "    source= '../model/euromix.sbml', \n",
    "    annotations_path= '../model/euromix.terms.csv', \n",
    "    filepath='../model/euromix.annotated.sbml'\n",
    ")"
   ]
  },
  {
   "cell_type": "markdown",
   "metadata": {},
   "source": [
    "### Export RDF\n",
    "\n",
    "Not sure yet what to do with it, but it seems relevant to be able to generate RDF triplets accompanying the model."
   ]
  },
  {
   "cell_type": "code",
   "execution_count": null,
   "metadata": {},
   "outputs": [],
   "source": [
    "# TODO: code to export RDF file"
   ]
  }
 ],
 "metadata": {
  "kernelspec": {
   "display_name": "Python 3",
   "language": "python",
   "name": "python3"
  },
  "language_info": {
   "codemirror_mode": {
    "name": "ipython",
    "version": 3
   },
   "file_extension": ".py",
   "mimetype": "text/x-python",
   "name": "python",
   "nbconvert_exporter": "python",
   "pygments_lexer": "ipython3",
   "version": "3.11.2"
  }
 },
 "nbformat": 4,
 "nbformat_minor": 2
}

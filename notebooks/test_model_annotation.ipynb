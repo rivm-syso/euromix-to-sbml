{
 "cells": [
  {
   "cell_type": "markdown",
   "metadata": {},
   "source": [
    "# Model annotation"
   ]
  },
  {
   "cell_type": "markdown",
   "metadata": {},
   "source": [
    "## Read annotations file"
   ]
  },
  {
   "cell_type": "code",
   "execution_count": 1,
   "metadata": {},
   "outputs": [
    {
     "data": {
      "text/html": [
       "<pre style=\"white-space:pre;overflow-x:auto;line-height:normal;font-family:Menlo,'DejaVu Sans Mono',consolas,'Courier New',monospace\"></pre>\n"
      ],
      "text/plain": []
     },
     "metadata": {},
     "output_type": "display_data"
    },
    {
     "data": {
      "text/html": [
       "<div>\n",
       "<style scoped>\n",
       "    .dataframe tbody tr th:only-of-type {\n",
       "        vertical-align: middle;\n",
       "    }\n",
       "\n",
       "    .dataframe tbody tr th {\n",
       "        vertical-align: top;\n",
       "    }\n",
       "\n",
       "    .dataframe thead th {\n",
       "        text-align: right;\n",
       "    }\n",
       "</style>\n",
       "<table border=\"1\" class=\"dataframe\">\n",
       "  <thead>\n",
       "    <tr style=\"text-align: right;\">\n",
       "      <th></th>\n",
       "      <th>pattern</th>\n",
       "      <th>sbml_type</th>\n",
       "      <th>unit</th>\n",
       "      <th>element_id</th>\n",
       "      <th>element_description</th>\n",
       "      <th>annotation_type</th>\n",
       "      <th>qualifier</th>\n",
       "      <th>resource</th>\n",
       "      <th>name</th>\n",
       "      <th>remark</th>\n",
       "    </tr>\n",
       "  </thead>\n",
       "  <tbody>\n",
       "    <tr>\n",
       "      <th>0</th>\n",
       "      <td>NaN</td>\n",
       "      <td>document</td>\n",
       "      <td>NaN</td>\n",
       "      <td>NaN</td>\n",
       "      <td>NaN</td>\n",
       "      <td>rdf</td>\n",
       "      <td>BQM_IS</td>\n",
       "      <td>mamo/MAMO_0000203</td>\n",
       "      <td>physiologically based pharmacokinetic model</td>\n",
       "      <td>NaN</td>\n",
       "    </tr>\n",
       "    <tr>\n",
       "      <th>1</th>\n",
       "      <td>NaN</td>\n",
       "      <td>document</td>\n",
       "      <td>NaN</td>\n",
       "      <td>NaN</td>\n",
       "      <td>NaN</td>\n",
       "      <td>rdf</td>\n",
       "      <td>BQM_IS</td>\n",
       "      <td>mamo/MAMO_0000046</td>\n",
       "      <td>ordinary differential equation model</td>\n",
       "      <td>NaN</td>\n",
       "    </tr>\n",
       "    <tr>\n",
       "      <th>2</th>\n",
       "      <td>NaN</td>\n",
       "      <td>document</td>\n",
       "      <td>NaN</td>\n",
       "      <td>NaN</td>\n",
       "      <td>NaN</td>\n",
       "      <td>rdf</td>\n",
       "      <td>BQB_HAS_TAXON</td>\n",
       "      <td>taxonomy/40674</td>\n",
       "      <td>mammalia</td>\n",
       "      <td>NaN</td>\n",
       "    </tr>\n",
       "    <tr>\n",
       "      <th>3</th>\n",
       "      <td>default_compartment</td>\n",
       "      <td>compartment</td>\n",
       "      <td>NaN</td>\n",
       "      <td>default_compartment</td>\n",
       "      <td>NaN</td>\n",
       "      <td>rdf</td>\n",
       "      <td>BQB_IS</td>\n",
       "      <td>sbo/SBO:0000290</td>\n",
       "      <td>physical compartment</td>\n",
       "      <td>Seems to be used for QAir and QExcrete. Better...</td>\n",
       "    </tr>\n",
       "    <tr>\n",
       "      <th>4</th>\n",
       "      <td>Fat</td>\n",
       "      <td>compartment</td>\n",
       "      <td>NaN</td>\n",
       "      <td>Fat</td>\n",
       "      <td>adipose tissue</td>\n",
       "      <td>rdf</td>\n",
       "      <td>BQB_IS</td>\n",
       "      <td>uberon/UBERON:0001013</td>\n",
       "      <td>adipose tissue</td>\n",
       "      <td>NaN</td>\n",
       "    </tr>\n",
       "    <tr>\n",
       "      <th>...</th>\n",
       "      <td>...</td>\n",
       "      <td>...</td>\n",
       "      <td>...</td>\n",
       "      <td>...</td>\n",
       "      <td>...</td>\n",
       "      <td>...</td>\n",
       "      <td>...</td>\n",
       "      <td>...</td>\n",
       "      <td>...</td>\n",
       "      <td>...</td>\n",
       "    </tr>\n",
       "    <tr>\n",
       "      <th>85</th>\n",
       "      <td>oral_dose</td>\n",
       "      <td>parameter</td>\n",
       "      <td>NaN</td>\n",
       "      <td>oral_dose</td>\n",
       "      <td>dose 1sdosing</td>\n",
       "      <td>rdf</td>\n",
       "      <td>BQB_IS</td>\n",
       "      <td>obi/OBI:0000984</td>\n",
       "      <td>dose</td>\n",
       "      <td>Remove as parameter of the model</td>\n",
       "    </tr>\n",
       "    <tr>\n",
       "      <th>86</th>\n",
       "      <td>t_oral_dose_1</td>\n",
       "      <td>parameter</td>\n",
       "      <td>NaN</td>\n",
       "      <td>t_oral_dose_1</td>\n",
       "      <td>time 1st oral dosing</td>\n",
       "      <td>rdf</td>\n",
       "      <td>BQB_IS</td>\n",
       "      <td>pato/PATO:0000165</td>\n",
       "      <td>time</td>\n",
       "      <td>Remove as parameter of the model</td>\n",
       "    </tr>\n",
       "    <tr>\n",
       "      <th>87</th>\n",
       "      <td>t_oral_dose_2</td>\n",
       "      <td>parameter</td>\n",
       "      <td>NaN</td>\n",
       "      <td>t_oral_dose_2</td>\n",
       "      <td>time 2nd oral dosing</td>\n",
       "      <td>rdf</td>\n",
       "      <td>BQB_IS</td>\n",
       "      <td>pato/PATO:0000165</td>\n",
       "      <td>time</td>\n",
       "      <td>Remove as parameter of the model</td>\n",
       "    </tr>\n",
       "    <tr>\n",
       "      <th>88</th>\n",
       "      <td>f_su</td>\n",
       "      <td>parameter</td>\n",
       "      <td>NaN</td>\n",
       "      <td>f_su</td>\n",
       "      <td>???</td>\n",
       "      <td>rdf</td>\n",
       "      <td>BQB_IS</td>\n",
       "      <td>pbpko/PKPBO:00003</td>\n",
       "      <td>physiological parameters</td>\n",
       "      <td>Using generic term for physiological parameter.</td>\n",
       "    </tr>\n",
       "    <tr>\n",
       "      <th>89</th>\n",
       "      <td>f_se</td>\n",
       "      <td>parameter</td>\n",
       "      <td>NaN</td>\n",
       "      <td>f_se</td>\n",
       "      <td>???</td>\n",
       "      <td>rdf</td>\n",
       "      <td>BQB_IS</td>\n",
       "      <td>pbpko/PKPBO:00003</td>\n",
       "      <td>physiological parameters</td>\n",
       "      <td>Using generic term for physiological parameter.</td>\n",
       "    </tr>\n",
       "  </tbody>\n",
       "</table>\n",
       "<p>90 rows × 10 columns</p>\n",
       "</div>"
      ],
      "text/plain": [
       "\n",
       "                pattern    sbml_type  unit           element_id  \\\n",
       "\u001b[1;36m0\u001b[0m                   NaN     document   NaN                  NaN   \n",
       "\u001b[1;36m1\u001b[0m                   NaN     document   NaN                  NaN   \n",
       "\u001b[1;36m2\u001b[0m                   NaN     document   NaN                  NaN   \n",
       "\u001b[1;36m3\u001b[0m   default_compartment  compartment   NaN  default_compartment   \n",
       "\u001b[1;36m4\u001b[0m                   Fat  compartment   NaN                  Fat   \n",
       "..                  \u001b[33m...\u001b[0m          \u001b[33m...\u001b[0m   \u001b[33m...\u001b[0m                  \u001b[33m...\u001b[0m   \n",
       "\u001b[1;36m85\u001b[0m            oral_dose    parameter   NaN            oral_dose   \n",
       "\u001b[1;36m86\u001b[0m        t_oral_dose_1    parameter   NaN        t_oral_dose_1   \n",
       "\u001b[1;36m87\u001b[0m        t_oral_dose_2    parameter   NaN        t_oral_dose_2   \n",
       "\u001b[1;36m88\u001b[0m                 f_su    parameter   NaN                 f_su   \n",
       "\u001b[1;36m89\u001b[0m                 f_se    parameter   NaN                 f_se   \n",
       "\n",
       "     element_description annotation_type      qualifier  \\\n",
       "\u001b[1;36m0\u001b[0m                    NaN             rdf         BQM_IS   \n",
       "\u001b[1;36m1\u001b[0m                    NaN             rdf         BQM_IS   \n",
       "\u001b[1;36m2\u001b[0m                    NaN             rdf  BQB_HAS_TAXON   \n",
       "\u001b[1;36m3\u001b[0m                    NaN             rdf         BQB_IS   \n",
       "\u001b[1;36m4\u001b[0m         adipose tissue             rdf         BQB_IS   \n",
       "..                   \u001b[33m...\u001b[0m             \u001b[33m...\u001b[0m            \u001b[33m...\u001b[0m   \n",
       "\u001b[1;36m85\u001b[0m         dose 1sdosing             rdf         BQB_IS   \n",
       "\u001b[1;36m86\u001b[0m  time 1st oral dosing             rdf         BQB_IS   \n",
       "\u001b[1;36m87\u001b[0m  time 2nd oral dosing             rdf         BQB_IS   \n",
       "\u001b[1;36m88\u001b[0m                   ???             rdf         BQB_IS   \n",
       "\u001b[1;36m89\u001b[0m                   ???             rdf         BQB_IS   \n",
       "\n",
       "                 resource                                         name  \\\n",
       "\u001b[1;36m0\u001b[0m       mamo/MAMO_0000203  physiologically based pharmacokinetic model   \n",
       "\u001b[1;36m1\u001b[0m       mamo/MAMO_0000046         ordinary differential equation model   \n",
       "\u001b[1;36m2\u001b[0m          taxonomy/\u001b[1;36m40674\u001b[0m                                     mammalia   \n",
       "\u001b[1;36m3\u001b[0m         sbo/SBO:\u001b[1;36m0000290\u001b[0m                         physical compartment   \n",
       "\u001b[1;36m4\u001b[0m   uberon/UBERON:\u001b[1;36m0001013\u001b[0m                               adipose tissue   \n",
       "..                    \u001b[33m...\u001b[0m                                          \u001b[33m...\u001b[0m   \n",
       "\u001b[1;36m85\u001b[0m        obi/OBI:\u001b[1;36m0000984\u001b[0m                                         dose   \n",
       "\u001b[1;36m86\u001b[0m      pato/PATO:\u001b[1;36m0000165\u001b[0m                                         time   \n",
       "\u001b[1;36m87\u001b[0m      pato/PATO:\u001b[1;36m0000165\u001b[0m                                         time   \n",
       "\u001b[1;36m88\u001b[0m      pbpko/PKPBO:\u001b[1;36m00003\u001b[0m                     physiological parameters   \n",
       "\u001b[1;36m89\u001b[0m      pbpko/PKPBO:\u001b[1;36m00003\u001b[0m                     physiological parameters   \n",
       "\n",
       "                                               remark  \n",
       "\u001b[1;36m0\u001b[0m                                                 NaN  \n",
       "\u001b[1;36m1\u001b[0m                                                 NaN  \n",
       "\u001b[1;36m2\u001b[0m                                                 NaN  \n",
       "\u001b[1;36m3\u001b[0m   Seems to be used for QAir and QExcrete. Better\u001b[33m...\u001b[0m  \n",
       "\u001b[1;36m4\u001b[0m                                                 NaN  \n",
       "..                                                \u001b[33m...\u001b[0m  \n",
       "\u001b[1;36m85\u001b[0m                   Remove as parameter of the model  \n",
       "\u001b[1;36m86\u001b[0m                   Remove as parameter of the model  \n",
       "\u001b[1;36m87\u001b[0m                   Remove as parameter of the model  \n",
       "\u001b[1;36m88\u001b[0m    Using generic term for physiological parameter.  \n",
       "\u001b[1;36m89\u001b[0m    Using generic term for physiological parameter.  \n",
       "\n",
       "\u001b[1m[\u001b[0m\u001b[1;36m90\u001b[0m rows x \u001b[1;36m10\u001b[0m columns\u001b[1m]\u001b[0m"
      ]
     },
     "execution_count": 1,
     "metadata": {},
     "output_type": "execute_result"
    }
   ],
   "source": [
    "from sbmlutils.metadata.annotator import ModelAnnotator\n",
    "df = ModelAnnotator.read_annotations_df('../model/euromix.annotations.xlsx', file_format=\"xlsx\")\n",
    "df"
   ]
  },
  {
   "cell_type": "markdown",
   "metadata": {},
   "source": [
    "## Annotate the model"
   ]
  },
  {
   "cell_type": "code",
   "execution_count": 3,
   "metadata": {},
   "outputs": [
    {
     "data": {
      "text/html": [
       "<pre style=\"white-space:pre;overflow-x:auto;line-height:normal;font-family:Menlo,'DejaVu Sans Mono',consolas,'Courier New',monospace\"><span style=\"color: #800000; text-decoration-color: #800000; font-weight: bold\">ERROR   </span> All SBML paths should be of type <span style=\"color: #008000; text-decoration-color: #008000\">'Path'</span>, but <span style=\"color: #008000; text-decoration-color: #008000\">'&lt;class '</span><span style=\"color: #000000; text-decoration-color: #000000\">str'</span><span style=\"font-weight: bold\">&gt;</span>' found for: ..<span style=\"color: #800080; text-decoration-color: #800080\">/model/</span><span style=\"color: #ff00ff; text-decoration-color: #ff00ff\">euromix.sbml</span>   <a href=\"file://c:\\Programs\\python\\Lib\\site-packages\\sbmlutils\\io\\sbml.py\" target=\"_blank\"><span style=\"color: #7f7f7f; text-decoration-color: #7f7f7f\">sbml.py</span></a><span style=\"color: #7f7f7f; text-decoration-color: #7f7f7f\">:</span><a href=\"file://c:\\Programs\\python\\Lib\\site-packages\\sbmlutils\\io\\sbml.py#44\" target=\"_blank\"><span style=\"color: #7f7f7f; text-decoration-color: #7f7f7f\">44</span></a>\n",
       "</pre>\n"
      ],
      "text/plain": [
       "\u001b[1;31mERROR   \u001b[0m All SBML paths should be of type \u001b[32m'Path'\u001b[0m, but \u001b[32m'\u001b[0m\u001b[32m<\u001b[0m\u001b[32mclass\u001b[0m\u001b[32m '\u001b[0m\u001b[39mstr'\u001b[0m\u001b[1m>\u001b[0m' found for: ..\u001b[35m/model/\u001b[0m\u001b[95meuromix.sbml\u001b[0m   \u001b]8;id=764077;file://c:\\Programs\\python\\Lib\\site-packages\\sbmlutils\\io\\sbml.py\u001b\\\u001b[2msbml.py\u001b[0m\u001b]8;;\u001b\\\u001b[2m:\u001b[0m\u001b]8;id=714549;file://c:\\Programs\\python\\Lib\\site-packages\\sbmlutils\\io\\sbml.py#44\u001b\\\u001b[2m44\u001b[0m\u001b]8;;\u001b\\\n"
      ]
     },
     "metadata": {},
     "output_type": "display_data"
    },
    {
     "data": {
      "text/html": [
       "<pre style=\"white-space:pre;overflow-x:auto;line-height:normal;font-family:Menlo,'DejaVu Sans Mono',consolas,'Courier New',monospace\"><span style=\"color: #800000; text-decoration-color: #800000; font-weight: bold\">ERROR   </span> MIRIAM collection `obo` does not exist for term `NCIT:C81328`                            <a href=\"file://c:\\Programs\\python\\Lib\\site-packages\\pymetadata\\core\\annotation.py\" target=\"_blank\"><span style=\"color: #7f7f7f; text-decoration-color: #7f7f7f\">annotation.py</span></a><span style=\"color: #7f7f7f; text-decoration-color: #7f7f7f\">:</span><a href=\"file://c:\\Programs\\python\\Lib\\site-packages\\pymetadata\\core\\annotation.py#181\" target=\"_blank\"><span style=\"color: #7f7f7f; text-decoration-color: #7f7f7f\">181</span></a>\n",
       "</pre>\n"
      ],
      "text/plain": [
       "\u001b[1;31mERROR   \u001b[0m MIRIAM collection `obo` does not exist for term `NCIT:C81328`                            \u001b]8;id=277624;file://c:\\Programs\\python\\Lib\\site-packages\\pymetadata\\core\\annotation.py\u001b\\\u001b[2mannotation.py\u001b[0m\u001b]8;;\u001b\\\u001b[2m:\u001b[0m\u001b]8;id=433256;file://c:\\Programs\\python\\Lib\\site-packages\\pymetadata\\core\\annotation.py#181\u001b\\\u001b[2m181\u001b[0m\u001b]8;;\u001b\\\n"
      ]
     },
     "metadata": {},
     "output_type": "display_data"
    },
    {
     "data": {
      "text/html": [
       "<pre style=\"white-space:pre;overflow-x:auto;line-height:normal;font-family:Menlo,'DejaVu Sans Mono',consolas,'Courier New',monospace\"><span style=\"color: #800000; text-decoration-color: #800000; font-weight: bold\">ERROR   </span> MIRIAM collection `obo` does not exist for term `NCIT:C25157`                            <a href=\"file://c:\\Programs\\python\\Lib\\site-packages\\pymetadata\\core\\annotation.py\" target=\"_blank\"><span style=\"color: #7f7f7f; text-decoration-color: #7f7f7f\">annotation.py</span></a><span style=\"color: #7f7f7f; text-decoration-color: #7f7f7f\">:</span><a href=\"file://c:\\Programs\\python\\Lib\\site-packages\\pymetadata\\core\\annotation.py#181\" target=\"_blank\"><span style=\"color: #7f7f7f; text-decoration-color: #7f7f7f\">181</span></a>\n",
       "</pre>\n"
      ],
      "text/plain": [
       "\u001b[1;31mERROR   \u001b[0m MIRIAM collection `obo` does not exist for term `NCIT:C25157`                            \u001b]8;id=42991;file://c:\\Programs\\python\\Lib\\site-packages\\pymetadata\\core\\annotation.py\u001b\\\u001b[2mannotation.py\u001b[0m\u001b]8;;\u001b\\\u001b[2m:\u001b[0m\u001b]8;id=583640;file://c:\\Programs\\python\\Lib\\site-packages\\pymetadata\\core\\annotation.py#181\u001b\\\u001b[2m181\u001b[0m\u001b]8;;\u001b\\\n"
      ]
     },
     "metadata": {},
     "output_type": "display_data"
    },
    {
     "data": {
      "text/html": [
       "<pre style=\"white-space:pre;overflow-x:auto;line-height:normal;font-family:Menlo,'DejaVu Sans Mono',consolas,'Courier New',monospace\"><span style=\"color: #800000; text-decoration-color: #800000; font-weight: bold\">ERROR   </span> Term `OBA:VT0001200` did not match pattern `^OBA:\\d+$` for collection `oba`.             <a href=\"file://c:\\Programs\\python\\Lib\\site-packages\\pymetadata\\core\\annotation.py\" target=\"_blank\"><span style=\"color: #7f7f7f; text-decoration-color: #7f7f7f\">annotation.py</span></a><span style=\"color: #7f7f7f; text-decoration-color: #7f7f7f\">:</span><a href=\"file://c:\\Programs\\python\\Lib\\site-packages\\pymetadata\\core\\annotation.py#189\" target=\"_blank\"><span style=\"color: #7f7f7f; text-decoration-color: #7f7f7f\">189</span></a>\n",
       "</pre>\n"
      ],
      "text/plain": [
       "\u001b[1;31mERROR   \u001b[0m Term `OBA:VT0001200` did not match pattern `^OBA:\\d+$` for collection `oba`.             \u001b]8;id=585552;file://c:\\Programs\\python\\Lib\\site-packages\\pymetadata\\core\\annotation.py\u001b\\\u001b[2mannotation.py\u001b[0m\u001b]8;;\u001b\\\u001b[2m:\u001b[0m\u001b]8;id=880010;file://c:\\Programs\\python\\Lib\\site-packages\\pymetadata\\core\\annotation.py#189\u001b\\\u001b[2m189\u001b[0m\u001b]8;;\u001b\\\n"
      ]
     },
     "metadata": {},
     "output_type": "display_data"
    },
    {
     "data": {
      "text/html": [
       "<pre style=\"white-space:pre;overflow-x:auto;line-height:normal;font-family:Menlo,'DejaVu Sans Mono',consolas,'Courier New',monospace\"><span style=\"color: #800000; text-decoration-color: #800000; font-weight: bold\">ERROR   </span> Term `OBA:VT0001200` did not match pattern `^OBA:\\d+$` for collection `oba`.             <a href=\"file://c:\\Programs\\python\\Lib\\site-packages\\pymetadata\\core\\annotation.py\" target=\"_blank\"><span style=\"color: #7f7f7f; text-decoration-color: #7f7f7f\">annotation.py</span></a><span style=\"color: #7f7f7f; text-decoration-color: #7f7f7f\">:</span><a href=\"file://c:\\Programs\\python\\Lib\\site-packages\\pymetadata\\core\\annotation.py#189\" target=\"_blank\"><span style=\"color: #7f7f7f; text-decoration-color: #7f7f7f\">189</span></a>\n",
       "</pre>\n"
      ],
      "text/plain": [
       "\u001b[1;31mERROR   \u001b[0m Term `OBA:VT0001200` did not match pattern `^OBA:\\d+$` for collection `oba`.             \u001b]8;id=130287;file://c:\\Programs\\python\\Lib\\site-packages\\pymetadata\\core\\annotation.py\u001b\\\u001b[2mannotation.py\u001b[0m\u001b]8;;\u001b\\\u001b[2m:\u001b[0m\u001b]8;id=799658;file://c:\\Programs\\python\\Lib\\site-packages\\pymetadata\\core\\annotation.py#189\u001b\\\u001b[2m189\u001b[0m\u001b]8;;\u001b\\\n"
      ]
     },
     "metadata": {},
     "output_type": "display_data"
    },
    {
     "data": {
      "text/html": [
       "<pre style=\"white-space:pre;overflow-x:auto;line-height:normal;font-family:Menlo,'DejaVu Sans Mono',consolas,'Courier New',monospace\"><span style=\"color: #800000; text-decoration-color: #800000; font-weight: bold\">ERROR   </span> MIRIAM collection `pkpbo` does not exist for term `PKPBO:<span style=\"color: #008080; text-decoration-color: #008080; font-weight: bold\">00077</span>`                          <a href=\"file://c:\\Programs\\python\\Lib\\site-packages\\pymetadata\\core\\annotation.py\" target=\"_blank\"><span style=\"color: #7f7f7f; text-decoration-color: #7f7f7f\">annotation.py</span></a><span style=\"color: #7f7f7f; text-decoration-color: #7f7f7f\">:</span><a href=\"file://c:\\Programs\\python\\Lib\\site-packages\\pymetadata\\core\\annotation.py#181\" target=\"_blank\"><span style=\"color: #7f7f7f; text-decoration-color: #7f7f7f\">181</span></a>\n",
       "</pre>\n"
      ],
      "text/plain": [
       "\u001b[1;31mERROR   \u001b[0m MIRIAM collection `pkpbo` does not exist for term `PKPBO:\u001b[1;36m00077\u001b[0m`                          \u001b]8;id=776344;file://c:\\Programs\\python\\Lib\\site-packages\\pymetadata\\core\\annotation.py\u001b\\\u001b[2mannotation.py\u001b[0m\u001b]8;;\u001b\\\u001b[2m:\u001b[0m\u001b]8;id=963177;file://c:\\Programs\\python\\Lib\\site-packages\\pymetadata\\core\\annotation.py#181\u001b\\\u001b[2m181\u001b[0m\u001b]8;;\u001b\\\n"
      ]
     },
     "metadata": {},
     "output_type": "display_data"
    },
    {
     "data": {
      "text/html": [
       "<pre style=\"white-space:pre;overflow-x:auto;line-height:normal;font-family:Menlo,'DejaVu Sans Mono',consolas,'Courier New',monospace\"><span style=\"color: #800000; text-decoration-color: #800000; font-weight: bold\">ERROR   </span> MIRIAM collection `pkpbo` does not exist for term `PKPBO:<span style=\"color: #008080; text-decoration-color: #008080; font-weight: bold\">00093</span>`                          <a href=\"file://c:\\Programs\\python\\Lib\\site-packages\\pymetadata\\core\\annotation.py\" target=\"_blank\"><span style=\"color: #7f7f7f; text-decoration-color: #7f7f7f\">annotation.py</span></a><span style=\"color: #7f7f7f; text-decoration-color: #7f7f7f\">:</span><a href=\"file://c:\\Programs\\python\\Lib\\site-packages\\pymetadata\\core\\annotation.py#181\" target=\"_blank\"><span style=\"color: #7f7f7f; text-decoration-color: #7f7f7f\">181</span></a>\n",
       "</pre>\n"
      ],
      "text/plain": [
       "\u001b[1;31mERROR   \u001b[0m MIRIAM collection `pkpbo` does not exist for term `PKPBO:\u001b[1;36m00093\u001b[0m`                          \u001b]8;id=930296;file://c:\\Programs\\python\\Lib\\site-packages\\pymetadata\\core\\annotation.py\u001b\\\u001b[2mannotation.py\u001b[0m\u001b]8;;\u001b\\\u001b[2m:\u001b[0m\u001b]8;id=180376;file://c:\\Programs\\python\\Lib\\site-packages\\pymetadata\\core\\annotation.py#181\u001b\\\u001b[2m181\u001b[0m\u001b]8;;\u001b\\\n"
      ]
     },
     "metadata": {},
     "output_type": "display_data"
    },
    {
     "data": {
      "text/html": [
       "<pre style=\"white-space:pre;overflow-x:auto;line-height:normal;font-family:Menlo,'DejaVu Sans Mono',consolas,'Courier New',monospace\"><span style=\"color: #800000; text-decoration-color: #800000; font-weight: bold\">ERROR   </span> MIRIAM collection `pkpbo` does not exist for term `PKPBO:<span style=\"color: #008080; text-decoration-color: #008080; font-weight: bold\">00069</span>`                          <a href=\"file://c:\\Programs\\python\\Lib\\site-packages\\pymetadata\\core\\annotation.py\" target=\"_blank\"><span style=\"color: #7f7f7f; text-decoration-color: #7f7f7f\">annotation.py</span></a><span style=\"color: #7f7f7f; text-decoration-color: #7f7f7f\">:</span><a href=\"file://c:\\Programs\\python\\Lib\\site-packages\\pymetadata\\core\\annotation.py#181\" target=\"_blank\"><span style=\"color: #7f7f7f; text-decoration-color: #7f7f7f\">181</span></a>\n",
       "</pre>\n"
      ],
      "text/plain": [
       "\u001b[1;31mERROR   \u001b[0m MIRIAM collection `pkpbo` does not exist for term `PKPBO:\u001b[1;36m00069\u001b[0m`                          \u001b]8;id=405773;file://c:\\Programs\\python\\Lib\\site-packages\\pymetadata\\core\\annotation.py\u001b\\\u001b[2mannotation.py\u001b[0m\u001b]8;;\u001b\\\u001b[2m:\u001b[0m\u001b]8;id=108422;file://c:\\Programs\\python\\Lib\\site-packages\\pymetadata\\core\\annotation.py#181\u001b\\\u001b[2m181\u001b[0m\u001b]8;;\u001b\\\n"
      ]
     },
     "metadata": {},
     "output_type": "display_data"
    },
    {
     "data": {
      "text/html": [
       "<pre style=\"white-space:pre;overflow-x:auto;line-height:normal;font-family:Menlo,'DejaVu Sans Mono',consolas,'Courier New',monospace\"><span style=\"color: #800000; text-decoration-color: #800000; font-weight: bold\">ERROR   </span> MIRIAM collection `pkpbo` does not exist for term `PKPBO:<span style=\"color: #008080; text-decoration-color: #008080; font-weight: bold\">00091</span>`                          <a href=\"file://c:\\Programs\\python\\Lib\\site-packages\\pymetadata\\core\\annotation.py\" target=\"_blank\"><span style=\"color: #7f7f7f; text-decoration-color: #7f7f7f\">annotation.py</span></a><span style=\"color: #7f7f7f; text-decoration-color: #7f7f7f\">:</span><a href=\"file://c:\\Programs\\python\\Lib\\site-packages\\pymetadata\\core\\annotation.py#181\" target=\"_blank\"><span style=\"color: #7f7f7f; text-decoration-color: #7f7f7f\">181</span></a>\n",
       "</pre>\n"
      ],
      "text/plain": [
       "\u001b[1;31mERROR   \u001b[0m MIRIAM collection `pkpbo` does not exist for term `PKPBO:\u001b[1;36m00091\u001b[0m`                          \u001b]8;id=408104;file://c:\\Programs\\python\\Lib\\site-packages\\pymetadata\\core\\annotation.py\u001b\\\u001b[2mannotation.py\u001b[0m\u001b]8;;\u001b\\\u001b[2m:\u001b[0m\u001b]8;id=284933;file://c:\\Programs\\python\\Lib\\site-packages\\pymetadata\\core\\annotation.py#181\u001b\\\u001b[2m181\u001b[0m\u001b]8;;\u001b\\\n"
      ]
     },
     "metadata": {},
     "output_type": "display_data"
    },
    {
     "data": {
      "text/html": [
       "<pre style=\"white-space:pre;overflow-x:auto;line-height:normal;font-family:Menlo,'DejaVu Sans Mono',consolas,'Courier New',monospace\"><span style=\"color: #800000; text-decoration-color: #800000; font-weight: bold\">ERROR   </span> Term `OBA:VT0000182` did not match pattern `^OBA:\\d+$` for collection `oba`.             <a href=\"file://c:\\Programs\\python\\Lib\\site-packages\\pymetadata\\core\\annotation.py\" target=\"_blank\"><span style=\"color: #7f7f7f; text-decoration-color: #7f7f7f\">annotation.py</span></a><span style=\"color: #7f7f7f; text-decoration-color: #7f7f7f\">:</span><a href=\"file://c:\\Programs\\python\\Lib\\site-packages\\pymetadata\\core\\annotation.py#189\" target=\"_blank\"><span style=\"color: #7f7f7f; text-decoration-color: #7f7f7f\">189</span></a>\n",
       "</pre>\n"
      ],
      "text/plain": [
       "\u001b[1;31mERROR   \u001b[0m Term `OBA:VT0000182` did not match pattern `^OBA:\\d+$` for collection `oba`.             \u001b]8;id=717794;file://c:\\Programs\\python\\Lib\\site-packages\\pymetadata\\core\\annotation.py\u001b\\\u001b[2mannotation.py\u001b[0m\u001b]8;;\u001b\\\u001b[2m:\u001b[0m\u001b]8;id=817512;file://c:\\Programs\\python\\Lib\\site-packages\\pymetadata\\core\\annotation.py#189\u001b\\\u001b[2m189\u001b[0m\u001b]8;;\u001b\\\n"
      ]
     },
     "metadata": {},
     "output_type": "display_data"
    },
    {
     "data": {
      "text/html": [
       "<pre style=\"white-space:pre;overflow-x:auto;line-height:normal;font-family:Menlo,'DejaVu Sans Mono',consolas,'Courier New',monospace\"><span style=\"color: #800000; text-decoration-color: #800000; font-weight: bold\">ERROR   </span> MIRIAM collection `obo` does not exist for term `NCIT:C94866`                            <a href=\"file://c:\\Programs\\python\\Lib\\site-packages\\pymetadata\\core\\annotation.py\" target=\"_blank\"><span style=\"color: #7f7f7f; text-decoration-color: #7f7f7f\">annotation.py</span></a><span style=\"color: #7f7f7f; text-decoration-color: #7f7f7f\">:</span><a href=\"file://c:\\Programs\\python\\Lib\\site-packages\\pymetadata\\core\\annotation.py#181\" target=\"_blank\"><span style=\"color: #7f7f7f; text-decoration-color: #7f7f7f\">181</span></a>\n",
       "</pre>\n"
      ],
      "text/plain": [
       "\u001b[1;31mERROR   \u001b[0m MIRIAM collection `obo` does not exist for term `NCIT:C94866`                            \u001b]8;id=719180;file://c:\\Programs\\python\\Lib\\site-packages\\pymetadata\\core\\annotation.py\u001b\\\u001b[2mannotation.py\u001b[0m\u001b]8;;\u001b\\\u001b[2m:\u001b[0m\u001b]8;id=130770;file://c:\\Programs\\python\\Lib\\site-packages\\pymetadata\\core\\annotation.py#181\u001b\\\u001b[2m181\u001b[0m\u001b]8;;\u001b\\\n"
      ]
     },
     "metadata": {},
     "output_type": "display_data"
    },
    {
     "data": {
      "text/html": [
       "<pre style=\"white-space:pre;overflow-x:auto;line-height:normal;font-family:Menlo,'DejaVu Sans Mono',consolas,'Courier New',monospace\"><span style=\"color: #800000; text-decoration-color: #800000; font-weight: bold\">ERROR   </span> MIRIAM collection `obo` does not exist for term `NCIT:C94866`                            <a href=\"file://c:\\Programs\\python\\Lib\\site-packages\\pymetadata\\core\\annotation.py\" target=\"_blank\"><span style=\"color: #7f7f7f; text-decoration-color: #7f7f7f\">annotation.py</span></a><span style=\"color: #7f7f7f; text-decoration-color: #7f7f7f\">:</span><a href=\"file://c:\\Programs\\python\\Lib\\site-packages\\pymetadata\\core\\annotation.py#181\" target=\"_blank\"><span style=\"color: #7f7f7f; text-decoration-color: #7f7f7f\">181</span></a>\n",
       "</pre>\n"
      ],
      "text/plain": [
       "\u001b[1;31mERROR   \u001b[0m MIRIAM collection `obo` does not exist for term `NCIT:C94866`                            \u001b]8;id=426137;file://c:\\Programs\\python\\Lib\\site-packages\\pymetadata\\core\\annotation.py\u001b\\\u001b[2mannotation.py\u001b[0m\u001b]8;;\u001b\\\u001b[2m:\u001b[0m\u001b]8;id=863807;file://c:\\Programs\\python\\Lib\\site-packages\\pymetadata\\core\\annotation.py#181\u001b\\\u001b[2m181\u001b[0m\u001b]8;;\u001b\\\n"
      ]
     },
     "metadata": {},
     "output_type": "display_data"
    },
    {
     "data": {
      "text/html": [
       "<pre style=\"white-space:pre;overflow-x:auto;line-height:normal;font-family:Menlo,'DejaVu Sans Mono',consolas,'Courier New',monospace\"><span style=\"color: #800000; text-decoration-color: #800000; font-weight: bold\">ERROR   </span> MIRIAM collection `obo` does not exist for term `NCIT:C94866`                            <a href=\"file://c:\\Programs\\python\\Lib\\site-packages\\pymetadata\\core\\annotation.py\" target=\"_blank\"><span style=\"color: #7f7f7f; text-decoration-color: #7f7f7f\">annotation.py</span></a><span style=\"color: #7f7f7f; text-decoration-color: #7f7f7f\">:</span><a href=\"file://c:\\Programs\\python\\Lib\\site-packages\\pymetadata\\core\\annotation.py#181\" target=\"_blank\"><span style=\"color: #7f7f7f; text-decoration-color: #7f7f7f\">181</span></a>\n",
       "</pre>\n"
      ],
      "text/plain": [
       "\u001b[1;31mERROR   \u001b[0m MIRIAM collection `obo` does not exist for term `NCIT:C94866`                            \u001b]8;id=379765;file://c:\\Programs\\python\\Lib\\site-packages\\pymetadata\\core\\annotation.py\u001b\\\u001b[2mannotation.py\u001b[0m\u001b]8;;\u001b\\\u001b[2m:\u001b[0m\u001b]8;id=282802;file://c:\\Programs\\python\\Lib\\site-packages\\pymetadata\\core\\annotation.py#181\u001b\\\u001b[2m181\u001b[0m\u001b]8;;\u001b\\\n"
      ]
     },
     "metadata": {},
     "output_type": "display_data"
    },
    {
     "data": {
      "text/html": [
       "<pre style=\"white-space:pre;overflow-x:auto;line-height:normal;font-family:Menlo,'DejaVu Sans Mono',consolas,'Courier New',monospace\"><span style=\"color: #800000; text-decoration-color: #800000; font-weight: bold\">ERROR   </span> MIRIAM collection `obo` does not exist for term `NCIT:C94866`                            <a href=\"file://c:\\Programs\\python\\Lib\\site-packages\\pymetadata\\core\\annotation.py\" target=\"_blank\"><span style=\"color: #7f7f7f; text-decoration-color: #7f7f7f\">annotation.py</span></a><span style=\"color: #7f7f7f; text-decoration-color: #7f7f7f\">:</span><a href=\"file://c:\\Programs\\python\\Lib\\site-packages\\pymetadata\\core\\annotation.py#181\" target=\"_blank\"><span style=\"color: #7f7f7f; text-decoration-color: #7f7f7f\">181</span></a>\n",
       "</pre>\n"
      ],
      "text/plain": [
       "\u001b[1;31mERROR   \u001b[0m MIRIAM collection `obo` does not exist for term `NCIT:C94866`                            \u001b]8;id=410860;file://c:\\Programs\\python\\Lib\\site-packages\\pymetadata\\core\\annotation.py\u001b\\\u001b[2mannotation.py\u001b[0m\u001b]8;;\u001b\\\u001b[2m:\u001b[0m\u001b]8;id=353929;file://c:\\Programs\\python\\Lib\\site-packages\\pymetadata\\core\\annotation.py#181\u001b\\\u001b[2m181\u001b[0m\u001b]8;;\u001b\\\n"
      ]
     },
     "metadata": {},
     "output_type": "display_data"
    },
    {
     "data": {
      "text/html": [
       "<pre style=\"white-space:pre;overflow-x:auto;line-height:normal;font-family:Menlo,'DejaVu Sans Mono',consolas,'Courier New',monospace\"><span style=\"color: #800000; text-decoration-color: #800000; font-weight: bold\">ERROR   </span> MIRIAM collection `obo` does not exist for term `NCIT:C94866`                            <a href=\"file://c:\\Programs\\python\\Lib\\site-packages\\pymetadata\\core\\annotation.py\" target=\"_blank\"><span style=\"color: #7f7f7f; text-decoration-color: #7f7f7f\">annotation.py</span></a><span style=\"color: #7f7f7f; text-decoration-color: #7f7f7f\">:</span><a href=\"file://c:\\Programs\\python\\Lib\\site-packages\\pymetadata\\core\\annotation.py#181\" target=\"_blank\"><span style=\"color: #7f7f7f; text-decoration-color: #7f7f7f\">181</span></a>\n",
       "</pre>\n"
      ],
      "text/plain": [
       "\u001b[1;31mERROR   \u001b[0m MIRIAM collection `obo` does not exist for term `NCIT:C94866`                            \u001b]8;id=629017;file://c:\\Programs\\python\\Lib\\site-packages\\pymetadata\\core\\annotation.py\u001b\\\u001b[2mannotation.py\u001b[0m\u001b]8;;\u001b\\\u001b[2m:\u001b[0m\u001b]8;id=421527;file://c:\\Programs\\python\\Lib\\site-packages\\pymetadata\\core\\annotation.py#181\u001b\\\u001b[2m181\u001b[0m\u001b]8;;\u001b\\\n"
      ]
     },
     "metadata": {},
     "output_type": "display_data"
    },
    {
     "data": {
      "text/html": [
       "<pre style=\"white-space:pre;overflow-x:auto;line-height:normal;font-family:Menlo,'DejaVu Sans Mono',consolas,'Courier New',monospace\"><span style=\"color: #800000; text-decoration-color: #800000; font-weight: bold\">ERROR   </span> MIRIAM collection `obo` does not exist for term `NCIT:C94866`                            <a href=\"file://c:\\Programs\\python\\Lib\\site-packages\\pymetadata\\core\\annotation.py\" target=\"_blank\"><span style=\"color: #7f7f7f; text-decoration-color: #7f7f7f\">annotation.py</span></a><span style=\"color: #7f7f7f; text-decoration-color: #7f7f7f\">:</span><a href=\"file://c:\\Programs\\python\\Lib\\site-packages\\pymetadata\\core\\annotation.py#181\" target=\"_blank\"><span style=\"color: #7f7f7f; text-decoration-color: #7f7f7f\">181</span></a>\n",
       "</pre>\n"
      ],
      "text/plain": [
       "\u001b[1;31mERROR   \u001b[0m MIRIAM collection `obo` does not exist for term `NCIT:C94866`                            \u001b]8;id=940129;file://c:\\Programs\\python\\Lib\\site-packages\\pymetadata\\core\\annotation.py\u001b\\\u001b[2mannotation.py\u001b[0m\u001b]8;;\u001b\\\u001b[2m:\u001b[0m\u001b]8;id=765935;file://c:\\Programs\\python\\Lib\\site-packages\\pymetadata\\core\\annotation.py#181\u001b\\\u001b[2m181\u001b[0m\u001b]8;;\u001b\\\n"
      ]
     },
     "metadata": {},
     "output_type": "display_data"
    },
    {
     "data": {
      "text/html": [
       "<pre style=\"white-space:pre;overflow-x:auto;line-height:normal;font-family:Menlo,'DejaVu Sans Mono',consolas,'Courier New',monospace\"><span style=\"color: #800000; text-decoration-color: #800000; font-weight: bold\">ERROR   </span> MIRIAM collection `obo` does not exist for term `NCIT:C94866`                            <a href=\"file://c:\\Programs\\python\\Lib\\site-packages\\pymetadata\\core\\annotation.py\" target=\"_blank\"><span style=\"color: #7f7f7f; text-decoration-color: #7f7f7f\">annotation.py</span></a><span style=\"color: #7f7f7f; text-decoration-color: #7f7f7f\">:</span><a href=\"file://c:\\Programs\\python\\Lib\\site-packages\\pymetadata\\core\\annotation.py#181\" target=\"_blank\"><span style=\"color: #7f7f7f; text-decoration-color: #7f7f7f\">181</span></a>\n",
       "</pre>\n"
      ],
      "text/plain": [
       "\u001b[1;31mERROR   \u001b[0m MIRIAM collection `obo` does not exist for term `NCIT:C94866`                            \u001b]8;id=245225;file://c:\\Programs\\python\\Lib\\site-packages\\pymetadata\\core\\annotation.py\u001b\\\u001b[2mannotation.py\u001b[0m\u001b]8;;\u001b\\\u001b[2m:\u001b[0m\u001b]8;id=859274;file://c:\\Programs\\python\\Lib\\site-packages\\pymetadata\\core\\annotation.py#181\u001b\\\u001b[2m181\u001b[0m\u001b]8;;\u001b\\\n"
      ]
     },
     "metadata": {},
     "output_type": "display_data"
    },
    {
     "data": {
      "text/html": [
       "<pre style=\"white-space:pre;overflow-x:auto;line-height:normal;font-family:Menlo,'DejaVu Sans Mono',consolas,'Courier New',monospace\"><span style=\"color: #800000; text-decoration-color: #800000; font-weight: bold\">ERROR   </span> MIRIAM collection `obo` does not exist for term `NCIT:C94866`                            <a href=\"file://c:\\Programs\\python\\Lib\\site-packages\\pymetadata\\core\\annotation.py\" target=\"_blank\"><span style=\"color: #7f7f7f; text-decoration-color: #7f7f7f\">annotation.py</span></a><span style=\"color: #7f7f7f; text-decoration-color: #7f7f7f\">:</span><a href=\"file://c:\\Programs\\python\\Lib\\site-packages\\pymetadata\\core\\annotation.py#181\" target=\"_blank\"><span style=\"color: #7f7f7f; text-decoration-color: #7f7f7f\">181</span></a>\n",
       "</pre>\n"
      ],
      "text/plain": [
       "\u001b[1;31mERROR   \u001b[0m MIRIAM collection `obo` does not exist for term `NCIT:C94866`                            \u001b]8;id=95545;file://c:\\Programs\\python\\Lib\\site-packages\\pymetadata\\core\\annotation.py\u001b\\\u001b[2mannotation.py\u001b[0m\u001b]8;;\u001b\\\u001b[2m:\u001b[0m\u001b]8;id=178510;file://c:\\Programs\\python\\Lib\\site-packages\\pymetadata\\core\\annotation.py#181\u001b\\\u001b[2m181\u001b[0m\u001b]8;;\u001b\\\n"
      ]
     },
     "metadata": {},
     "output_type": "display_data"
    },
    {
     "data": {
      "text/html": [
       "<pre style=\"white-space:pre;overflow-x:auto;line-height:normal;font-family:Menlo,'DejaVu Sans Mono',consolas,'Courier New',monospace\"><span style=\"color: #800000; text-decoration-color: #800000; font-weight: bold\">ERROR   </span> MIRIAM collection `obo` does not exist for term `NCIT:C94866`                            <a href=\"file://c:\\Programs\\python\\Lib\\site-packages\\pymetadata\\core\\annotation.py\" target=\"_blank\"><span style=\"color: #7f7f7f; text-decoration-color: #7f7f7f\">annotation.py</span></a><span style=\"color: #7f7f7f; text-decoration-color: #7f7f7f\">:</span><a href=\"file://c:\\Programs\\python\\Lib\\site-packages\\pymetadata\\core\\annotation.py#181\" target=\"_blank\"><span style=\"color: #7f7f7f; text-decoration-color: #7f7f7f\">181</span></a>\n",
       "</pre>\n"
      ],
      "text/plain": [
       "\u001b[1;31mERROR   \u001b[0m MIRIAM collection `obo` does not exist for term `NCIT:C94866`                            \u001b]8;id=8913;file://c:\\Programs\\python\\Lib\\site-packages\\pymetadata\\core\\annotation.py\u001b\\\u001b[2mannotation.py\u001b[0m\u001b]8;;\u001b\\\u001b[2m:\u001b[0m\u001b]8;id=366283;file://c:\\Programs\\python\\Lib\\site-packages\\pymetadata\\core\\annotation.py#181\u001b\\\u001b[2m181\u001b[0m\u001b]8;;\u001b\\\n"
      ]
     },
     "metadata": {},
     "output_type": "display_data"
    },
    {
     "data": {
      "text/html": [
       "<pre style=\"white-space:pre;overflow-x:auto;line-height:normal;font-family:Menlo,'DejaVu Sans Mono',consolas,'Courier New',monospace\"><span style=\"color: #800000; text-decoration-color: #800000; font-weight: bold\">ERROR   </span> MIRIAM collection `obo` does not exist for term `NCIT:C94866`                            <a href=\"file://c:\\Programs\\python\\Lib\\site-packages\\pymetadata\\core\\annotation.py\" target=\"_blank\"><span style=\"color: #7f7f7f; text-decoration-color: #7f7f7f\">annotation.py</span></a><span style=\"color: #7f7f7f; text-decoration-color: #7f7f7f\">:</span><a href=\"file://c:\\Programs\\python\\Lib\\site-packages\\pymetadata\\core\\annotation.py#181\" target=\"_blank\"><span style=\"color: #7f7f7f; text-decoration-color: #7f7f7f\">181</span></a>\n",
       "</pre>\n"
      ],
      "text/plain": [
       "\u001b[1;31mERROR   \u001b[0m MIRIAM collection `obo` does not exist for term `NCIT:C94866`                            \u001b]8;id=857490;file://c:\\Programs\\python\\Lib\\site-packages\\pymetadata\\core\\annotation.py\u001b\\\u001b[2mannotation.py\u001b[0m\u001b]8;;\u001b\\\u001b[2m:\u001b[0m\u001b]8;id=9161;file://c:\\Programs\\python\\Lib\\site-packages\\pymetadata\\core\\annotation.py#181\u001b\\\u001b[2m181\u001b[0m\u001b]8;;\u001b\\\n"
      ]
     },
     "metadata": {},
     "output_type": "display_data"
    },
    {
     "data": {
      "text/html": [
       "<pre style=\"white-space:pre;overflow-x:auto;line-height:normal;font-family:Menlo,'DejaVu Sans Mono',consolas,'Courier New',monospace\"><span style=\"color: #800000; text-decoration-color: #800000; font-weight: bold\">ERROR   </span> MIRIAM collection `obo` does not exist for term `NCIT:C94967`                            <a href=\"file://c:\\Programs\\python\\Lib\\site-packages\\pymetadata\\core\\annotation.py\" target=\"_blank\"><span style=\"color: #7f7f7f; text-decoration-color: #7f7f7f\">annotation.py</span></a><span style=\"color: #7f7f7f; text-decoration-color: #7f7f7f\">:</span><a href=\"file://c:\\Programs\\python\\Lib\\site-packages\\pymetadata\\core\\annotation.py#181\" target=\"_blank\"><span style=\"color: #7f7f7f; text-decoration-color: #7f7f7f\">181</span></a>\n",
       "</pre>\n"
      ],
      "text/plain": [
       "\u001b[1;31mERROR   \u001b[0m MIRIAM collection `obo` does not exist for term `NCIT:C94967`                            \u001b]8;id=690453;file://c:\\Programs\\python\\Lib\\site-packages\\pymetadata\\core\\annotation.py\u001b\\\u001b[2mannotation.py\u001b[0m\u001b]8;;\u001b\\\u001b[2m:\u001b[0m\u001b]8;id=511216;file://c:\\Programs\\python\\Lib\\site-packages\\pymetadata\\core\\annotation.py#181\u001b\\\u001b[2m181\u001b[0m\u001b]8;;\u001b\\\n"
      ]
     },
     "metadata": {},
     "output_type": "display_data"
    },
    {
     "data": {
      "text/html": [
       "<pre style=\"white-space:pre;overflow-x:auto;line-height:normal;font-family:Menlo,'DejaVu Sans Mono',consolas,'Courier New',monospace\"><span style=\"color: #800000; text-decoration-color: #800000; font-weight: bold\">ERROR   </span> MIRIAM collection `obo` does not exist for term `NCIT:C20610`                            <a href=\"file://c:\\Programs\\python\\Lib\\site-packages\\pymetadata\\core\\annotation.py\" target=\"_blank\"><span style=\"color: #7f7f7f; text-decoration-color: #7f7f7f\">annotation.py</span></a><span style=\"color: #7f7f7f; text-decoration-color: #7f7f7f\">:</span><a href=\"file://c:\\Programs\\python\\Lib\\site-packages\\pymetadata\\core\\annotation.py#181\" target=\"_blank\"><span style=\"color: #7f7f7f; text-decoration-color: #7f7f7f\">181</span></a>\n",
       "</pre>\n"
      ],
      "text/plain": [
       "\u001b[1;31mERROR   \u001b[0m MIRIAM collection `obo` does not exist for term `NCIT:C20610`                            \u001b]8;id=460993;file://c:\\Programs\\python\\Lib\\site-packages\\pymetadata\\core\\annotation.py\u001b\\\u001b[2mannotation.py\u001b[0m\u001b]8;;\u001b\\\u001b[2m:\u001b[0m\u001b]8;id=874125;file://c:\\Programs\\python\\Lib\\site-packages\\pymetadata\\core\\annotation.py#181\u001b\\\u001b[2m181\u001b[0m\u001b]8;;\u001b\\\n"
      ]
     },
     "metadata": {},
     "output_type": "display_data"
    },
    {
     "data": {
      "text/html": [
       "<pre style=\"white-space:pre;overflow-x:auto;line-height:normal;font-family:Menlo,'DejaVu Sans Mono',consolas,'Courier New',monospace\"><span style=\"color: #800000; text-decoration-color: #800000; font-weight: bold\">ERROR   </span> MIRIAM collection `obo` does not exist for term `NCIT:C20610`                            <a href=\"file://c:\\Programs\\python\\Lib\\site-packages\\pymetadata\\core\\annotation.py\" target=\"_blank\"><span style=\"color: #7f7f7f; text-decoration-color: #7f7f7f\">annotation.py</span></a><span style=\"color: #7f7f7f; text-decoration-color: #7f7f7f\">:</span><a href=\"file://c:\\Programs\\python\\Lib\\site-packages\\pymetadata\\core\\annotation.py#181\" target=\"_blank\"><span style=\"color: #7f7f7f; text-decoration-color: #7f7f7f\">181</span></a>\n",
       "</pre>\n"
      ],
      "text/plain": [
       "\u001b[1;31mERROR   \u001b[0m MIRIAM collection `obo` does not exist for term `NCIT:C20610`                            \u001b]8;id=220841;file://c:\\Programs\\python\\Lib\\site-packages\\pymetadata\\core\\annotation.py\u001b\\\u001b[2mannotation.py\u001b[0m\u001b]8;;\u001b\\\u001b[2m:\u001b[0m\u001b]8;id=247493;file://c:\\Programs\\python\\Lib\\site-packages\\pymetadata\\core\\annotation.py#181\u001b\\\u001b[2m181\u001b[0m\u001b]8;;\u001b\\\n"
      ]
     },
     "metadata": {},
     "output_type": "display_data"
    },
    {
     "data": {
      "text/html": [
       "<pre style=\"white-space:pre;overflow-x:auto;line-height:normal;font-family:Menlo,'DejaVu Sans Mono',consolas,'Courier New',monospace\"><span style=\"color: #800000; text-decoration-color: #800000; font-weight: bold\">ERROR   </span> MIRIAM collection `obo` does not exist for term `NCIT:C20610`                            <a href=\"file://c:\\Programs\\python\\Lib\\site-packages\\pymetadata\\core\\annotation.py\" target=\"_blank\"><span style=\"color: #7f7f7f; text-decoration-color: #7f7f7f\">annotation.py</span></a><span style=\"color: #7f7f7f; text-decoration-color: #7f7f7f\">:</span><a href=\"file://c:\\Programs\\python\\Lib\\site-packages\\pymetadata\\core\\annotation.py#181\" target=\"_blank\"><span style=\"color: #7f7f7f; text-decoration-color: #7f7f7f\">181</span></a>\n",
       "</pre>\n"
      ],
      "text/plain": [
       "\u001b[1;31mERROR   \u001b[0m MIRIAM collection `obo` does not exist for term `NCIT:C20610`                            \u001b]8;id=791024;file://c:\\Programs\\python\\Lib\\site-packages\\pymetadata\\core\\annotation.py\u001b\\\u001b[2mannotation.py\u001b[0m\u001b]8;;\u001b\\\u001b[2m:\u001b[0m\u001b]8;id=586304;file://c:\\Programs\\python\\Lib\\site-packages\\pymetadata\\core\\annotation.py#181\u001b\\\u001b[2m181\u001b[0m\u001b]8;;\u001b\\\n"
      ]
     },
     "metadata": {},
     "output_type": "display_data"
    },
    {
     "data": {
      "text/html": [
       "<pre style=\"white-space:pre;overflow-x:auto;line-height:normal;font-family:Menlo,'DejaVu Sans Mono',consolas,'Courier New',monospace\"><span style=\"color: #800000; text-decoration-color: #800000; font-weight: bold\">ERROR   </span> MIRIAM collection `obo` does not exist for term `NCIT:C20610`                            <a href=\"file://c:\\Programs\\python\\Lib\\site-packages\\pymetadata\\core\\annotation.py\" target=\"_blank\"><span style=\"color: #7f7f7f; text-decoration-color: #7f7f7f\">annotation.py</span></a><span style=\"color: #7f7f7f; text-decoration-color: #7f7f7f\">:</span><a href=\"file://c:\\Programs\\python\\Lib\\site-packages\\pymetadata\\core\\annotation.py#181\" target=\"_blank\"><span style=\"color: #7f7f7f; text-decoration-color: #7f7f7f\">181</span></a>\n",
       "</pre>\n"
      ],
      "text/plain": [
       "\u001b[1;31mERROR   \u001b[0m MIRIAM collection `obo` does not exist for term `NCIT:C20610`                            \u001b]8;id=826992;file://c:\\Programs\\python\\Lib\\site-packages\\pymetadata\\core\\annotation.py\u001b\\\u001b[2mannotation.py\u001b[0m\u001b]8;;\u001b\\\u001b[2m:\u001b[0m\u001b]8;id=436211;file://c:\\Programs\\python\\Lib\\site-packages\\pymetadata\\core\\annotation.py#181\u001b\\\u001b[2m181\u001b[0m\u001b]8;;\u001b\\\n"
      ]
     },
     "metadata": {},
     "output_type": "display_data"
    },
    {
     "data": {
      "text/html": [
       "<pre style=\"white-space:pre;overflow-x:auto;line-height:normal;font-family:Menlo,'DejaVu Sans Mono',consolas,'Courier New',monospace\"><span style=\"color: #800000; text-decoration-color: #800000; font-weight: bold\">ERROR   </span> MIRIAM collection `obo` does not exist for term `NCIT:C20610`                            <a href=\"file://c:\\Programs\\python\\Lib\\site-packages\\pymetadata\\core\\annotation.py\" target=\"_blank\"><span style=\"color: #7f7f7f; text-decoration-color: #7f7f7f\">annotation.py</span></a><span style=\"color: #7f7f7f; text-decoration-color: #7f7f7f\">:</span><a href=\"file://c:\\Programs\\python\\Lib\\site-packages\\pymetadata\\core\\annotation.py#181\" target=\"_blank\"><span style=\"color: #7f7f7f; text-decoration-color: #7f7f7f\">181</span></a>\n",
       "</pre>\n"
      ],
      "text/plain": [
       "\u001b[1;31mERROR   \u001b[0m MIRIAM collection `obo` does not exist for term `NCIT:C20610`                            \u001b]8;id=130204;file://c:\\Programs\\python\\Lib\\site-packages\\pymetadata\\core\\annotation.py\u001b\\\u001b[2mannotation.py\u001b[0m\u001b]8;;\u001b\\\u001b[2m:\u001b[0m\u001b]8;id=11965;file://c:\\Programs\\python\\Lib\\site-packages\\pymetadata\\core\\annotation.py#181\u001b\\\u001b[2m181\u001b[0m\u001b]8;;\u001b\\\n"
      ]
     },
     "metadata": {},
     "output_type": "display_data"
    },
    {
     "data": {
      "text/html": [
       "<pre style=\"white-space:pre;overflow-x:auto;line-height:normal;font-family:Menlo,'DejaVu Sans Mono',consolas,'Courier New',monospace\"><span style=\"color: #800000; text-decoration-color: #800000; font-weight: bold\">ERROR   </span> MIRIAM collection `obo` does not exist for term `NCIT:C20610`                            <a href=\"file://c:\\Programs\\python\\Lib\\site-packages\\pymetadata\\core\\annotation.py\" target=\"_blank\"><span style=\"color: #7f7f7f; text-decoration-color: #7f7f7f\">annotation.py</span></a><span style=\"color: #7f7f7f; text-decoration-color: #7f7f7f\">:</span><a href=\"file://c:\\Programs\\python\\Lib\\site-packages\\pymetadata\\core\\annotation.py#181\" target=\"_blank\"><span style=\"color: #7f7f7f; text-decoration-color: #7f7f7f\">181</span></a>\n",
       "</pre>\n"
      ],
      "text/plain": [
       "\u001b[1;31mERROR   \u001b[0m MIRIAM collection `obo` does not exist for term `NCIT:C20610`                            \u001b]8;id=731610;file://c:\\Programs\\python\\Lib\\site-packages\\pymetadata\\core\\annotation.py\u001b\\\u001b[2mannotation.py\u001b[0m\u001b]8;;\u001b\\\u001b[2m:\u001b[0m\u001b]8;id=694853;file://c:\\Programs\\python\\Lib\\site-packages\\pymetadata\\core\\annotation.py#181\u001b\\\u001b[2m181\u001b[0m\u001b]8;;\u001b\\\n"
      ]
     },
     "metadata": {},
     "output_type": "display_data"
    },
    {
     "data": {
      "text/html": [
       "<pre style=\"white-space:pre;overflow-x:auto;line-height:normal;font-family:Menlo,'DejaVu Sans Mono',consolas,'Courier New',monospace\"><span style=\"color: #800000; text-decoration-color: #800000; font-weight: bold\">ERROR   </span> MIRIAM collection `obo` does not exist for term `NCIT:C20610`                            <a href=\"file://c:\\Programs\\python\\Lib\\site-packages\\pymetadata\\core\\annotation.py\" target=\"_blank\"><span style=\"color: #7f7f7f; text-decoration-color: #7f7f7f\">annotation.py</span></a><span style=\"color: #7f7f7f; text-decoration-color: #7f7f7f\">:</span><a href=\"file://c:\\Programs\\python\\Lib\\site-packages\\pymetadata\\core\\annotation.py#181\" target=\"_blank\"><span style=\"color: #7f7f7f; text-decoration-color: #7f7f7f\">181</span></a>\n",
       "</pre>\n"
      ],
      "text/plain": [
       "\u001b[1;31mERROR   \u001b[0m MIRIAM collection `obo` does not exist for term `NCIT:C20610`                            \u001b]8;id=627740;file://c:\\Programs\\python\\Lib\\site-packages\\pymetadata\\core\\annotation.py\u001b\\\u001b[2mannotation.py\u001b[0m\u001b]8;;\u001b\\\u001b[2m:\u001b[0m\u001b]8;id=829331;file://c:\\Programs\\python\\Lib\\site-packages\\pymetadata\\core\\annotation.py#181\u001b\\\u001b[2m181\u001b[0m\u001b]8;;\u001b\\\n"
      ]
     },
     "metadata": {},
     "output_type": "display_data"
    },
    {
     "data": {
      "text/html": [
       "<pre style=\"white-space:pre;overflow-x:auto;line-height:normal;font-family:Menlo,'DejaVu Sans Mono',consolas,'Courier New',monospace\"><span style=\"color: #800000; text-decoration-color: #800000; font-weight: bold\">ERROR   </span> MIRIAM collection `obo` does not exist for term `NCIT:C20610`                            <a href=\"file://c:\\Programs\\python\\Lib\\site-packages\\pymetadata\\core\\annotation.py\" target=\"_blank\"><span style=\"color: #7f7f7f; text-decoration-color: #7f7f7f\">annotation.py</span></a><span style=\"color: #7f7f7f; text-decoration-color: #7f7f7f\">:</span><a href=\"file://c:\\Programs\\python\\Lib\\site-packages\\pymetadata\\core\\annotation.py#181\" target=\"_blank\"><span style=\"color: #7f7f7f; text-decoration-color: #7f7f7f\">181</span></a>\n",
       "</pre>\n"
      ],
      "text/plain": [
       "\u001b[1;31mERROR   \u001b[0m MIRIAM collection `obo` does not exist for term `NCIT:C20610`                            \u001b]8;id=173845;file://c:\\Programs\\python\\Lib\\site-packages\\pymetadata\\core\\annotation.py\u001b\\\u001b[2mannotation.py\u001b[0m\u001b]8;;\u001b\\\u001b[2m:\u001b[0m\u001b]8;id=407027;file://c:\\Programs\\python\\Lib\\site-packages\\pymetadata\\core\\annotation.py#181\u001b\\\u001b[2m181\u001b[0m\u001b]8;;\u001b\\\n"
      ]
     },
     "metadata": {},
     "output_type": "display_data"
    },
    {
     "data": {
      "text/html": [
       "<pre style=\"white-space:pre;overflow-x:auto;line-height:normal;font-family:Menlo,'DejaVu Sans Mono',consolas,'Courier New',monospace\"><span style=\"color: #800000; text-decoration-color: #800000; font-weight: bold\">ERROR   </span> MIRIAM collection `pkpbo` does not exist for term `PKPBO:<span style=\"color: #008080; text-decoration-color: #008080; font-weight: bold\">00134</span>`                          <a href=\"file://c:\\Programs\\python\\Lib\\site-packages\\pymetadata\\core\\annotation.py\" target=\"_blank\"><span style=\"color: #7f7f7f; text-decoration-color: #7f7f7f\">annotation.py</span></a><span style=\"color: #7f7f7f; text-decoration-color: #7f7f7f\">:</span><a href=\"file://c:\\Programs\\python\\Lib\\site-packages\\pymetadata\\core\\annotation.py#181\" target=\"_blank\"><span style=\"color: #7f7f7f; text-decoration-color: #7f7f7f\">181</span></a>\n",
       "</pre>\n"
      ],
      "text/plain": [
       "\u001b[1;31mERROR   \u001b[0m MIRIAM collection `pkpbo` does not exist for term `PKPBO:\u001b[1;36m00134\u001b[0m`                          \u001b]8;id=581004;file://c:\\Programs\\python\\Lib\\site-packages\\pymetadata\\core\\annotation.py\u001b\\\u001b[2mannotation.py\u001b[0m\u001b]8;;\u001b\\\u001b[2m:\u001b[0m\u001b]8;id=369743;file://c:\\Programs\\python\\Lib\\site-packages\\pymetadata\\core\\annotation.py#181\u001b\\\u001b[2m181\u001b[0m\u001b]8;;\u001b\\\n"
      ]
     },
     "metadata": {},
     "output_type": "display_data"
    },
    {
     "data": {
      "text/html": [
       "<pre style=\"white-space:pre;overflow-x:auto;line-height:normal;font-family:Menlo,'DejaVu Sans Mono',consolas,'Courier New',monospace\"><span style=\"color: #800000; text-decoration-color: #800000; font-weight: bold\">ERROR   </span> MIRIAM collection `pbpko` does not exist for term `PKPBO:<span style=\"color: #008080; text-decoration-color: #008080; font-weight: bold\">00126</span>`                          <a href=\"file://c:\\Programs\\python\\Lib\\site-packages\\pymetadata\\core\\annotation.py\" target=\"_blank\"><span style=\"color: #7f7f7f; text-decoration-color: #7f7f7f\">annotation.py</span></a><span style=\"color: #7f7f7f; text-decoration-color: #7f7f7f\">:</span><a href=\"file://c:\\Programs\\python\\Lib\\site-packages\\pymetadata\\core\\annotation.py#181\" target=\"_blank\"><span style=\"color: #7f7f7f; text-decoration-color: #7f7f7f\">181</span></a>\n",
       "</pre>\n"
      ],
      "text/plain": [
       "\u001b[1;31mERROR   \u001b[0m MIRIAM collection `pbpko` does not exist for term `PKPBO:\u001b[1;36m00126\u001b[0m`                          \u001b]8;id=48009;file://c:\\Programs\\python\\Lib\\site-packages\\pymetadata\\core\\annotation.py\u001b\\\u001b[2mannotation.py\u001b[0m\u001b]8;;\u001b\\\u001b[2m:\u001b[0m\u001b]8;id=744676;file://c:\\Programs\\python\\Lib\\site-packages\\pymetadata\\core\\annotation.py#181\u001b\\\u001b[2m181\u001b[0m\u001b]8;;\u001b\\\n"
      ]
     },
     "metadata": {},
     "output_type": "display_data"
    },
    {
     "data": {
      "text/html": [
       "<pre style=\"white-space:pre;overflow-x:auto;line-height:normal;font-family:Menlo,'DejaVu Sans Mono',consolas,'Courier New',monospace\"><span style=\"color: #800000; text-decoration-color: #800000; font-weight: bold\">ERROR   </span> MIRIAM collection `pbpko` does not exist for term `PKPBO:<span style=\"color: #008080; text-decoration-color: #008080; font-weight: bold\">00215</span>`                          <a href=\"file://c:\\Programs\\python\\Lib\\site-packages\\pymetadata\\core\\annotation.py\" target=\"_blank\"><span style=\"color: #7f7f7f; text-decoration-color: #7f7f7f\">annotation.py</span></a><span style=\"color: #7f7f7f; text-decoration-color: #7f7f7f\">:</span><a href=\"file://c:\\Programs\\python\\Lib\\site-packages\\pymetadata\\core\\annotation.py#181\" target=\"_blank\"><span style=\"color: #7f7f7f; text-decoration-color: #7f7f7f\">181</span></a>\n",
       "</pre>\n"
      ],
      "text/plain": [
       "\u001b[1;31mERROR   \u001b[0m MIRIAM collection `pbpko` does not exist for term `PKPBO:\u001b[1;36m00215\u001b[0m`                          \u001b]8;id=222951;file://c:\\Programs\\python\\Lib\\site-packages\\pymetadata\\core\\annotation.py\u001b\\\u001b[2mannotation.py\u001b[0m\u001b]8;;\u001b\\\u001b[2m:\u001b[0m\u001b]8;id=947486;file://c:\\Programs\\python\\Lib\\site-packages\\pymetadata\\core\\annotation.py#181\u001b\\\u001b[2m181\u001b[0m\u001b]8;;\u001b\\\n"
      ]
     },
     "metadata": {},
     "output_type": "display_data"
    },
    {
     "data": {
      "text/html": [
       "<pre style=\"white-space:pre;overflow-x:auto;line-height:normal;font-family:Menlo,'DejaVu Sans Mono',consolas,'Courier New',monospace\"><span style=\"color: #800000; text-decoration-color: #800000; font-weight: bold\">ERROR   </span> MIRIAM collection `pbpko` does not exist for term `PKPBO:<span style=\"color: #008080; text-decoration-color: #008080; font-weight: bold\">00218</span>`                          <a href=\"file://c:\\Programs\\python\\Lib\\site-packages\\pymetadata\\core\\annotation.py\" target=\"_blank\"><span style=\"color: #7f7f7f; text-decoration-color: #7f7f7f\">annotation.py</span></a><span style=\"color: #7f7f7f; text-decoration-color: #7f7f7f\">:</span><a href=\"file://c:\\Programs\\python\\Lib\\site-packages\\pymetadata\\core\\annotation.py#181\" target=\"_blank\"><span style=\"color: #7f7f7f; text-decoration-color: #7f7f7f\">181</span></a>\n",
       "</pre>\n"
      ],
      "text/plain": [
       "\u001b[1;31mERROR   \u001b[0m MIRIAM collection `pbpko` does not exist for term `PKPBO:\u001b[1;36m00218\u001b[0m`                          \u001b]8;id=165118;file://c:\\Programs\\python\\Lib\\site-packages\\pymetadata\\core\\annotation.py\u001b\\\u001b[2mannotation.py\u001b[0m\u001b]8;;\u001b\\\u001b[2m:\u001b[0m\u001b]8;id=499832;file://c:\\Programs\\python\\Lib\\site-packages\\pymetadata\\core\\annotation.py#181\u001b\\\u001b[2m181\u001b[0m\u001b]8;;\u001b\\\n"
      ]
     },
     "metadata": {},
     "output_type": "display_data"
    },
    {
     "data": {
      "text/html": [
       "<pre style=\"white-space:pre;overflow-x:auto;line-height:normal;font-family:Menlo,'DejaVu Sans Mono',consolas,'Courier New',monospace\"><span style=\"color: #800000; text-decoration-color: #800000; font-weight: bold\">ERROR   </span> MIRIAM collection `pbpko` does not exist for term `PKPBO:<span style=\"color: #008080; text-decoration-color: #008080; font-weight: bold\">00126</span>`                          <a href=\"file://c:\\Programs\\python\\Lib\\site-packages\\pymetadata\\core\\annotation.py\" target=\"_blank\"><span style=\"color: #7f7f7f; text-decoration-color: #7f7f7f\">annotation.py</span></a><span style=\"color: #7f7f7f; text-decoration-color: #7f7f7f\">:</span><a href=\"file://c:\\Programs\\python\\Lib\\site-packages\\pymetadata\\core\\annotation.py#181\" target=\"_blank\"><span style=\"color: #7f7f7f; text-decoration-color: #7f7f7f\">181</span></a>\n",
       "</pre>\n"
      ],
      "text/plain": [
       "\u001b[1;31mERROR   \u001b[0m MIRIAM collection `pbpko` does not exist for term `PKPBO:\u001b[1;36m00126\u001b[0m`                          \u001b]8;id=296989;file://c:\\Programs\\python\\Lib\\site-packages\\pymetadata\\core\\annotation.py\u001b\\\u001b[2mannotation.py\u001b[0m\u001b]8;;\u001b\\\u001b[2m:\u001b[0m\u001b]8;id=881181;file://c:\\Programs\\python\\Lib\\site-packages\\pymetadata\\core\\annotation.py#181\u001b\\\u001b[2m181\u001b[0m\u001b]8;;\u001b\\\n"
      ]
     },
     "metadata": {},
     "output_type": "display_data"
    },
    {
     "data": {
      "text/html": [
       "<pre style=\"white-space:pre;overflow-x:auto;line-height:normal;font-family:Menlo,'DejaVu Sans Mono',consolas,'Courier New',monospace\"><span style=\"color: #800000; text-decoration-color: #800000; font-weight: bold\">ERROR   </span> Term `NCIT:C41185` did not match pattern `^C\\d+$` for collection `ncit`.                 <a href=\"file://c:\\Programs\\python\\Lib\\site-packages\\pymetadata\\core\\annotation.py\" target=\"_blank\"><span style=\"color: #7f7f7f; text-decoration-color: #7f7f7f\">annotation.py</span></a><span style=\"color: #7f7f7f; text-decoration-color: #7f7f7f\">:</span><a href=\"file://c:\\Programs\\python\\Lib\\site-packages\\pymetadata\\core\\annotation.py#189\" target=\"_blank\"><span style=\"color: #7f7f7f; text-decoration-color: #7f7f7f\">189</span></a>\n",
       "</pre>\n"
      ],
      "text/plain": [
       "\u001b[1;31mERROR   \u001b[0m Term `NCIT:C41185` did not match pattern `^C\\d+$` for collection `ncit`.                 \u001b]8;id=384266;file://c:\\Programs\\python\\Lib\\site-packages\\pymetadata\\core\\annotation.py\u001b\\\u001b[2mannotation.py\u001b[0m\u001b]8;;\u001b\\\u001b[2m:\u001b[0m\u001b]8;id=126862;file://c:\\Programs\\python\\Lib\\site-packages\\pymetadata\\core\\annotation.py#189\u001b\\\u001b[2m189\u001b[0m\u001b]8;;\u001b\\\n"
      ]
     },
     "metadata": {},
     "output_type": "display_data"
    },
    {
     "data": {
      "text/html": [
       "<pre style=\"white-space:pre;overflow-x:auto;line-height:normal;font-family:Menlo,'DejaVu Sans Mono',consolas,'Courier New',monospace\"><span style=\"color: #800000; text-decoration-color: #800000; font-weight: bold\">ERROR   </span> MIRIAM collection `pbpko` does not exist for term `PKPBO:<span style=\"color: #008080; text-decoration-color: #008080; font-weight: bold\">00003</span>`                          <a href=\"file://c:\\Programs\\python\\Lib\\site-packages\\pymetadata\\core\\annotation.py\" target=\"_blank\"><span style=\"color: #7f7f7f; text-decoration-color: #7f7f7f\">annotation.py</span></a><span style=\"color: #7f7f7f; text-decoration-color: #7f7f7f\">:</span><a href=\"file://c:\\Programs\\python\\Lib\\site-packages\\pymetadata\\core\\annotation.py#181\" target=\"_blank\"><span style=\"color: #7f7f7f; text-decoration-color: #7f7f7f\">181</span></a>\n",
       "</pre>\n"
      ],
      "text/plain": [
       "\u001b[1;31mERROR   \u001b[0m MIRIAM collection `pbpko` does not exist for term `PKPBO:\u001b[1;36m00003\u001b[0m`                          \u001b]8;id=794218;file://c:\\Programs\\python\\Lib\\site-packages\\pymetadata\\core\\annotation.py\u001b\\\u001b[2mannotation.py\u001b[0m\u001b]8;;\u001b\\\u001b[2m:\u001b[0m\u001b]8;id=384450;file://c:\\Programs\\python\\Lib\\site-packages\\pymetadata\\core\\annotation.py#181\u001b\\\u001b[2m181\u001b[0m\u001b]8;;\u001b\\\n"
      ]
     },
     "metadata": {},
     "output_type": "display_data"
    },
    {
     "data": {
      "text/html": [
       "<pre style=\"white-space:pre;overflow-x:auto;line-height:normal;font-family:Menlo,'DejaVu Sans Mono',consolas,'Courier New',monospace\"><span style=\"color: #800000; text-decoration-color: #800000; font-weight: bold\">ERROR   </span> MIRIAM collection `pbpko` does not exist for term `PKPBO:<span style=\"color: #008080; text-decoration-color: #008080; font-weight: bold\">00003</span>`                          <a href=\"file://c:\\Programs\\python\\Lib\\site-packages\\pymetadata\\core\\annotation.py\" target=\"_blank\"><span style=\"color: #7f7f7f; text-decoration-color: #7f7f7f\">annotation.py</span></a><span style=\"color: #7f7f7f; text-decoration-color: #7f7f7f\">:</span><a href=\"file://c:\\Programs\\python\\Lib\\site-packages\\pymetadata\\core\\annotation.py#181\" target=\"_blank\"><span style=\"color: #7f7f7f; text-decoration-color: #7f7f7f\">181</span></a>\n",
       "</pre>\n"
      ],
      "text/plain": [
       "\u001b[1;31mERROR   \u001b[0m MIRIAM collection `pbpko` does not exist for term `PKPBO:\u001b[1;36m00003\u001b[0m`                          \u001b]8;id=944039;file://c:\\Programs\\python\\Lib\\site-packages\\pymetadata\\core\\annotation.py\u001b\\\u001b[2mannotation.py\u001b[0m\u001b]8;;\u001b\\\u001b[2m:\u001b[0m\u001b]8;id=393420;file://c:\\Programs\\python\\Lib\\site-packages\\pymetadata\\core\\annotation.py#181\u001b\\\u001b[2m181\u001b[0m\u001b]8;;\u001b\\\n"
      ]
     },
     "metadata": {},
     "output_type": "display_data"
    },
    {
     "data": {
      "text/html": [
       "<pre style=\"white-space:pre;overflow-x:auto;line-height:normal;font-family:Menlo,'DejaVu Sans Mono',consolas,'Courier New',monospace\"><span style=\"color: #008000; text-decoration-color: #008000\">Model annotated: </span><span style=\"color: #0000ff; text-decoration-color: #0000ff; text-decoration: underline\">file://../model/euromix.annotated.sbml</span>\n",
       "</pre>\n"
      ],
      "text/plain": [
       "\u001b[32mModel annotated: \u001b[0m\u001b[4;94mfile://../model/euromix.annotated.sbml\u001b[0m\n"
      ]
     },
     "metadata": {},
     "output_type": "display_data"
    },
    {
     "name": "stdout",
     "output_type": "stream",
     "text": [
      "<Model euromix>\n"
     ]
    }
   ],
   "source": [
    "from sbmlutils.metadata.annotator import annotate_sbml\n",
    "\n",
    "# create SBML report without performing units checks\n",
    "doc = annotate_sbml(\n",
    "    source= '../model/euromix.sbml', \n",
    "    annotations_path= '../model/euromix.annotations.xlsx', \n",
    "    filepath='../model/euromix.annotated.sbml'\n",
    ")\n",
    "print(doc.getModel())"
   ]
  },
  {
   "cell_type": "markdown",
   "metadata": {},
   "source": [
    "### Export RDF\n",
    "\n",
    "Not sure yet what to do with it, but it seems relevant to be able to generate RDF triplets accompanying the model."
   ]
  },
  {
   "cell_type": "code",
   "execution_count": null,
   "metadata": {},
   "outputs": [],
   "source": [
    "# TODO: code to export RDF file"
   ]
  }
 ],
 "metadata": {
  "kernelspec": {
   "display_name": "Python 3",
   "language": "python",
   "name": "python3"
  },
  "language_info": {
   "codemirror_mode": {
    "name": "ipython",
    "version": 3
   },
   "file_extension": ".py",
   "mimetype": "text/x-python",
   "name": "python",
   "nbconvert_exporter": "python",
   "pygments_lexer": "ipython3",
   "version": "3.11.2"
  }
 },
 "nbformat": 4,
 "nbformat_minor": 2
}

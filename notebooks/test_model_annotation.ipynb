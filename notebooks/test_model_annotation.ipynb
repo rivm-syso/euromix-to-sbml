{
 "cells": [
  {
   "cell_type": "markdown",
   "metadata": {},
   "source": [
    "# Model annotation"
   ]
  },
  {
   "cell_type": "markdown",
   "metadata": {},
   "source": [
    "## Read annotations file"
   ]
  },
  {
   "cell_type": "code",
   "execution_count": 1,
   "metadata": {},
   "outputs": [
    {
     "data": {
      "text/html": [
       "<pre style=\"white-space:pre;overflow-x:auto;line-height:normal;font-family:Menlo,'DejaVu Sans Mono',consolas,'Courier New',monospace\"><span style=\"color: #800000; text-decoration-color: #800000\">WARNING </span> Update registry: <span style=\"color: #008000; text-decoration-color: #008000\">'https://registry.api.identifiers.org/resolutionApi/getResolverDataset'</span>   <a href=\"file://c:\\Programs\\python\\Lib\\site-packages\\pymetadata\\identifiers\\registry.py\" target=\"_blank\"><span style=\"color: #7f7f7f; text-decoration-color: #7f7f7f\">registry.py</span></a><span style=\"color: #7f7f7f; text-decoration-color: #7f7f7f\">:</span><a href=\"file://c:\\Programs\\python\\Lib\\site-packages\\pymetadata\\identifiers\\registry.py#351\" target=\"_blank\"><span style=\"color: #7f7f7f; text-decoration-color: #7f7f7f\">351</span></a>\n",
       "         -&gt; <span style=\"color: #008000; text-decoration-color: #008000\">'c:\\Programs\\python\\Lib\\site-packages\\pymetadata\\resources\\identifiers_registry.json'</span>   <span style=\"color: #7f7f7f; text-decoration-color: #7f7f7f\">               </span>\n",
       "</pre>\n"
      ],
      "text/plain": [
       "\u001b[31mWARNING \u001b[0m Update registry: \u001b[32m'https://registry.api.identifiers.org/resolutionApi/getResolverDataset'\u001b[0m   \u001b]8;id=692737;file://c:\\Programs\\python\\Lib\\site-packages\\pymetadata\\identifiers\\registry.py\u001b\\\u001b[2mregistry.py\u001b[0m\u001b]8;;\u001b\\\u001b[2m:\u001b[0m\u001b]8;id=756084;file://c:\\Programs\\python\\Lib\\site-packages\\pymetadata\\identifiers\\registry.py#351\u001b\\\u001b[2m351\u001b[0m\u001b]8;;\u001b\\\n",
       "         -> \u001b[32m'c:\\Programs\\python\\Lib\\site-packages\\pymetadata\\resources\\identifiers_registry.json'\u001b[0m   \u001b[2m               \u001b[0m\n"
      ]
     },
     "metadata": {},
     "output_type": "display_data"
    },
    {
     "data": {
      "text/html": [
       "<pre style=\"white-space:pre;overflow-x:auto;line-height:normal;font-family:Menlo,'DejaVu Sans Mono',consolas,'Courier New',monospace\"><span style=\"color: #800000; text-decoration-color: #800000\">WARNING </span> Adding custom namespaces: <span style=\"font-weight: bold\">[</span><span style=\"color: #008000; text-decoration-color: #008000\">'atol'</span>, <span style=\"color: #008000; text-decoration-color: #008000\">'brenda.ligand'</span>, <span style=\"color: #008000; text-decoration-color: #008000\">'chmo'</span>, <span style=\"color: #008000; text-decoration-color: #008000\">'cmo'</span>, <span style=\"color: #008000; text-decoration-color: #008000\">'dron'</span>, <span style=\"color: #008000; text-decoration-color: #008000\">'fix'</span>,          <a href=\"file://c:\\Programs\\python\\Lib\\site-packages\\pymetadata\\identifiers\\registry.py\" target=\"_blank\"><span style=\"color: #7f7f7f; text-decoration-color: #7f7f7f\">registry.py</span></a><span style=\"color: #7f7f7f; text-decoration-color: #7f7f7f\">:</span><a href=\"file://c:\\Programs\\python\\Lib\\site-packages\\pymetadata\\identifiers\\registry.py#376\" target=\"_blank\"><span style=\"color: #7f7f7f; text-decoration-color: #7f7f7f\">376</span></a>\n",
       "         <span style=\"color: #008000; text-decoration-color: #008000\">'metabolights.compound'</span>, <span style=\"color: #008000; text-decoration-color: #008000\">'mmo'</span>, <span style=\"color: #008000; text-decoration-color: #008000\">'mondo'</span>, <span style=\"color: #008000; text-decoration-color: #008000\">'nbo'</span>, <span style=\"color: #008000; text-decoration-color: #008000\">'oba'</span>, <span style=\"color: #008000; text-decoration-color: #008000\">'omim'</span>, <span style=\"color: #008000; text-decoration-color: #008000\">'opmi'</span>, <span style=\"color: #008000; text-decoration-color: #008000\">'scdo'</span>, <span style=\"color: #008000; text-decoration-color: #008000\">'snomed'</span>,   <span style=\"color: #7f7f7f; text-decoration-color: #7f7f7f\">               </span>\n",
       "         <span style=\"color: #008000; text-decoration-color: #008000\">'stato'</span>, <span style=\"color: #008000; text-decoration-color: #008000\">'vto'</span><span style=\"font-weight: bold\">]</span>                                                                            <span style=\"color: #7f7f7f; text-decoration-color: #7f7f7f\">               </span>\n",
       "</pre>\n"
      ],
      "text/plain": [
       "\u001b[31mWARNING \u001b[0m Adding custom namespaces: \u001b[1m[\u001b[0m\u001b[32m'atol'\u001b[0m, \u001b[32m'brenda.ligand'\u001b[0m, \u001b[32m'chmo'\u001b[0m, \u001b[32m'cmo'\u001b[0m, \u001b[32m'dron'\u001b[0m, \u001b[32m'fix'\u001b[0m,          \u001b]8;id=587226;file://c:\\Programs\\python\\Lib\\site-packages\\pymetadata\\identifiers\\registry.py\u001b\\\u001b[2mregistry.py\u001b[0m\u001b]8;;\u001b\\\u001b[2m:\u001b[0m\u001b]8;id=984413;file://c:\\Programs\\python\\Lib\\site-packages\\pymetadata\\identifiers\\registry.py#376\u001b\\\u001b[2m376\u001b[0m\u001b]8;;\u001b\\\n",
       "         \u001b[32m'metabolights.compound'\u001b[0m, \u001b[32m'mmo'\u001b[0m, \u001b[32m'mondo'\u001b[0m, \u001b[32m'nbo'\u001b[0m, \u001b[32m'oba'\u001b[0m, \u001b[32m'omim'\u001b[0m, \u001b[32m'opmi'\u001b[0m, \u001b[32m'scdo'\u001b[0m, \u001b[32m'snomed'\u001b[0m,   \u001b[2m               \u001b[0m\n",
       "         \u001b[32m'stato'\u001b[0m, \u001b[32m'vto'\u001b[0m\u001b[1m]\u001b[0m                                                                            \u001b[2m               \u001b[0m\n"
      ]
     },
     "metadata": {},
     "output_type": "display_data"
    },
    {
     "data": {
      "text/html": [
       "<pre style=\"white-space:pre;overflow-x:auto;line-height:normal;font-family:Menlo,'DejaVu Sans Mono',consolas,'Courier New',monospace\"><span style=\"color: #800000; text-decoration-color: #800000; font-weight: bold\">ERROR   </span> Namespace with key <span style=\"color: #008000; text-decoration-color: #008000\">'stato'</span> exists in MIRIAM. Overwrite namespace!                          <a href=\"file://c:\\Programs\\python\\Lib\\site-packages\\pymetadata\\identifiers\\registry.py\" target=\"_blank\"><span style=\"color: #7f7f7f; text-decoration-color: #7f7f7f\">registry.py</span></a><span style=\"color: #7f7f7f; text-decoration-color: #7f7f7f\">:</span><a href=\"file://c:\\Programs\\python\\Lib\\site-packages\\pymetadata\\identifiers\\registry.py#381\" target=\"_blank\"><span style=\"color: #7f7f7f; text-decoration-color: #7f7f7f\">381</span></a>\n",
       "</pre>\n"
      ],
      "text/plain": [
       "\u001b[1;31mERROR   \u001b[0m Namespace with key \u001b[32m'stato'\u001b[0m exists in MIRIAM. Overwrite namespace!                          \u001b]8;id=46721;file://c:\\Programs\\python\\Lib\\site-packages\\pymetadata\\identifiers\\registry.py\u001b\\\u001b[2mregistry.py\u001b[0m\u001b]8;;\u001b\\\u001b[2m:\u001b[0m\u001b]8;id=190802;file://c:\\Programs\\python\\Lib\\site-packages\\pymetadata\\identifiers\\registry.py#381\u001b\\\u001b[2m381\u001b[0m\u001b]8;;\u001b\\\n"
      ]
     },
     "metadata": {},
     "output_type": "display_data"
    },
    {
     "data": {
      "text/html": [
       "<pre style=\"white-space:pre;overflow-x:auto;line-height:normal;font-family:Menlo,'DejaVu Sans Mono',consolas,'Courier New',monospace\"><span style=\"color: #000080; text-decoration-color: #000080\">INFO    </span> Write cache:                                                                                   <a href=\"file://c:\\Programs\\python\\Lib\\site-packages\\pymetadata\\cache.py\" target=\"_blank\"><span style=\"color: #7f7f7f; text-decoration-color: #7f7f7f\">cache.py</span></a><span style=\"color: #7f7f7f; text-decoration-color: #7f7f7f\">:</span><a href=\"file://c:\\Programs\\python\\Lib\\site-packages\\pymetadata\\cache.py#46\" target=\"_blank\"><span style=\"color: #7f7f7f; text-decoration-color: #7f7f7f\">46</span></a>\n",
       "         c:\\Programs\\python\\Lib\\site-packages\\pymetadata\\resources\\identifiers_registry.json            <span style=\"color: #7f7f7f; text-decoration-color: #7f7f7f\">           </span>\n",
       "</pre>\n"
      ],
      "text/plain": [
       "\u001b[34mINFO    \u001b[0m Write cache:                                                                                   \u001b]8;id=368188;file://c:\\Programs\\python\\Lib\\site-packages\\pymetadata\\cache.py\u001b\\\u001b[2mcache.py\u001b[0m\u001b]8;;\u001b\\\u001b[2m:\u001b[0m\u001b]8;id=779753;file://c:\\Programs\\python\\Lib\\site-packages\\pymetadata\\cache.py#46\u001b\\\u001b[2m46\u001b[0m\u001b]8;;\u001b\\\n",
       "         c:\\Programs\\python\\Lib\\site-packages\\pymetadata\\resources\\identifiers_registry.json            \u001b[2m           \u001b[0m\n"
      ]
     },
     "metadata": {},
     "output_type": "display_data"
    },
    {
     "data": {
      "text/html": [
       "<pre style=\"white-space:pre;overflow-x:auto;line-height:normal;font-family:Menlo,'DejaVu Sans Mono',consolas,'Courier New',monospace\"></pre>\n"
      ],
      "text/plain": []
     },
     "metadata": {},
     "output_type": "display_data"
    },
    {
     "data": {
      "text/html": [
       "<div>\n",
       "<style scoped>\n",
       "    .dataframe tbody tr th:only-of-type {\n",
       "        vertical-align: middle;\n",
       "    }\n",
       "\n",
       "    .dataframe tbody tr th {\n",
       "        vertical-align: top;\n",
       "    }\n",
       "\n",
       "    .dataframe thead th {\n",
       "        text-align: right;\n",
       "    }\n",
       "</style>\n",
       "<table border=\"1\" class=\"dataframe\">\n",
       "  <thead>\n",
       "    <tr style=\"text-align: right;\">\n",
       "      <th></th>\n",
       "      <th>pattern</th>\n",
       "      <th>sbml_type</th>\n",
       "      <th>element_id</th>\n",
       "      <th>element_description</th>\n",
       "      <th>annotation_type</th>\n",
       "      <th>qualifier</th>\n",
       "      <th>resource</th>\n",
       "      <th>name</th>\n",
       "      <th>remark</th>\n",
       "    </tr>\n",
       "  </thead>\n",
       "  <tbody>\n",
       "    <tr>\n",
       "      <th>0</th>\n",
       "      <td>euromix</td>\n",
       "      <td>model</td>\n",
       "      <td>NaN</td>\n",
       "      <td>NaN</td>\n",
       "      <td>rdf</td>\n",
       "      <td>BQM_IS</td>\n",
       "      <td>mamo/MAMO_0000203</td>\n",
       "      <td>physiologically based pharmacokinetic model</td>\n",
       "      <td>NaN</td>\n",
       "    </tr>\n",
       "    <tr>\n",
       "      <th>1</th>\n",
       "      <td>euromix</td>\n",
       "      <td>model</td>\n",
       "      <td>NaN</td>\n",
       "      <td>NaN</td>\n",
       "      <td>rdf</td>\n",
       "      <td>BQM_IS</td>\n",
       "      <td>mamo/MAMO_0000046</td>\n",
       "      <td>ordinary differential equation model</td>\n",
       "      <td>NaN</td>\n",
       "    </tr>\n",
       "    <tr>\n",
       "      <th>2</th>\n",
       "      <td>euromix</td>\n",
       "      <td>model</td>\n",
       "      <td>NaN</td>\n",
       "      <td>NaN</td>\n",
       "      <td>rdf</td>\n",
       "      <td>BQB_HAS_TAXON</td>\n",
       "      <td>taxonomy/40674</td>\n",
       "      <td>mammalia</td>\n",
       "      <td>NaN</td>\n",
       "    </tr>\n",
       "    <tr>\n",
       "      <th>3</th>\n",
       "      <td>default_compartment</td>\n",
       "      <td>compartment</td>\n",
       "      <td>default_compartment</td>\n",
       "      <td>NaN</td>\n",
       "      <td>rdf</td>\n",
       "      <td>BQB_IS</td>\n",
       "      <td>sbo/SBO:0000290</td>\n",
       "      <td>physical compartment</td>\n",
       "      <td>Seems to be used for QAir and QExcrete. Better...</td>\n",
       "    </tr>\n",
       "    <tr>\n",
       "      <th>4</th>\n",
       "      <td>Fat</td>\n",
       "      <td>compartment</td>\n",
       "      <td>Fat</td>\n",
       "      <td>adipose tissue</td>\n",
       "      <td>rdf</td>\n",
       "      <td>BQB_IS</td>\n",
       "      <td>uberon/UBERON:0001013</td>\n",
       "      <td>adipose tissue</td>\n",
       "      <td>NaN</td>\n",
       "    </tr>\n",
       "    <tr>\n",
       "      <th>...</th>\n",
       "      <td>...</td>\n",
       "      <td>...</td>\n",
       "      <td>...</td>\n",
       "      <td>...</td>\n",
       "      <td>...</td>\n",
       "      <td>...</td>\n",
       "      <td>...</td>\n",
       "      <td>...</td>\n",
       "      <td>...</td>\n",
       "    </tr>\n",
       "    <tr>\n",
       "      <th>73</th>\n",
       "      <td>VRich</td>\n",
       "      <td>parameter</td>\n",
       "      <td>VRich</td>\n",
       "      <td>richly perfused tissue volume</td>\n",
       "      <td>rdf</td>\n",
       "      <td>BQB_IS</td>\n",
       "      <td>pato/PATO:0000918</td>\n",
       "      <td>volume</td>\n",
       "      <td>NaN</td>\n",
       "    </tr>\n",
       "    <tr>\n",
       "      <th>74</th>\n",
       "      <td>VSkin_e</td>\n",
       "      <td>parameter</td>\n",
       "      <td>VSkin_e</td>\n",
       "      <td>exposed skin volume</td>\n",
       "      <td>rdf</td>\n",
       "      <td>BQB_IS</td>\n",
       "      <td>pato/PATO:0000918</td>\n",
       "      <td>volume</td>\n",
       "      <td>NaN</td>\n",
       "    </tr>\n",
       "    <tr>\n",
       "      <th>75</th>\n",
       "      <td>VSkin_u</td>\n",
       "      <td>parameter</td>\n",
       "      <td>VSkin_u</td>\n",
       "      <td>unexposed skin volume</td>\n",
       "      <td>rdf</td>\n",
       "      <td>BQB_IS</td>\n",
       "      <td>pato/PATO:0000918</td>\n",
       "      <td>volume</td>\n",
       "      <td>NaN</td>\n",
       "    </tr>\n",
       "    <tr>\n",
       "      <th>76</th>\n",
       "      <td>VSkin_sc_e</td>\n",
       "      <td>parameter</td>\n",
       "      <td>VSkin_sc_e</td>\n",
       "      <td>stratum corneum exposed skin volume</td>\n",
       "      <td>rdf</td>\n",
       "      <td>BQB_IS</td>\n",
       "      <td>pato/PATO:0000918</td>\n",
       "      <td>volume</td>\n",
       "      <td>NaN</td>\n",
       "    </tr>\n",
       "    <tr>\n",
       "      <th>77</th>\n",
       "      <td>VSkin_sc_u</td>\n",
       "      <td>parameter</td>\n",
       "      <td>VSkin_sc_u</td>\n",
       "      <td>stratum corneum unexposed skin volume</td>\n",
       "      <td>rdf</td>\n",
       "      <td>BQB_IS</td>\n",
       "      <td>pato/PATO:0000918</td>\n",
       "      <td>volume</td>\n",
       "      <td>NaN</td>\n",
       "    </tr>\n",
       "  </tbody>\n",
       "</table>\n",
       "<p>78 rows × 9 columns</p>\n",
       "</div>"
      ],
      "text/plain": [
       "\n",
       "                pattern    sbml_type           element_id  \\\n",
       "\u001b[1;36m0\u001b[0m               euromix        model                  NaN   \n",
       "\u001b[1;36m1\u001b[0m               euromix        model                  NaN   \n",
       "\u001b[1;36m2\u001b[0m               euromix        model                  NaN   \n",
       "\u001b[1;36m3\u001b[0m   default_compartment  compartment  default_compartment   \n",
       "\u001b[1;36m4\u001b[0m                   Fat  compartment                  Fat   \n",
       "..                  \u001b[33m...\u001b[0m          \u001b[33m...\u001b[0m                  \u001b[33m...\u001b[0m   \n",
       "\u001b[1;36m73\u001b[0m                VRich    parameter                VRich   \n",
       "\u001b[1;36m74\u001b[0m              VSkin_e    parameter              VSkin_e   \n",
       "\u001b[1;36m75\u001b[0m              VSkin_u    parameter              VSkin_u   \n",
       "\u001b[1;36m76\u001b[0m           VSkin_sc_e    parameter           VSkin_sc_e   \n",
       "\u001b[1;36m77\u001b[0m           VSkin_sc_u    parameter           VSkin_sc_u   \n",
       "\n",
       "                      element_description annotation_type      qualifier  \\\n",
       "\u001b[1;36m0\u001b[0m                                     NaN             rdf         BQM_IS   \n",
       "\u001b[1;36m1\u001b[0m                                     NaN             rdf         BQM_IS   \n",
       "\u001b[1;36m2\u001b[0m                                     NaN             rdf  BQB_HAS_TAXON   \n",
       "\u001b[1;36m3\u001b[0m                                     NaN             rdf         BQB_IS   \n",
       "\u001b[1;36m4\u001b[0m                          adipose tissue             rdf         BQB_IS   \n",
       "..                                    \u001b[33m...\u001b[0m             \u001b[33m...\u001b[0m            \u001b[33m...\u001b[0m   \n",
       "\u001b[1;36m73\u001b[0m          richly perfused tissue volume             rdf         BQB_IS   \n",
       "\u001b[1;36m74\u001b[0m                    exposed skin volume             rdf         BQB_IS   \n",
       "\u001b[1;36m75\u001b[0m                  unexposed skin volume             rdf         BQB_IS   \n",
       "\u001b[1;36m76\u001b[0m    stratum corneum exposed skin volume             rdf         BQB_IS   \n",
       "\u001b[1;36m77\u001b[0m  stratum corneum unexposed skin volume             rdf         BQB_IS   \n",
       "\n",
       "                 resource                                         name  \\\n",
       "\u001b[1;36m0\u001b[0m       mamo/MAMO_0000203  physiologically based pharmacokinetic model   \n",
       "\u001b[1;36m1\u001b[0m       mamo/MAMO_0000046         ordinary differential equation model   \n",
       "\u001b[1;36m2\u001b[0m          taxonomy/\u001b[1;36m40674\u001b[0m                                     mammalia   \n",
       "\u001b[1;36m3\u001b[0m         sbo/SBO:\u001b[1;36m0000290\u001b[0m                         physical compartment   \n",
       "\u001b[1;36m4\u001b[0m   uberon/UBERON:\u001b[1;36m0001013\u001b[0m                               adipose tissue   \n",
       "..                    \u001b[33m...\u001b[0m                                          \u001b[33m...\u001b[0m   \n",
       "\u001b[1;36m73\u001b[0m      pato/PATO:\u001b[1;36m0000918\u001b[0m                                       volume   \n",
       "\u001b[1;36m74\u001b[0m      pato/PATO:\u001b[1;36m0000918\u001b[0m                                       volume   \n",
       "\u001b[1;36m75\u001b[0m      pato/PATO:\u001b[1;36m0000918\u001b[0m                                       volume   \n",
       "\u001b[1;36m76\u001b[0m      pato/PATO:\u001b[1;36m0000918\u001b[0m                                       volume   \n",
       "\u001b[1;36m77\u001b[0m      pato/PATO:\u001b[1;36m0000918\u001b[0m                                       volume   \n",
       "\n",
       "                                               remark  \n",
       "\u001b[1;36m0\u001b[0m                                                 NaN  \n",
       "\u001b[1;36m1\u001b[0m                                                 NaN  \n",
       "\u001b[1;36m2\u001b[0m                                                 NaN  \n",
       "\u001b[1;36m3\u001b[0m   Seems to be used for QAir and QExcrete. Better\u001b[33m...\u001b[0m  \n",
       "\u001b[1;36m4\u001b[0m                                                 NaN  \n",
       "..                                                \u001b[33m...\u001b[0m  \n",
       "\u001b[1;36m73\u001b[0m                                                NaN  \n",
       "\u001b[1;36m74\u001b[0m                                                NaN  \n",
       "\u001b[1;36m75\u001b[0m                                                NaN  \n",
       "\u001b[1;36m76\u001b[0m                                                NaN  \n",
       "\u001b[1;36m77\u001b[0m                                                NaN  \n",
       "\n",
       "\u001b[1m[\u001b[0m\u001b[1;36m78\u001b[0m rows x \u001b[1;36m9\u001b[0m columns\u001b[1m]\u001b[0m"
      ]
     },
     "execution_count": 1,
     "metadata": {},
     "output_type": "execute_result"
    }
   ],
   "source": [
    "from sbmlutils.metadata.annotator import ModelAnnotator\n",
    "df = ModelAnnotator.read_annotations_df('../model/euromix.terms.csv', file_format=\"csv\")\n",
    "df"
   ]
  },
  {
   "cell_type": "markdown",
   "metadata": {},
   "source": [
    "## Annotate the model"
   ]
  },
  {
   "cell_type": "code",
   "execution_count": 2,
   "metadata": {},
   "outputs": [
    {
     "data": {
      "text/html": [
       "<pre style=\"white-space:pre;overflow-x:auto;line-height:normal;font-family:Menlo,'DejaVu Sans Mono',consolas,'Courier New',monospace\"><span style=\"color: #800000; text-decoration-color: #800000; font-weight: bold\">ERROR   </span> All SBML paths should be of type <span style=\"color: #008000; text-decoration-color: #008000\">'Path'</span>, but <span style=\"color: #008000; text-decoration-color: #008000\">'&lt;class '</span><span style=\"color: #000000; text-decoration-color: #000000\">str'</span><span style=\"font-weight: bold\">&gt;</span>' found for: ..<span style=\"color: #800080; text-decoration-color: #800080\">/model/</span><span style=\"color: #ff00ff; text-decoration-color: #ff00ff\">euromix.sbml</span>   <a href=\"file://c:\\Programs\\python\\Lib\\site-packages\\sbmlutils\\io\\sbml.py\" target=\"_blank\"><span style=\"color: #7f7f7f; text-decoration-color: #7f7f7f\">sbml.py</span></a><span style=\"color: #7f7f7f; text-decoration-color: #7f7f7f\">:</span><a href=\"file://c:\\Programs\\python\\Lib\\site-packages\\sbmlutils\\io\\sbml.py#44\" target=\"_blank\"><span style=\"color: #7f7f7f; text-decoration-color: #7f7f7f\">44</span></a>\n",
       "</pre>\n"
      ],
      "text/plain": [
       "\u001b[1;31mERROR   \u001b[0m All SBML paths should be of type \u001b[32m'Path'\u001b[0m, but \u001b[32m'\u001b[0m\u001b[32m<\u001b[0m\u001b[32mclass\u001b[0m\u001b[32m '\u001b[0m\u001b[39mstr'\u001b[0m\u001b[1m>\u001b[0m' found for: ..\u001b[35m/model/\u001b[0m\u001b[95meuromix.sbml\u001b[0m   \u001b]8;id=269874;file://c:\\Programs\\python\\Lib\\site-packages\\sbmlutils\\io\\sbml.py\u001b\\\u001b[2msbml.py\u001b[0m\u001b]8;;\u001b\\\u001b[2m:\u001b[0m\u001b]8;id=73260;file://c:\\Programs\\python\\Lib\\site-packages\\sbmlutils\\io\\sbml.py#44\u001b\\\u001b[2m44\u001b[0m\u001b]8;;\u001b\\\n"
      ]
     },
     "metadata": {},
     "output_type": "display_data"
    },
    {
     "data": {
      "text/html": [
       "<pre style=\"white-space:pre;overflow-x:auto;line-height:normal;font-family:Menlo,'DejaVu Sans Mono',consolas,'Courier New',monospace\"><span style=\"color: #008000; text-decoration-color: #008000\">Model annotated: </span><span style=\"color: #0000ff; text-decoration-color: #0000ff; text-decoration: underline\">file://../model/euromix.annotated.sbml</span>\n",
       "</pre>\n"
      ],
      "text/plain": [
       "\u001b[32mModel annotated: \u001b[0m\u001b[4;94mfile://../model/euromix.annotated.sbml\u001b[0m\n"
      ]
     },
     "metadata": {},
     "output_type": "display_data"
    }
   ],
   "source": [
    "from sbmlutils.metadata.annotator import annotate_sbml\n",
    "\n",
    "# create SBML report without performing units checks\n",
    "annotate_sbml(\n",
    "    source= '../model/euromix.sbml', \n",
    "    annotations_path= '../model/euromix.terms.csv', \n",
    "    filepath='../model/euromix.annotated.sbml'\n",
    ")"
   ]
  },
  {
   "cell_type": "markdown",
   "metadata": {},
   "source": [
    "### Export RDF\n",
    "\n",
    "Not sure yet what to do with it, but it seems relevant to be able to generate RDF triplets accompanying the model."
   ]
  },
  {
   "cell_type": "code",
   "execution_count": 3,
   "metadata": {},
   "outputs": [],
   "source": [
    "# TODO: code to export RDF file"
   ]
  }
 ],
 "metadata": {
  "kernelspec": {
   "display_name": "Python 3",
   "language": "python",
   "name": "python3"
  },
  "language_info": {
   "codemirror_mode": {
    "name": "ipython",
    "version": 3
   },
   "file_extension": ".py",
   "mimetype": "text/x-python",
   "name": "python",
   "nbconvert_exporter": "python",
   "pygments_lexer": "ipython3",
   "version": "3.11.2"
  }
 },
 "nbformat": 4,
 "nbformat_minor": 2
}

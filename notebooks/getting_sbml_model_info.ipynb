{
 "cells": [
  {
   "cell_type": "markdown",
   "metadata": {},
   "source": [
    "# Getting information from SBML PBK model files"
   ]
  },
  {
   "cell_type": "markdown",
   "metadata": {},
   "source": [
    "This notebook demonstrates how information can be obtained from a PBK model stored in the SBML format using the EuroMix PBK model SBML model as example."
   ]
  },
  {
   "cell_type": "markdown",
   "metadata": {},
   "source": [
    "## Preparation"
   ]
  },
  {
   "cell_type": "code",
   "execution_count": null,
   "metadata": {},
   "outputs": [],
   "source": [
    "import pandas as pd\n",
    "import roadrunner as rr\n",
    "import math\n",
    "import matplotlib.pyplot as plt\n",
    "import libsbml as ls\n",
    "from tabulate import tabulate"
   ]
  },
  {
   "cell_type": "code",
   "execution_count": null,
   "metadata": {},
   "outputs": [],
   "source": [
    "# Specify sbml file path\n",
    "sbml_file = '../model/euromix.annotated.sbml'"
   ]
  },
  {
   "cell_type": "markdown",
   "metadata": {},
   "source": [
    "## Parsing the model"
   ]
  },
  {
   "cell_type": "markdown",
   "metadata": {},
   "source": [
    "### General SBML file format checks"
   ]
  },
  {
   "cell_type": "code",
   "execution_count": null,
   "metadata": {},
   "outputs": [],
   "source": [
    "# Open SBML document using libSBML\n",
    "document = ls.readSBML(sbml_file)\n",
    "\n",
    "# Check for errors\n",
    "if document.getNumErrors() > 0:\n",
    "    print(\"Encountered \" + str(document.getNumErrors()) + \" SBML errors:\" )\n",
    "    document.printErrors()\n",
    "\n",
    "# Get SBML level and version and print\n",
    "level = document.getLevel()\n",
    "version = document.getVersion()\n",
    "print(\"\\n\"\n",
    "      + \"File: \" + sbml_file\n",
    "      + \" (Level \" + str(level) + \", version \" + str(version) + \")\" )\n",
    "\n",
    "# Get the model\n",
    "model = document.getModel()\n",
    "\n",
    "if model is None:\n",
    "    print(\"No model present.\" )"
   ]
  },
  {
   "cell_type": "markdown",
   "metadata": {},
   "source": [
    "### Describe compartments\n",
    "\n",
    "Each compartment should be linked to a compartment matching the vocabulary of the to-be-developed PBK modelling ontology. For each compartment, the unit of measurement of the volume should be specified."
   ]
  },
  {
   "cell_type": "code",
   "execution_count": null,
   "metadata": {},
   "outputs": [],
   "source": [
    "# Helper function to extract is-a resource URI\n",
    "def getTerm(element):\n",
    "    cvTerms = element.getCVTerms()\n",
    "    if not cvTerms:\n",
    "        return None\n",
    "\n",
    "    for term in cvTerms:\n",
    "      num_resources = term.getNumResources()\n",
    "      for j in range(num_resources):\n",
    "          if term.getQualifierType() == ls.BIOLOGICAL_QUALIFIER and \\\n",
    "              term.getBiologicalQualifierType() == ls.BQB_IS:\n",
    "              return term.getResourceURI(j)\n",
    "\n",
    "    return None \n",
    "\n",
    "def getUnitString(element):\n",
    "    # TODO: produce some more humanly readible unit strings\n",
    "    return ls.UnitDefinition.printUnits(element.getDerivedUnitDefinition())\n",
    "\n",
    "# Create compartments info table\n",
    "print(\"Compartments (\" + str(model.getNumCompartments()) + \")\")\n",
    "dt_compartments = []\n",
    "for i in range(0,model.getNumCompartments()):\n",
    "    c = model.getCompartment(i)\n",
    "    dt_compartments.append([\n",
    "        c.getId(),\n",
    "        c.getName(),\n",
    "        c.getVolume(),\n",
    "        getUnitString(c),\n",
    "        getTerm(c)\n",
    "    ])\n",
    "df_compartments = pd.DataFrame(\n",
    "    dt_compartments,\n",
    "    columns=[\"Id\", \"Name\", \"Volume\", \"Unit\", \"URI\"]\n",
    ")\n",
    "print(tabulate(df_compartments, headers=\"keys\", tablefmt=\"fancy_grid\", showindex=False))"
   ]
  },
  {
   "cell_type": "markdown",
   "metadata": {},
   "source": [
    "### Describe substances (chemical species)\n",
    "\n",
    "Each species should represent a substance concentration/amount of a chemical substance in one of the compartments. For each species, the unit of measurement of the concentration/amount should be specified."
   ]
  },
  {
   "cell_type": "code",
   "execution_count": null,
   "metadata": {},
   "outputs": [],
   "source": [
    "# Create species info table\n",
    "dt_species = []\n",
    "print(\"Number of species: \" + str(model.getNumSpecies()))\n",
    "for i in range(0,model.getNumSpecies()):\n",
    "    s = model.getSpecies(i)\n",
    "    dt_species.append([\n",
    "        s.getId(),\n",
    "        s.getName(),\n",
    "        s.getCompartment(),\n",
    "        getUnitString(s)\n",
    "    ])\n",
    "df_species = pd.DataFrame(\n",
    "    dt_species,\n",
    "    columns=[\"Id\", \"Name\", \"IdCompartment\", \"Unit\"]\n",
    ")\n",
    "print(tabulate(df_species, headers=\"keys\", tablefmt=\"fancy_grid\", showindex=False))"
   ]
  },
  {
   "cell_type": "markdown",
   "metadata": {},
   "source": [
    "### Describe parameters\n",
    "\n",
    "The unit for each parameter should be specied. Unitless parameters should be explicitly specified as such. Each parameter should be associated with the correct ontological term(s) that exactly identify the type of parameter so that it becomes possible to search for the parameter value in databases. How to accomplish this is yet unclear?"
   ]
  },
  {
   "cell_type": "code",
   "execution_count": null,
   "metadata": {},
   "outputs": [],
   "source": [
    "# Create parameters info table\n",
    "dt_params = []\n",
    "print(\"Number of parameters: \" + str(model.getNumParameters()))\n",
    "for i in range(0,model.getNumParameters()):\n",
    "    s = model.getParameter(i)\n",
    "    dt_params.append([\n",
    "        s.getId(),\n",
    "        s.getName(),\n",
    "        getUnitString(s),\n",
    "        getTerm(s)\n",
    "    ])\n",
    "df_params = pd.DataFrame(\n",
    "    dt_params,\n",
    "    columns=[\"Id\", \"Name\", \"Unit\", \"URI\"]\n",
    ")\n",
    "print(tabulate(df_params, headers=\"keys\", tablefmt=\"fancy_grid\", showindex=False))"
   ]
  },
  {
   "cell_type": "markdown",
   "metadata": {},
   "source": [
    "### Render the differential equations\n",
    "\n",
    "Script below renders the differential equations of the model in simple text format. Would nice to get some latex formatting for this as well."
   ]
  },
  {
   "cell_type": "code",
   "execution_count": null,
   "metadata": {},
   "outputs": [],
   "source": [
    "# Get the list of species IDs\n",
    "species_ids = [species.getId() for species in model.getListOfSpecies()]\n",
    "\n",
    "# Initialize dictionaries to store the differential equations and reaction rates\n",
    "differential_equations = {}\n",
    "reaction_rates = {}\n",
    "\n",
    "# Iterate over the reactions in the model\n",
    "for i in range(model.getNumReactions()):\n",
    "    reaction = model.getReaction(i)\n",
    "    \n",
    "    # Get the kinetic law associated with the reaction\n",
    "    kinetic_law = reaction.getKineticLaw()\n",
    "    if kinetic_law is None:\n",
    "        continue\n",
    "    \n",
    "    # Get the reaction rate formula\n",
    "    rate_formula = ls.formulaToString(kinetic_law.getMath())\n",
    "    \n",
    "    # Iterate over the reactants and products of the reaction\n",
    "    for j in range(reaction.getNumReactants()):\n",
    "        reactant = reaction.getReactant(j)\n",
    "        species_id = reactant.getSpecies()\n",
    "        \n",
    "        # Add the reaction rate to the dictionary\n",
    "        if species_id in reaction_rates:\n",
    "            reaction_rates[species_id].append(f\"- {rate_formula}\")\n",
    "        else:\n",
    "            reaction_rates[species_id] = [f\"- {rate_formula}\"]\n",
    "    \n",
    "    for j in range(reaction.getNumProducts()):\n",
    "        product = reaction.getProduct(j)\n",
    "        species_id = product.getSpecies()\n",
    "        \n",
    "        # Add the negative reaction rate to the dictionary\n",
    "        if species_id in reaction_rates:\n",
    "            reaction_rates[species_id].append(rate_formula)\n",
    "        else:\n",
    "            reaction_rates[species_id] = [rate_formula]\n",
    "\n",
    "# Construct the differential equations for each species\n",
    "for species_id in species_ids:\n",
    "    if species_id in reaction_rates:\n",
    "        new_line = '\\n'\n",
    "        pref = f'{new_line}{\" \" * (len(species_id) + 8)}'\n",
    "        equation = f\"d[{species_id}]/dt = {f'{pref} + '.join(reaction_rates[species_id])}\"\n",
    "        differential_equations[species_id] = equation.replace(\"+ -\", \"-\")\n",
    "\n",
    "# Print the differential equations for each species\n",
    "for species_id, equation in differential_equations.items():\n",
    "    print(equation)"
   ]
  },
  {
   "cell_type": "markdown",
   "metadata": {},
   "source": [
    "### Render model diagram\n",
    "\n",
    "Would be nice to be able to automatically generate the model diagram. The SBMLDiagrams makes an effort, but it is not really satisfactory."
   ]
  },
  {
   "cell_type": "code",
   "execution_count": null,
   "metadata": {},
   "outputs": [],
   "source": [
    "import SBMLDiagrams\n",
    "df = SBMLDiagrams.load(sbml_file)\n",
    "df.autolayout()\n",
    "df.draw()"
   ]
  },
  {
   "cell_type": "markdown",
   "metadata": {},
   "source": [
    "## Export annotation template\n",
    "\n",
    "To make model annotation a bit easier, we could create an annotation template. The code below demonstrates how we could do this."
   ]
  },
  {
   "cell_type": "code",
   "execution_count": null,
   "metadata": {},
   "outputs": [],
   "source": [
    "df_compartments['sbml_type'] = 'compartment'\n",
    "df_species['sbml_type'] = 'species'\n",
    "df_params['sbml_type'] = 'parameter'\n",
    "df_annotations = pd.concat(\n",
    "    [\n",
    "        df_compartments[['Id', 'sbml_type','Name', 'Unit']],\n",
    "        df_species[['Id', 'sbml_type','Name', 'Unit']],\n",
    "        df_params[['Id', 'sbml_type','Name', 'Unit']]\n",
    "    ],\n",
    ")\n",
    "df_annotations.columns=['id', 'sbml_type','name', 'unit']\n",
    "df_annotations['pattern'] = df_annotations['id']\n",
    "df_annotations.insert(5, 'annotation_type', 'rdf')\n",
    "df_annotations.insert(6, 'qualifier', 'BQB_IS')\n",
    "df_annotations.insert(7, 'resource', '')\n",
    "df_annotations.to_csv('euromix.annotations.csv', index=False)"
   ]
  },
  {
   "cell_type": "markdown",
   "metadata": {},
   "source": [
    "## Running the model"
   ]
  },
  {
   "cell_type": "code",
   "execution_count": null,
   "metadata": {},
   "outputs": [],
   "source": [
    "# Helper function for plotting simulation results\n",
    "def plotSimulationResults(res, selections):\n",
    "    fig, axes = plt.subplots(3,math.ceil((len(selections) - 1)/3),figsize=(10,6))\n",
    "    axes = axes.flatten()\n",
    "    for ax in axes:\n",
    "        ax.set(xlabel='time') \n",
    "    labels = selections\n",
    "    for i in range(1, len(selections)):\n",
    "        sid = selections[i]\n",
    "        axes[i-1].plot(res['time'], res[sid])\n",
    "        axes[i-1].set(ylabel=f\"Amount\", title=labels[i])\n",
    "    fig.tight_layout()"
   ]
  },
  {
   "cell_type": "code",
   "execution_count": null,
   "metadata": {},
   "outputs": [],
   "source": [
    "# Specify the input\n",
    "input_compartment = 'QGut'"
   ]
  },
  {
   "cell_type": "markdown",
   "metadata": {},
   "source": [
    "### Single bolus\n",
    "\n",
    "Single oral dose of 1 at $t_0$ fed as initial amount of the input compartment."
   ]
  },
  {
   "cell_type": "code",
   "execution_count": null,
   "metadata": {},
   "outputs": [],
   "source": [
    "# Load the PBPK model from the SBML file\n",
    "rr_model = rr.RoadRunner(sbml_file)\n",
    "\n",
    "# Set initial amout\n",
    "rr_model.setInitAmount(input_compartment, 1)\n",
    "rr_model.setConstant(input_compartment, False)\n",
    "rr_model.setBoundary(input_compartment, False)\n",
    "\n",
    "# Simulate the PBPK model\n",
    "rr_model.resetAll()\n",
    "results = rr_model.simulate(start=0, end=24, points=100)\n",
    "\n",
    "# Plot the results\n",
    "plotSimulationResults(results, rr_model.timeCourseSelections)"
   ]
  },
  {
   "cell_type": "markdown",
   "metadata": {},
   "source": [
    "### Continuous dose\n",
    "\n",
    "Continuous dose of 1 set as initial amount, accomplished by setting the input compartment to boundary and constant."
   ]
  },
  {
   "cell_type": "code",
   "execution_count": null,
   "metadata": {},
   "outputs": [],
   "source": [
    "# Load the PBPK model from the SBML file\n",
    "rr_model = rr.RoadRunner(sbml_file)\n",
    "\n",
    "# Set initial amout set constant and boundary for Gut\n",
    "rr_model.setInitAmount(input_compartment, 1)\n",
    "rr_model.setConstant(input_compartment, True)\n",
    "rr_model.setBoundary(input_compartment, True)\n",
    "\n",
    "# Simulate the PBPK model\n",
    "rr_model.resetAll()\n",
    "results = rr_model.simulate(start=0, end=30, points=100)\n",
    "\n",
    "# Plot the results\n",
    "plotSimulationResults(results, rr_model.timeCourseSelections)"
   ]
  },
  {
   "cell_type": "markdown",
   "metadata": {},
   "source": [
    "### Run with bolus events\n",
    "\n",
    "Bolus inputs fed to the model via events (one per day)."
   ]
  },
  {
   "cell_type": "code",
   "execution_count": null,
   "metadata": {},
   "outputs": [],
   "source": [
    "# Load the PBPK model from the SBML file\n",
    "rr_model = rr.RoadRunner(sbml_file)\n",
    "\n",
    "# Make sure A_gut is not constant and does not have boundary conditions\n",
    "rr_model.setInitAmount(input_compartment, 0)\n",
    "rr_model.setConstant(input_compartment, False)\n",
    "rr_model.setBoundary(input_compartment, False)\n",
    "\n",
    "# Remove all events\n",
    "for event_id in rr_model.model.getEventIds():\n",
    "    rr_model.removeEvent(event_id)\n",
    "\n",
    "# Define a list of time/dose tuples\n",
    "time_dose_list = [\n",
    "    (0, 1),\n",
    "    (24, 2),\n",
    "    (48, 1),\n",
    "    (72, 2),\n",
    "    (96, 3)\n",
    "]\n",
    "\n",
    "# Create an event for each of the time-dose tuples\n",
    "for i in range(0, len(time_dose_list)):\n",
    "    dose_event = time_dose_list[i]\n",
    "    eid = f\"oral_dose_event_{i}\"\n",
    "    rr_model.addEvent(eid, False, f\"time > {dose_event[0]}\", False)\n",
    "    rr_model.addEventAssignment(eid, input_compartment, f\"{input_compartment} + {dose_event[1]}\", False)\n",
    "rr_model.regenerateModel(True, True)\n",
    "\n",
    "# Simulate the PBPK model\n",
    "results = rr_model.simulate(start=0, end=5*24, points=100)\n",
    "\n",
    "# Plot the results\n",
    "plotSimulationResults(results, rr_model.timeCourseSelections)"
   ]
  },
  {
   "cell_type": "markdown",
   "metadata": {},
   "source": [
    "### Run with continuous input events\n",
    "\n",
    "Continuous input events during 8 hours of the day over multiple days. Accomplished by setting the boundary condition to true."
   ]
  },
  {
   "cell_type": "code",
   "execution_count": null,
   "metadata": {},
   "outputs": [],
   "source": [
    "# Load the PBPK model from the SBML file\n",
    "rr_model = rr.RoadRunner(sbml_file)\n",
    "\n",
    "# Make sure A_gut is not constant and does not have boundary conditions\n",
    "rr_model.setInitAmount(input_compartment, 0)\n",
    "rr_model.setConstant(input_compartment, False)\n",
    "rr_model.setBoundary(input_compartment, True)\n",
    "\n",
    "# Remove all events\n",
    "for event_id in rr_model.model.getEventIds():\n",
    "    rr_model.removeEvent(event_id)\n",
    "\n",
    "# Define a list of time/dose tuples\n",
    "time_dose_duration_list = [\n",
    "    (0, 1, 12),\n",
    "    (24, 2, 12),\n",
    "    (48, 1, 12),\n",
    "    (72, 2, 12),\n",
    "    (96, 3, 12)\n",
    "]\n",
    "\n",
    "# Create an event for each of the time-dose tuples\n",
    "for i in range(0, len(time_dose_list)):\n",
    "    dose_event = time_dose_duration_list[i]\n",
    "    eid = f\"oral_dose_event_{i}_start\"\n",
    "    rr_model.addEvent(eid, False, f\"time > {dose_event[0]}\", False)\n",
    "    rr_model.addEventAssignment(eid, input_compartment, f\"{input_compartment} + {dose_event[1]}\", False)\n",
    "    eid = f\"oral_dose_event_{i}_stop\"\n",
    "    rr_model.addEvent(eid, False, f\"time > {dose_event[0]} + {dose_event[2]}\", False)\n",
    "    rr_model.addEventAssignment(eid, input_compartment, f\"{input_compartment} - {dose_event[1]}\", False)\n",
    "rr_model.regenerateModel(True, True)\n",
    "\n",
    "# Simulate the PBPK model\n",
    "results = rr_model.simulate(start=0, end=5*24, points=100)\n",
    "\n",
    "# Plot the results\n",
    "plotSimulationResults(results, rr_model.timeCourseSelections)"
   ]
  }
 ],
 "metadata": {
  "kernelspec": {
   "display_name": "Python 3",
   "language": "python",
   "name": "python3"
  },
  "language_info": {
   "codemirror_mode": {
    "name": "ipython",
    "version": 3
   },
   "file_extension": ".py",
   "mimetype": "text/x-python",
   "name": "python",
   "nbconvert_exporter": "python",
   "pygments_lexer": "ipython3",
   "version": "3.10.6"
  },
  "orig_nbformat": 4
 },
 "nbformat": 4,
 "nbformat_minor": 2
}

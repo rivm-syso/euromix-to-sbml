{
 "cells": [
  {
   "cell_type": "markdown",
   "metadata": {},
   "source": [
    "# Getting information from SBML PBK model files"
   ]
  },
  {
   "cell_type": "markdown",
   "metadata": {},
   "source": [
    "This notebook demonstrates how information can be obtained from a PBK model stored in the SBML format using the EuroMix PBK model SBML model as example."
   ]
  },
  {
   "cell_type": "markdown",
   "metadata": {},
   "source": [
    "## Preparation"
   ]
  },
  {
   "cell_type": "code",
   "execution_count": 25,
   "metadata": {},
   "outputs": [],
   "source": [
    "import pandas as pd\n",
    "import libsbml as ls\n",
    "from tabulate import tabulate"
   ]
  },
  {
   "cell_type": "code",
   "execution_count": 26,
   "metadata": {},
   "outputs": [],
   "source": [
    "# Specify sbml file path\n",
    "sbml_file = '../model/euromix.sbml'"
   ]
  },
  {
   "cell_type": "markdown",
   "metadata": {},
   "source": [
    "## Parsing the model"
   ]
  },
  {
   "cell_type": "markdown",
   "metadata": {},
   "source": [
    "### General SBML file format checks"
   ]
  },
  {
   "cell_type": "code",
   "execution_count": 27,
   "metadata": {},
   "outputs": [
    {
     "name": "stdout",
     "output_type": "stream",
     "text": [
      "\n",
      "File: ../model/euromix.sbml (Level 3, version 2)\n"
     ]
    }
   ],
   "source": [
    "# Open SBML document using libSBML\n",
    "document = ls.readSBML(sbml_file)\n",
    "\n",
    "# Check for errors\n",
    "if document.getNumErrors() > 0:\n",
    "    print(\"Encountered \" + str(document.getNumErrors()) + \" SBML errors:\" )\n",
    "    document.printErrors()\n",
    "\n",
    "# Get SBML level and version and print\n",
    "level = document.getLevel()\n",
    "version = document.getVersion()\n",
    "print(\"\\n\"\n",
    "      + \"File: \" + sbml_file\n",
    "      + \" (Level \" + str(level) + \", version \" + str(version) + \")\" )\n",
    "\n",
    "# Get the model\n",
    "model = document.getModel()\n",
    "\n",
    "if model is None:\n",
    "    print(\"No model present.\" )"
   ]
  },
  {
   "cell_type": "markdown",
   "metadata": {},
   "source": [
    "### Describe compartments\n",
    "\n",
    "Each compartment should be linked to a compartment matching the vocabulary of the PBK modelling ontology. For each compartment, the unit of measurement of the volume should be specified."
   ]
  },
  {
   "cell_type": "code",
   "execution_count": 28,
   "metadata": {},
   "outputs": [
    {
     "name": "stdout",
     "output_type": "stream",
     "text": [
      "Compartments (13)\n",
      "╒═══════════╤═════════════════════════════════╤══════════╤════════╤════════════════════════════════════════════╕\n",
      "│ Id        │ Name                            │   Volume │ Unit   │ URI                                        │\n",
      "╞═══════════╪═════════════════════════════════╪══════════╪════════╪════════════════════════════════════════════╡\n",
      "│ Air       │ alveolar air                    │  1       │ L      │ http://purl.obolibrary.org/obo/PBPKO_00448 │\n",
      "├───────────┼─────────────────────────────────┼──────────┼────────┼────────────────────────────────────────────┤\n",
      "│ Urine     │ urine                           │  1       │ L      │ http://purl.obolibrary.org/obo/PBPKO_00556 │\n",
      "├───────────┼─────────────────────────────────┼──────────┼────────┼────────────────────────────────────────────┤\n",
      "│ Fat       │ adipose tissue                  │ 14.63    │ L      │ http://purl.obolibrary.org/obo/PBPKO_00460 │\n",
      "├───────────┼─────────────────────────────────┼──────────┼────────┼────────────────────────────────────────────┤\n",
      "│ Rich      │ richly perfused tissue          │  7.35    │ L      │ http://purl.obolibrary.org/obo/PBPKO_00453 │\n",
      "├───────────┼─────────────────────────────────┼──────────┼────────┼────────────────────────────────────────────┤\n",
      "│ Liver     │ liver                           │  1.68    │ L      │ http://purl.obolibrary.org/obo/PBPKO_00558 │\n",
      "├───────────┼─────────────────────────────────┼──────────┼────────┼────────────────────────────────────────────┤\n",
      "│ Art       │ arterial blood                  │  1.58667 │ L      │ http://purl.obolibrary.org/obo/PBPKO_00552 │\n",
      "├───────────┼─────────────────────────────────┼──────────┼────────┼────────────────────────────────────────────┤\n",
      "│ Ven       │ venous blood                    │  3.17333 │ L      │ http://purl.obolibrary.org/obo/PBPKO_00561 │\n",
      "├───────────┼─────────────────────────────────┼──────────┼────────┼────────────────────────────────────────────┤\n",
      "│ Skin_e    │ viable epidermis exposed skin   │  0.2318  │ L      │ http://purl.obolibrary.org/obo/PBPKO_00456 │\n",
      "├───────────┼─────────────────────────────────┼──────────┼────────┼────────────────────────────────────────────┤\n",
      "│ Skin_u    │ viable epidermis unexposed skin │  2.0862  │ L      │ http://purl.obolibrary.org/obo/PBPKO_00455 │\n",
      "├───────────┼─────────────────────────────────┼──────────┼────────┼────────────────────────────────────────────┤\n",
      "│ Skin_sc_e │ stratum corneum exposed skin    │  0.0019  │ L      │ http://purl.obolibrary.org/obo/PBPKO_00458 │\n",
      "├───────────┼─────────────────────────────────┼──────────┼────────┼────────────────────────────────────────────┤\n",
      "│ Skin_sc_u │ stratum corneum unexposed skin  │  0.0171  │ L      │ http://purl.obolibrary.org/obo/PBPKO_00457 │\n",
      "├───────────┼─────────────────────────────────┼──────────┼────────┼────────────────────────────────────────────┤\n",
      "│ Poor      │ poorly perfused tissue          │ 32.243   │ L      │ http://purl.obolibrary.org/obo/PBPKO_00454 │\n",
      "├───────────┼─────────────────────────────────┼──────────┼────────┼────────────────────────────────────────────┤\n",
      "│ Gut       │ gut                             │  1       │ L      │ http://purl.obolibrary.org/obo/PBPKO_00477 │\n",
      "╘═══════════╧═════════════════════════════════╧══════════╧════════╧════════════════════════════════════════════╛\n"
     ]
    }
   ],
   "source": [
    "# Helper function to extract is-a resource URI\n",
    "def getTerm(element):\n",
    "    cvTerms = element.getCVTerms()\n",
    "    if not cvTerms:\n",
    "        return None\n",
    "    for term in cvTerms:\n",
    "      num_resources = term.getNumResources()\n",
    "      for j in range(num_resources):\n",
    "          if term.getQualifierType() == ls.MODEL_QUALIFIER and \\\n",
    "              term.getModelQualifierType() == ls.BQM_IS:\n",
    "              return term.getResourceURI(j)\n",
    "          elif term.getQualifierType() == ls.BIOLOGICAL_QUALIFIER and \\\n",
    "              term.getBiologicalQualifierType() == ls.BQB_IS:\n",
    "              return term.getResourceURI(j)\n",
    "    return None \n",
    "\n",
    "# Create compartments info table\n",
    "print(\"Compartments (\" + str(model.getNumCompartments()) + \")\")\n",
    "dt_compartments = []\n",
    "for i in range(0,model.getNumCompartments()):\n",
    "    c = model.getCompartment(i)\n",
    "    dt_compartments.append([\n",
    "        c.getId(),\n",
    "        c.getName(),\n",
    "        c.getVolume(),\n",
    "        c.getUnits(),\n",
    "        getTerm(c)\n",
    "    ])\n",
    "df_compartments = pd.DataFrame(\n",
    "    dt_compartments,\n",
    "    columns=[\"Id\", \"Name\", \"Volume\", \"Unit\", \"URI\"]\n",
    ")\n",
    "print(tabulate(df_compartments, headers=\"keys\", tablefmt=\"fancy_grid\", showindex=False))"
   ]
  },
  {
   "cell_type": "markdown",
   "metadata": {},
   "source": [
    "### Describe substances (chemical species)\n",
    "\n",
    "Each species should represent a substance concentration/amount of a chemical substance in one of the compartments. For each species, the unit of measurement of the concentration/amount should be specified."
   ]
  },
  {
   "cell_type": "code",
   "execution_count": 29,
   "metadata": {},
   "outputs": [
    {
     "name": "stdout",
     "output_type": "stream",
     "text": [
      "Number of species: 14\n",
      "╒════════════╤══════════════════════════════════════════════════════════════╤═════════════════╤══════════╕\n",
      "│ Id         │ Name                                                         │ IdCompartment   │ Unit     │\n",
      "╞════════════╪══════════════════════════════════════════════════════════════╪═════════════════╪══════════╡\n",
      "│ QFat       │ amount of chemical in fat tissues                            │ Fat             │ MilliMOL │\n",
      "├────────────┼──────────────────────────────────────────────────────────────┼─────────────────┼──────────┤\n",
      "│ QRich      │ amount of chemical in richly tissues                         │ Rich            │ MilliMOL │\n",
      "├────────────┼──────────────────────────────────────────────────────────────┼─────────────────┼──────────┤\n",
      "│ QPoor      │ amount of chemical in poor tissues                           │ Poor            │ MilliMOL │\n",
      "├────────────┼──────────────────────────────────────────────────────────────┼─────────────────┼──────────┤\n",
      "│ QLiver     │ amount of chemical in liver                                  │ Liver           │ MilliMOL │\n",
      "├────────────┼──────────────────────────────────────────────────────────────┼─────────────────┼──────────┤\n",
      "│ QMetab     │ amount of chemical metabolized (cumulated)                   │ Liver           │ MilliMOL │\n",
      "├────────────┼──────────────────────────────────────────────────────────────┼─────────────────┼──────────┤\n",
      "│ QGut       │ amount of chemical in gut lumen                              │ Gut             │ MilliMOL │\n",
      "├────────────┼──────────────────────────────────────────────────────────────┼─────────────────┼──────────┤\n",
      "│ QSkin_u    │ amount of chemical in viable epidermis of unexposed skin     │ Skin_u          │ MilliMOL │\n",
      "├────────────┼──────────────────────────────────────────────────────────────┼─────────────────┼──────────┤\n",
      "│ QSkin_e    │ amount of chemical in viable epidermis of exposed skin       │ Skin_e          │ MilliMOL │\n",
      "├────────────┼──────────────────────────────────────────────────────────────┼─────────────────┼──────────┤\n",
      "│ QSkin_sc_u │ amount of chemical in skin stratum corneum of unexposed skin │ Skin_sc_u       │ MilliMOL │\n",
      "├────────────┼──────────────────────────────────────────────────────────────┼─────────────────┼──────────┤\n",
      "│ QSkin_sc_e │ amount of chemical in skin stratum corneum of exposed skin   │ Skin_sc_e       │ MilliMOL │\n",
      "├────────────┼──────────────────────────────────────────────────────────────┼─────────────────┼──────────┤\n",
      "│ QArt       │ amount of chemical in arterial blood                         │ Art             │ MilliMOL │\n",
      "├────────────┼──────────────────────────────────────────────────────────────┼─────────────────┼──────────┤\n",
      "│ QVen       │ amount of chemical in venous blood                           │ Ven             │ MilliMOL │\n",
      "├────────────┼──────────────────────────────────────────────────────────────┼─────────────────┼──────────┤\n",
      "│ QExcret    │ amount of chemical excreted in urine (cumulated)             │ Urine           │ MilliMOL │\n",
      "├────────────┼──────────────────────────────────────────────────────────────┼─────────────────┼──────────┤\n",
      "│ QAir       │ amount of chemical in alveolar air                           │ Air             │ MilliMOL │\n",
      "╘════════════╧══════════════════════════════════════════════════════════════╧═════════════════╧══════════╛\n"
     ]
    }
   ],
   "source": [
    "# Create species info table\n",
    "dt_species = []\n",
    "print(\"Number of species: \" + str(model.getNumSpecies()))\n",
    "for i in range(0,model.getNumSpecies()):\n",
    "    s = model.getSpecies(i)\n",
    "    dt_species.append([\n",
    "        s.getId(),\n",
    "        s.getName(),\n",
    "        s.getCompartment(),\n",
    "        s.getUnits()\n",
    "    ])\n",
    "df_species = pd.DataFrame(\n",
    "    dt_species,\n",
    "    columns=[\"Id\", \"Name\", \"IdCompartment\", \"Unit\"]\n",
    ")\n",
    "print(tabulate(df_species, headers=\"keys\", tablefmt=\"fancy_grid\", showindex=False))"
   ]
  },
  {
   "cell_type": "markdown",
   "metadata": {},
   "source": [
    "### Describe parameters\n",
    "\n",
    "We distinguish between internal and external parameters. Internal parameters are set by the model, via initial assignment rules, based on other parameters. External parameters are parameters that can be specified in model parametrisations. In SBML, these the *isSetConstant* method can be used to distinguish between these types of parameters.\n",
    "\n",
    "The unit for each parameter should be specified. Unitless parameters should be explicitly specified as such. Each parameter should be associated with the correct ontology term(s) that exactly identify the type of parameter so that it becomes possible to search for the parameter value in databases."
   ]
  },
  {
   "cell_type": "code",
   "execution_count": 30,
   "metadata": {},
   "outputs": [
    {
     "name": "stdout",
     "output_type": "stream",
     "text": [
      "Number of parameters: 42\n",
      "╒═════════════╤═════════════════════════════════════════════════════════════════╤═══════════════════╤══════════════╤════════════════════════════════════════════╕\n",
      "│ Id          │ Name                                                            │ Unit              │ IsExternal   │ URI                                        │\n",
      "╞═════════════╪═════════════════════════════════════════════════════════════════╪═══════════════════╪══════════════╪════════════════════════════════════════════╡\n",
      "│ BM          │ body weight                                                     │ KiloGM            │ True         │ http://purl.obolibrary.org/obo/PBPKO_00008 │\n",
      "├─────────────┼─────────────────────────────────────────────────────────────────┼───────────────────┼──────────────┼────────────────────────────────────────────┤\n",
      "│ BSA         │ body surface area                                               │ DeciM2            │ True         │ http://purl.obolibrary.org/obo/PBPKO_00010 │\n",
      "├─────────────┼─────────────────────────────────────────────────────────────────┼───────────────────┼──────────────┼────────────────────────────────────────────┤\n",
      "│ scVFat      │ fat volume as fraction of total body weight                     │ L_PER_KiloGM      │ True         │ http://purl.obolibrary.org/obo/PBPKO_00086 │\n",
      "├─────────────┼─────────────────────────────────────────────────────────────────┼───────────────────┼──────────────┼────────────────────────────────────────────┤\n",
      "│ scVRich     │ richly perfused tissues volume as fraction of total body weight │ L_PER_KiloGM      │ True         │ http://purl.obolibrary.org/obo/PBPKO_00102 │\n",
      "├─────────────┼─────────────────────────────────────────────────────────────────┼───────────────────┼──────────────┼────────────────────────────────────────────┤\n",
      "│ scVLiver    │ liver volume as fraction of total body weight                   │ L_PER_KiloGM      │ True         │ http://purl.obolibrary.org/obo/PBPKO_00078 │\n",
      "├─────────────┼─────────────────────────────────────────────────────────────────┼───────────────────┼──────────────┼────────────────────────────────────────────┤\n",
      "│ scVBlood    │ blood volume as fraction of total body weight                   │ L_PER_KiloGM      │ True         │ http://purl.obolibrary.org/obo/PBPKO_00107 │\n",
      "├─────────────┼─────────────────────────────────────────────────────────────────┼───────────────────┼──────────────┼────────────────────────────────────────────┤\n",
      "│ scVArt      │ arterial blood volume as fraction of total blood volume         │ UNITLESS          │ True         │                                            │\n",
      "├─────────────┼─────────────────────────────────────────────────────────────────┼───────────────────┼──────────────┼────────────────────────────────────────────┤\n",
      "│ scFBlood    │ total blood flow per unit mass                                  │ L_PER_KiloGM_HR   │ True         │                                            │\n",
      "├─────────────┼─────────────────────────────────────────────────────────────────┼───────────────────┼──────────────┼────────────────────────────────────────────┤\n",
      "│ scFFat      │ fraction of blood flow going to adipose tissue                  │ UNITLESS          │ True         │ http://purl.obolibrary.org/obo/PBPKO_00033 │\n",
      "├─────────────┼─────────────────────────────────────────────────────────────────┼───────────────────┼──────────────┼────────────────────────────────────────────┤\n",
      "│ scFPoor     │ fraction total blood flow going to poorly perfused tissue       │ UNITLESS          │ True         │ http://purl.obolibrary.org/obo/PBPKO_00046 │\n",
      "├─────────────┼─────────────────────────────────────────────────────────────────┼───────────────────┼──────────────┼────────────────────────────────────────────┤\n",
      "│ scFLiver    │ fraction total blood flow going to liver                        │ UNITLESS          │ True         │ http://purl.obolibrary.org/obo/PBPKO_00025 │\n",
      "├─────────────┼─────────────────────────────────────────────────────────────────┼───────────────────┼──────────────┼────────────────────────────────────────────┤\n",
      "│ scFSkin     │ fraction total blood flow going to skin                         │ UNITLESS          │ True         │ http://purl.obolibrary.org/obo/PBPKO_00037 │\n",
      "├─────────────┼─────────────────────────────────────────────────────────────────┼───────────────────┼──────────────┼────────────────────────────────────────────┤\n",
      "│ fSA_exposed │ fraction of skin surface area actually exposed                  │ UNITLESS          │ True         │ http://purl.obolibrary.org/obo/PBPKO_00110 │\n",
      "├─────────────┼─────────────────────────────────────────────────────────────────┼───────────────────┼──────────────┼────────────────────────────────────────────┤\n",
      "│ Height_sc   │ thickness stratum corneum                                       │ DeciM             │ True         │                                            │\n",
      "├─────────────┼─────────────────────────────────────────────────────────────────┼───────────────────┼──────────────┼────────────────────────────────────────────┤\n",
      "│ Height_vs   │ thickness viable epidermis                                      │ DeciM             │ True         │                                            │\n",
      "├─────────────┼─────────────────────────────────────────────────────────────────┼───────────────────┼──────────────┼────────────────────────────────────────────┤\n",
      "│ Falv        │ alveolar ventilation rate                                       │ L_PER_HR          │ True         │ http://purl.obolibrary.org/obo/PBPKO_00114 │\n",
      "├─────────────┼─────────────────────────────────────────────────────────────────┼───────────────────┼──────────────┼────────────────────────────────────────────┤\n",
      "│ PCFat       │ partition coefficient fat over blood                            │ UNITLESS          │ True         │ http://purl.obolibrary.org/obo/PBPKO_00165 │\n",
      "├─────────────┼─────────────────────────────────────────────────────────────────┼───────────────────┼──────────────┼────────────────────────────────────────────┤\n",
      "│ PCLiver     │ partition coefficient liver over blood                          │ UNITLESS          │ True         │ http://purl.obolibrary.org/obo/PBPKO_00165 │\n",
      "├─────────────┼─────────────────────────────────────────────────────────────────┼───────────────────┼──────────────┼────────────────────────────────────────────┤\n",
      "│ PCRich      │ partition coefficient poorly perfused tissue over blood         │ UNITLESS          │ True         │ http://purl.obolibrary.org/obo/PBPKO_00165 │\n",
      "├─────────────┼─────────────────────────────────────────────────────────────────┼───────────────────┼──────────────┼────────────────────────────────────────────┤\n",
      "│ PCPoor      │ partition coefficient richly perfused tissue over blood         │ UNITLESS          │ True         │ http://purl.obolibrary.org/obo/PBPKO_00165 │\n",
      "├─────────────┼─────────────────────────────────────────────────────────────────┼───────────────────┼──────────────┼────────────────────────────────────────────┤\n",
      "│ PCSkin_sc   │ partition coefficient viable skin over stratum corneum          │ UNITLESS          │ True         │ http://purl.obolibrary.org/obo/PBPKO_00165 │\n",
      "├─────────────┼─────────────────────────────────────────────────────────────────┼───────────────────┼──────────────┼────────────────────────────────────────────┤\n",
      "│ PCSkin      │ partition coefficient viable skin over blood                    │ UNITLESS          │ True         │ http://purl.obolibrary.org/obo/PBPKO_00165 │\n",
      "├─────────────┼─────────────────────────────────────────────────────────────────┼───────────────────┼──────────────┼────────────────────────────────────────────┤\n",
      "│ PCAir       │ partition coefficient blood over air                            │ UNITLESS          │ True         │ http://purl.obolibrary.org/obo/PBPKO_00165 │\n",
      "├─────────────┼─────────────────────────────────────────────────────────────────┼───────────────────┼──────────────┼────────────────────────────────────────────┤\n",
      "│ kGut        │ absorption rate constant gut                                    │ PER_H             │ True         │ http://purl.obolibrary.org/obo/PBPKO_00141 │\n",
      "├─────────────┼─────────────────────────────────────────────────────────────────┼───────────────────┼──────────────┼────────────────────────────────────────────┤\n",
      "│ Kp_sc_vs    │ diffusion rate from stratum corneum to viable epidermis         │ DeciM_PER_HR      │ True         │ http://purl.obolibrary.org/obo/PBPKO_00184 │\n",
      "├─────────────┼─────────────────────────────────────────────────────────────────┼───────────────────┼──────────────┼────────────────────────────────────────────┤\n",
      "│ Km          │ Michaelis-Menten constant liver                                 │ MilliMOL          │ True         │ http://purl.obolibrary.org/obo/PBPKO_00214 │\n",
      "├─────────────┼─────────────────────────────────────────────────────────────────┼───────────────────┼──────────────┼────────────────────────────────────────────┤\n",
      "│ Michaelis   │ flag for Michaelis-Menten or linear metabolism                  │ UNITLESS          │ True         │                                            │\n",
      "├─────────────┼─────────────────────────────────────────────────────────────────┼───────────────────┼──────────────┼────────────────────────────────────────────┤\n",
      "│ Vmax        │ maximum rate of metabolism in the liver                         │ MilliMOL_PER_L_HR │ True         │ http://purl.obolibrary.org/obo/PBPKO_00213 │\n",
      "├─────────────┼─────────────────────────────────────────────────────────────────┼───────────────────┼──────────────┼────────────────────────────────────────────┤\n",
      "│ CLH         │ hepatic clearance rate                                          │ L_PER_HR          │ True         │ http://purl.obolibrary.org/obo/PBPKO_00234 │\n",
      "├─────────────┼─────────────────────────────────────────────────────────────────┼───────────────────┼──────────────┼────────────────────────────────────────────┤\n",
      "│ Ke          │ renal excretion rate                                            │ L_PER_HR          │ True         │ http://purl.obolibrary.org/obo/PBPKO_00223 │\n",
      "├─────────────┼─────────────────────────────────────────────────────────────────┼───────────────────┼──────────────┼────────────────────────────────────────────┤\n",
      "│ fub         │ fraction of chemical unbound in blood                           │ UNITLESS          │ True         │ http://purl.obolibrary.org/obo/PKPBO_00134 │\n",
      "├─────────────┼─────────────────────────────────────────────────────────────────┼───────────────────┼──────────────┼────────────────────────────────────────────┤\n",
      "│ f_su        │                                                                 │ L_PER_HR          │ False        │                                            │\n",
      "├─────────────┼─────────────────────────────────────────────────────────────────┼───────────────────┼──────────────┼────────────────────────────────────────────┤\n",
      "│ f_se        │                                                                 │ L_PER_HR          │ False        │                                            │\n",
      "├─────────────┼─────────────────────────────────────────────────────────────────┼───────────────────┼──────────────┼────────────────────────────────────────────┤\n",
      "│ VBlood      │ total blood volume                                              │ L                 │ False        │ http://purl.obolibrary.org/obo/PBPKO_00108 │\n",
      "├─────────────┼─────────────────────────────────────────────────────────────────┼───────────────────┼──────────────┼────────────────────────────────────────────┤\n",
      "│ FBlood      │ blood flow                                                      │ L_PER_HR          │ False        │ http://purl.obolibrary.org/obo/PBPKO_00013 │\n",
      "├─────────────┼─────────────────────────────────────────────────────────────────┼───────────────────┼──────────────┼────────────────────────────────────────────┤\n",
      "│ FFat        │ blood flow to the fat                                           │ L_PER_HR          │ False        │ http://purl.obolibrary.org/obo/PBPKO_00032 │\n",
      "├─────────────┼─────────────────────────────────────────────────────────────────┼───────────────────┼──────────────┼────────────────────────────────────────────┤\n",
      "│ FPoor       │ blood flow to poorly perfused tissues                           │ L_PER_HR          │ False        │ http://purl.obolibrary.org/obo/PBPKO_00046 │\n",
      "├─────────────┼─────────────────────────────────────────────────────────────────┼───────────────────┼──────────────┼────────────────────────────────────────────┤\n",
      "│ FLiver      │ blood flow to the liver                                         │ L_PER_HR          │ False        │ http://purl.obolibrary.org/obo/PBPKO_00024 │\n",
      "├─────────────┼─────────────────────────────────────────────────────────────────┼───────────────────┼──────────────┼────────────────────────────────────────────┤\n",
      "│ FSkin       │ blood flow to the skin                                          │ L_PER_HR          │ False        │ http://purl.obolibrary.org/obo/PBPKO_00036 │\n",
      "├─────────────┼─────────────────────────────────────────────────────────────────┼───────────────────┼──────────────┼────────────────────────────────────────────┤\n",
      "│ FRich       │ blood flow to richly perfused tissues                           │ L_PER_HR          │ False        │ http://purl.obolibrary.org/obo/PBPKO_00048 │\n",
      "├─────────────┼─────────────────────────────────────────────────────────────────┼───────────────────┼──────────────┼────────────────────────────────────────────┤\n",
      "│ FSkin_e     │ blood flow to exposed skin                                      │ L_PER_HR          │ False        │                                            │\n",
      "├─────────────┼─────────────────────────────────────────────────────────────────┼───────────────────┼──────────────┼────────────────────────────────────────────┤\n",
      "│ FSkin_u     │ blood flow to unexposed skin                                    │ L_PER_HR          │ False        │                                            │\n",
      "╘═════════════╧═════════════════════════════════════════════════════════════════╧═══════════════════╧══════════════╧════════════════════════════════════════════╛\n"
     ]
    }
   ],
   "source": [
    "# Create parameters info table\n",
    "dt_params = []\n",
    "print(\"Number of parameters: \" + str(model.getNumParameters()))\n",
    "for i in range(0,model.getNumParameters()):\n",
    "    s = model.getParameter(i)\n",
    "    dt_params.append([\n",
    "        s.getId(),\n",
    "        s.getName(),\n",
    "        s.getUnits(),\n",
    "        s.getConstant(),\n",
    "        getTerm(s)\n",
    "    ])\n",
    "df_params = pd.DataFrame(\n",
    "    dt_params,\n",
    "    columns=[\"Id\", \"Name\", \"Unit\", \"IsExternal\", \"URI\"]\n",
    ")\n",
    "print(tabulate(df_params, headers=\"keys\", tablefmt=\"fancy_grid\", showindex=False))"
   ]
  },
  {
   "cell_type": "markdown",
   "metadata": {},
   "source": [
    "## Describe units"
   ]
  },
  {
   "cell_type": "markdown",
   "metadata": {},
   "source": [
    "These are the units defined in the model."
   ]
  },
  {
   "cell_type": "code",
   "execution_count": 31,
   "metadata": {},
   "outputs": [
    {
     "name": "stdout",
     "output_type": "stream",
     "text": [
      "Number of units: 13\n",
      "╒═══════════════════╤═════════════════════════════════════════════════════════════════════════════════════════════════════════════════════════════════════════════════════════╕\n",
      "│ Id                │ Unit                                                                                                                                                    │\n",
      "╞═══════════════════╪═════════════════════════════════════════════════════════════════════════════════════════════════════════════════════════════════════════════════════════╡\n",
      "│ MilliMOL          │ mole (exponent = 1, multiplier = 1, scale = -3)                                                                                                         │\n",
      "├───────────────────┼─────────────────────────────────────────────────────────────────────────────────────────────────────────────────────────────────────────────────────────┤\n",
      "│ HR                │ second (exponent = 1, multiplier = 3600, scale = 0)                                                                                                     │\n",
      "├───────────────────┼─────────────────────────────────────────────────────────────────────────────────────────────────────────────────────────────────────────────────────────┤\n",
      "│ L                 │ litre (exponent = 1, multiplier = 1, scale = 0)                                                                                                         │\n",
      "├───────────────────┼─────────────────────────────────────────────────────────────────────────────────────────────────────────────────────────────────────────────────────────┤\n",
      "│ KiloGM            │ gram (exponent = 1, multiplier = 1, scale = 3)                                                                                                          │\n",
      "├───────────────────┼─────────────────────────────────────────────────────────────────────────────────────────────────────────────────────────────────────────────────────────┤\n",
      "│ DeciM2            │ metre (exponent = 2, multiplier = 1, scale = -1)                                                                                                        │\n",
      "├───────────────────┼─────────────────────────────────────────────────────────────────────────────────────────────────────────────────────────────────────────────────────────┤\n",
      "│ DeciM             │ metre (exponent = 1, multiplier = 1, scale = -1)                                                                                                        │\n",
      "├───────────────────┼─────────────────────────────────────────────────────────────────────────────────────────────────────────────────────────────────────────────────────────┤\n",
      "│ L_PER_KiloGM      │ litre (exponent = 1, multiplier = 1, scale = 0), gram (exponent = -1, multiplier = 1, scale = 3)                                                        │\n",
      "├───────────────────┼─────────────────────────────────────────────────────────────────────────────────────────────────────────────────────────────────────────────────────────┤\n",
      "│ UNITLESS          │ dimensionless (exponent = 1, multiplier = 1, scale = 0)                                                                                                 │\n",
      "├───────────────────┼─────────────────────────────────────────────────────────────────────────────────────────────────────────────────────────────────────────────────────────┤\n",
      "│ L_PER_KiloGM_HR   │ litre (exponent = 1, multiplier = 1, scale = 0), gram (exponent = -1, multiplier = 1, scale = 3), second (exponent = -1, multiplier = 3600, scale = 0)  │\n",
      "├───────────────────┼─────────────────────────────────────────────────────────────────────────────────────────────────────────────────────────────────────────────────────────┤\n",
      "│ L_PER_HR          │ litre (exponent = 1, multiplier = 1, scale = 0), second (exponent = -1, multiplier = 3600, scale = 0)                                                   │\n",
      "├───────────────────┼─────────────────────────────────────────────────────────────────────────────────────────────────────────────────────────────────────────────────────────┤\n",
      "│ MilliMOL_PER_L_HR │ mole (exponent = 1, multiplier = 1, scale = -3), litre (exponent = -1, multiplier = 1, scale = 0), second (exponent = -1, multiplier = 3600, scale = 0) │\n",
      "├───────────────────┼─────────────────────────────────────────────────────────────────────────────────────────────────────────────────────────────────────────────────────────┤\n",
      "│ DeciM_PER_HR      │ metre (exponent = 1, multiplier = 1, scale = -1), second (exponent = -1, multiplier = 3600, scale = 0)                                                  │\n",
      "├───────────────────┼─────────────────────────────────────────────────────────────────────────────────────────────────────────────────────────────────────────────────────────┤\n",
      "│ PER_H             │ second (exponent = -1, multiplier = 3600, scale = 0)                                                                                                    │\n",
      "╘═══════════════════╧═════════════════════════════════════════════════════════════════════════════════════════════════════════════════════════════════════════════════════════╛\n"
     ]
    }
   ],
   "source": [
    "dt_params = []\n",
    "print(\"Number of units: \" + str(model.getNumUnitDefinitions()))\n",
    "for i in range(0,model.getNumUnitDefinitions()):\n",
    "    s = model.getUnitDefinition(i)\n",
    "    dt_params.append([\n",
    "        s.getId(),\n",
    "        ls.UnitDefinition.printUnits(s)\n",
    "    ])\n",
    "df_params = pd.DataFrame(\n",
    "    dt_params,\n",
    "    columns=[\"Id\", \"Unit\"]\n",
    ")\n",
    "print(tabulate(df_params, headers=\"keys\", tablefmt=\"fancy_grid\", showindex=False))"
   ]
  },
  {
   "cell_type": "markdown",
   "metadata": {},
   "source": [
    "### Render the differential equations\n",
    "\n",
    "Script below renders the differential equations of the model in simple text format."
   ]
  },
  {
   "cell_type": "code",
   "execution_count": 32,
   "metadata": {},
   "outputs": [
    {
     "name": "stdout",
     "output_type": "stream",
     "text": [
      "d[QFat]/dt = FFat * (QArt / Art)\n",
      "             - FFat * (QFat / Fat) / PCFat\n",
      "d[QRich]/dt = FRich * (QArt / Art)\n",
      "              - FRich * (QRich / Rich) / PCRich\n",
      "d[QPoor]/dt = FPoor * (QArt / Art)\n",
      "              - FPoor * (QPoor / Poor) / PCPoor\n",
      "d[QLiver]/dt = FLiver * (QArt / Art)\n",
      "               - FLiver * (QLiver / Liver) / PCLiver\n",
      "               + kGut * QGut\n",
      "               - fub * piecewise(metab_MM(Vmax, Km, PCLiver, QLiver, Liver), gt(Michaelis, 0.5), metab_MA(CLH, PCLiver, QLiver, Liver))\n",
      "d[QMetab]/dt = fub * piecewise(metab_MM(Vmax, Km, PCLiver, QLiver, Liver), gt(Michaelis, 0.5), metab_MA(CLH, PCLiver, QLiver, Liver))\n",
      "d[QGut]/dt = - kGut * QGut\n",
      "d[QSkin_u]/dt = FSkin_u * (QArt / Art)\n",
      "                - FSkin_u * conc(QSkin_u, Skin_u) / PCSkin\n",
      "                - f_su * conc(QSkin_u, Skin_u) / PCSkin_sc\n",
      "                + f_su * conc(QSkin_sc_u, Skin_sc_u)\n",
      "d[QSkin_e]/dt = FSkin_e * (QArt / Art)\n",
      "                - FSkin_e * conc(QSkin_e, Skin_e) / PCSkin\n",
      "                - f_se * conc(QSkin_e, Skin_e) / PCSkin_sc\n",
      "                + f_se * conc(QSkin_sc_e, Skin_sc_e)\n",
      "d[QSkin_sc_u]/dt = f_su * conc(QSkin_u, Skin_u) / PCSkin_sc\n",
      "                   - f_su * conc(QSkin_sc_u, Skin_sc_u)\n",
      "d[QSkin_sc_e]/dt = f_se * conc(QSkin_e, Skin_e) / PCSkin_sc\n",
      "                   - f_se * conc(QSkin_sc_e, Skin_sc_e)\n",
      "d[QArt]/dt = - Falv * (QArt / Art) / PCAir\n",
      "             + FBlood * (QAir / Air)\n",
      "             - FFat * (QArt / Art)\n",
      "             - FRich * (QArt / Art)\n",
      "             - FPoor * (QArt / Art)\n",
      "             - FLiver * (QArt / Art)\n",
      "             - FSkin_u * (QArt / Art)\n",
      "             - FSkin_e * (QArt / Art)\n",
      "             + FBlood * (QVen / Ven)\n",
      "             - Ke * fub * (QArt / Art)\n",
      "d[QVen]/dt = FFat * (QFat / Fat) / PCFat\n",
      "             + FRich * (QRich / Rich) / PCRich\n",
      "             + FPoor * (QPoor / Poor) / PCPoor\n",
      "             + FLiver * (QLiver / Liver) / PCLiver\n",
      "             + FSkin_u * conc(QSkin_u, Skin_u) / PCSkin\n",
      "             + FSkin_e * conc(QSkin_e, Skin_e) / PCSkin\n",
      "             - FBlood * (QVen / Ven)\n",
      "d[QExcret]/dt = Ke * fub * (QArt / Art)\n",
      "d[QAir]/dt = Falv * (QArt / Art) / PCAir\n",
      "             - FBlood * (QAir / Air)\n"
     ]
    }
   ],
   "source": [
    "# Get the list of species IDs\n",
    "species_ids = [species.getId() for species in model.getListOfSpecies()]\n",
    "\n",
    "# Initialize dictionaries to store the differential equations and reaction rates\n",
    "differential_equations = {}\n",
    "reaction_rates = {}\n",
    "\n",
    "# Iterate over the reactions in the model\n",
    "for i in range(model.getNumReactions()):\n",
    "    reaction = model.getReaction(i)\n",
    "    \n",
    "    # Get the kinetic law associated with the reaction\n",
    "    kinetic_law = reaction.getKineticLaw()\n",
    "    if kinetic_law is None:\n",
    "        continue\n",
    "    \n",
    "    # Get the reaction rate formula\n",
    "    rate_formula = ls.formulaToString(kinetic_law.getMath())\n",
    "    \n",
    "    # Iterate over the reactants and products of the reaction\n",
    "    for j in range(reaction.getNumReactants()):\n",
    "        reactant = reaction.getReactant(j)\n",
    "        species_id = reactant.getSpecies()\n",
    "        \n",
    "        # Add the reaction rate to the dictionary\n",
    "        if species_id in reaction_rates:\n",
    "            reaction_rates[species_id].append(f\"- {rate_formula}\")\n",
    "        else:\n",
    "            reaction_rates[species_id] = [f\"- {rate_formula}\"]\n",
    "    \n",
    "    for j in range(reaction.getNumProducts()):\n",
    "        product = reaction.getProduct(j)\n",
    "        species_id = product.getSpecies()\n",
    "        \n",
    "        # Add the negative reaction rate to the dictionary\n",
    "        if species_id in reaction_rates:\n",
    "            reaction_rates[species_id].append(rate_formula)\n",
    "        else:\n",
    "            reaction_rates[species_id] = [rate_formula]\n",
    "\n",
    "# Construct the differential equations for each species\n",
    "for species_id in species_ids:\n",
    "    if species_id in reaction_rates:\n",
    "        new_line = '\\n'\n",
    "        pref = f'{new_line}{\" \" * (len(species_id) + 8)}'\n",
    "        equation = f\"d[{species_id}]/dt = {f'{pref} + '.join(reaction_rates[species_id])}\"\n",
    "        differential_equations[species_id] = equation.replace(\"+ -\", \"-\")\n",
    "\n",
    "# Print the differential equations for each species\n",
    "for species_id, equation in differential_equations.items():\n",
    "    print(equation)"
   ]
  }
 ],
 "metadata": {
  "kernelspec": {
   "display_name": ".venv",
   "language": "python",
   "name": "python3"
  },
  "language_info": {
   "codemirror_mode": {
    "name": "ipython",
    "version": 3
   },
   "file_extension": ".py",
   "mimetype": "text/x-python",
   "name": "python",
   "nbconvert_exporter": "python",
   "pygments_lexer": "ipython3",
   "version": "3.12.5"
  },
  "orig_nbformat": 4
 },
 "nbformat": 4,
 "nbformat_minor": 2
}
